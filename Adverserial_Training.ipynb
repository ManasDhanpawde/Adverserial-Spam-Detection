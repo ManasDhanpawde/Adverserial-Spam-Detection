{
  "nbformat": 4,
  "nbformat_minor": 0,
  "metadata": {
    "colab": {
      "provenance": [],
      "gpuType": "T4"
    },
    "kernelspec": {
      "name": "python3",
      "display_name": "Python 3"
    },
    "language_info": {
      "name": "python"
    },
    "accelerator": "GPU",
    "widgets": {
      "application/vnd.jupyter.widget-state+json": {
        "91d9f1f919584181b13ce02dee91c9a2": {
          "model_module": "@jupyter-widgets/controls",
          "model_name": "HBoxModel",
          "model_module_version": "1.5.0",
          "state": {
            "_dom_classes": [],
            "_model_module": "@jupyter-widgets/controls",
            "_model_module_version": "1.5.0",
            "_model_name": "HBoxModel",
            "_view_count": null,
            "_view_module": "@jupyter-widgets/controls",
            "_view_module_version": "1.5.0",
            "_view_name": "HBoxView",
            "box_style": "",
            "children": [
              "IPY_MODEL_0d7012c2f78e480baf169013d50a1643",
              "IPY_MODEL_88d36feccac1482797f2765e7b4369f1",
              "IPY_MODEL_2d1c1db803f54e03b830f543c7a8cc83"
            ],
            "layout": "IPY_MODEL_e0eed58677314e62b3677efd6760c1b2"
          }
        },
        "0d7012c2f78e480baf169013d50a1643": {
          "model_module": "@jupyter-widgets/controls",
          "model_name": "HTMLModel",
          "model_module_version": "1.5.0",
          "state": {
            "_dom_classes": [],
            "_model_module": "@jupyter-widgets/controls",
            "_model_module_version": "1.5.0",
            "_model_name": "HTMLModel",
            "_view_count": null,
            "_view_module": "@jupyter-widgets/controls",
            "_view_module_version": "1.5.0",
            "_view_name": "HTMLView",
            "description": "",
            "description_tooltip": null,
            "layout": "IPY_MODEL_fbf1b121db394754a9cceca79041042d",
            "placeholder": "​",
            "style": "IPY_MODEL_33722133f14946c1ab93dbdd669da0c2",
            "value": "tokenizer_config.json: 100%"
          }
        },
        "88d36feccac1482797f2765e7b4369f1": {
          "model_module": "@jupyter-widgets/controls",
          "model_name": "FloatProgressModel",
          "model_module_version": "1.5.0",
          "state": {
            "_dom_classes": [],
            "_model_module": "@jupyter-widgets/controls",
            "_model_module_version": "1.5.0",
            "_model_name": "FloatProgressModel",
            "_view_count": null,
            "_view_module": "@jupyter-widgets/controls",
            "_view_module_version": "1.5.0",
            "_view_name": "ProgressView",
            "bar_style": "success",
            "description": "",
            "description_tooltip": null,
            "layout": "IPY_MODEL_1c62953aa0d449d7902edd15a4162bc0",
            "max": 48,
            "min": 0,
            "orientation": "horizontal",
            "style": "IPY_MODEL_4a33c4ae91ed44c0adf0701447b1a033",
            "value": 48
          }
        },
        "2d1c1db803f54e03b830f543c7a8cc83": {
          "model_module": "@jupyter-widgets/controls",
          "model_name": "HTMLModel",
          "model_module_version": "1.5.0",
          "state": {
            "_dom_classes": [],
            "_model_module": "@jupyter-widgets/controls",
            "_model_module_version": "1.5.0",
            "_model_name": "HTMLModel",
            "_view_count": null,
            "_view_module": "@jupyter-widgets/controls",
            "_view_module_version": "1.5.0",
            "_view_name": "HTMLView",
            "description": "",
            "description_tooltip": null,
            "layout": "IPY_MODEL_5eb99b57a8004cdaaf8fe0d618a24b7d",
            "placeholder": "​",
            "style": "IPY_MODEL_f28540fbd76548c286cd15a863a6a0c1",
            "value": " 48.0/48.0 [00:00&lt;00:00, 1.93kB/s]"
          }
        },
        "e0eed58677314e62b3677efd6760c1b2": {
          "model_module": "@jupyter-widgets/base",
          "model_name": "LayoutModel",
          "model_module_version": "1.2.0",
          "state": {
            "_model_module": "@jupyter-widgets/base",
            "_model_module_version": "1.2.0",
            "_model_name": "LayoutModel",
            "_view_count": null,
            "_view_module": "@jupyter-widgets/base",
            "_view_module_version": "1.2.0",
            "_view_name": "LayoutView",
            "align_content": null,
            "align_items": null,
            "align_self": null,
            "border": null,
            "bottom": null,
            "display": null,
            "flex": null,
            "flex_flow": null,
            "grid_area": null,
            "grid_auto_columns": null,
            "grid_auto_flow": null,
            "grid_auto_rows": null,
            "grid_column": null,
            "grid_gap": null,
            "grid_row": null,
            "grid_template_areas": null,
            "grid_template_columns": null,
            "grid_template_rows": null,
            "height": null,
            "justify_content": null,
            "justify_items": null,
            "left": null,
            "margin": null,
            "max_height": null,
            "max_width": null,
            "min_height": null,
            "min_width": null,
            "object_fit": null,
            "object_position": null,
            "order": null,
            "overflow": null,
            "overflow_x": null,
            "overflow_y": null,
            "padding": null,
            "right": null,
            "top": null,
            "visibility": null,
            "width": null
          }
        },
        "fbf1b121db394754a9cceca79041042d": {
          "model_module": "@jupyter-widgets/base",
          "model_name": "LayoutModel",
          "model_module_version": "1.2.0",
          "state": {
            "_model_module": "@jupyter-widgets/base",
            "_model_module_version": "1.2.0",
            "_model_name": "LayoutModel",
            "_view_count": null,
            "_view_module": "@jupyter-widgets/base",
            "_view_module_version": "1.2.0",
            "_view_name": "LayoutView",
            "align_content": null,
            "align_items": null,
            "align_self": null,
            "border": null,
            "bottom": null,
            "display": null,
            "flex": null,
            "flex_flow": null,
            "grid_area": null,
            "grid_auto_columns": null,
            "grid_auto_flow": null,
            "grid_auto_rows": null,
            "grid_column": null,
            "grid_gap": null,
            "grid_row": null,
            "grid_template_areas": null,
            "grid_template_columns": null,
            "grid_template_rows": null,
            "height": null,
            "justify_content": null,
            "justify_items": null,
            "left": null,
            "margin": null,
            "max_height": null,
            "max_width": null,
            "min_height": null,
            "min_width": null,
            "object_fit": null,
            "object_position": null,
            "order": null,
            "overflow": null,
            "overflow_x": null,
            "overflow_y": null,
            "padding": null,
            "right": null,
            "top": null,
            "visibility": null,
            "width": null
          }
        },
        "33722133f14946c1ab93dbdd669da0c2": {
          "model_module": "@jupyter-widgets/controls",
          "model_name": "DescriptionStyleModel",
          "model_module_version": "1.5.0",
          "state": {
            "_model_module": "@jupyter-widgets/controls",
            "_model_module_version": "1.5.0",
            "_model_name": "DescriptionStyleModel",
            "_view_count": null,
            "_view_module": "@jupyter-widgets/base",
            "_view_module_version": "1.2.0",
            "_view_name": "StyleView",
            "description_width": ""
          }
        },
        "1c62953aa0d449d7902edd15a4162bc0": {
          "model_module": "@jupyter-widgets/base",
          "model_name": "LayoutModel",
          "model_module_version": "1.2.0",
          "state": {
            "_model_module": "@jupyter-widgets/base",
            "_model_module_version": "1.2.0",
            "_model_name": "LayoutModel",
            "_view_count": null,
            "_view_module": "@jupyter-widgets/base",
            "_view_module_version": "1.2.0",
            "_view_name": "LayoutView",
            "align_content": null,
            "align_items": null,
            "align_self": null,
            "border": null,
            "bottom": null,
            "display": null,
            "flex": null,
            "flex_flow": null,
            "grid_area": null,
            "grid_auto_columns": null,
            "grid_auto_flow": null,
            "grid_auto_rows": null,
            "grid_column": null,
            "grid_gap": null,
            "grid_row": null,
            "grid_template_areas": null,
            "grid_template_columns": null,
            "grid_template_rows": null,
            "height": null,
            "justify_content": null,
            "justify_items": null,
            "left": null,
            "margin": null,
            "max_height": null,
            "max_width": null,
            "min_height": null,
            "min_width": null,
            "object_fit": null,
            "object_position": null,
            "order": null,
            "overflow": null,
            "overflow_x": null,
            "overflow_y": null,
            "padding": null,
            "right": null,
            "top": null,
            "visibility": null,
            "width": null
          }
        },
        "4a33c4ae91ed44c0adf0701447b1a033": {
          "model_module": "@jupyter-widgets/controls",
          "model_name": "ProgressStyleModel",
          "model_module_version": "1.5.0",
          "state": {
            "_model_module": "@jupyter-widgets/controls",
            "_model_module_version": "1.5.0",
            "_model_name": "ProgressStyleModel",
            "_view_count": null,
            "_view_module": "@jupyter-widgets/base",
            "_view_module_version": "1.2.0",
            "_view_name": "StyleView",
            "bar_color": null,
            "description_width": ""
          }
        },
        "5eb99b57a8004cdaaf8fe0d618a24b7d": {
          "model_module": "@jupyter-widgets/base",
          "model_name": "LayoutModel",
          "model_module_version": "1.2.0",
          "state": {
            "_model_module": "@jupyter-widgets/base",
            "_model_module_version": "1.2.0",
            "_model_name": "LayoutModel",
            "_view_count": null,
            "_view_module": "@jupyter-widgets/base",
            "_view_module_version": "1.2.0",
            "_view_name": "LayoutView",
            "align_content": null,
            "align_items": null,
            "align_self": null,
            "border": null,
            "bottom": null,
            "display": null,
            "flex": null,
            "flex_flow": null,
            "grid_area": null,
            "grid_auto_columns": null,
            "grid_auto_flow": null,
            "grid_auto_rows": null,
            "grid_column": null,
            "grid_gap": null,
            "grid_row": null,
            "grid_template_areas": null,
            "grid_template_columns": null,
            "grid_template_rows": null,
            "height": null,
            "justify_content": null,
            "justify_items": null,
            "left": null,
            "margin": null,
            "max_height": null,
            "max_width": null,
            "min_height": null,
            "min_width": null,
            "object_fit": null,
            "object_position": null,
            "order": null,
            "overflow": null,
            "overflow_x": null,
            "overflow_y": null,
            "padding": null,
            "right": null,
            "top": null,
            "visibility": null,
            "width": null
          }
        },
        "f28540fbd76548c286cd15a863a6a0c1": {
          "model_module": "@jupyter-widgets/controls",
          "model_name": "DescriptionStyleModel",
          "model_module_version": "1.5.0",
          "state": {
            "_model_module": "@jupyter-widgets/controls",
            "_model_module_version": "1.5.0",
            "_model_name": "DescriptionStyleModel",
            "_view_count": null,
            "_view_module": "@jupyter-widgets/base",
            "_view_module_version": "1.2.0",
            "_view_name": "StyleView",
            "description_width": ""
          }
        },
        "b49f2dbdae8c4b59a1bd64277b8ff0cc": {
          "model_module": "@jupyter-widgets/controls",
          "model_name": "HBoxModel",
          "model_module_version": "1.5.0",
          "state": {
            "_dom_classes": [],
            "_model_module": "@jupyter-widgets/controls",
            "_model_module_version": "1.5.0",
            "_model_name": "HBoxModel",
            "_view_count": null,
            "_view_module": "@jupyter-widgets/controls",
            "_view_module_version": "1.5.0",
            "_view_name": "HBoxView",
            "box_style": "",
            "children": [
              "IPY_MODEL_d6afd4660ff446aeb17e0caae82ef566",
              "IPY_MODEL_3706c952ce3f4ed78dcfd1ced46b83e0",
              "IPY_MODEL_478691a25e60463d8661442c9036874b"
            ],
            "layout": "IPY_MODEL_85f5bbd3cbe543128a34601d0abbcbe2"
          }
        },
        "d6afd4660ff446aeb17e0caae82ef566": {
          "model_module": "@jupyter-widgets/controls",
          "model_name": "HTMLModel",
          "model_module_version": "1.5.0",
          "state": {
            "_dom_classes": [],
            "_model_module": "@jupyter-widgets/controls",
            "_model_module_version": "1.5.0",
            "_model_name": "HTMLModel",
            "_view_count": null,
            "_view_module": "@jupyter-widgets/controls",
            "_view_module_version": "1.5.0",
            "_view_name": "HTMLView",
            "description": "",
            "description_tooltip": null,
            "layout": "IPY_MODEL_9a6d4d9664a3494b9aa86e9ca75047f7",
            "placeholder": "​",
            "style": "IPY_MODEL_1cd14f19b64a4a31833a09229590fe75",
            "value": "config.json: 100%"
          }
        },
        "3706c952ce3f4ed78dcfd1ced46b83e0": {
          "model_module": "@jupyter-widgets/controls",
          "model_name": "FloatProgressModel",
          "model_module_version": "1.5.0",
          "state": {
            "_dom_classes": [],
            "_model_module": "@jupyter-widgets/controls",
            "_model_module_version": "1.5.0",
            "_model_name": "FloatProgressModel",
            "_view_count": null,
            "_view_module": "@jupyter-widgets/controls",
            "_view_module_version": "1.5.0",
            "_view_name": "ProgressView",
            "bar_style": "success",
            "description": "",
            "description_tooltip": null,
            "layout": "IPY_MODEL_a8f1529a55444596aebc8b74258f767c",
            "max": 483,
            "min": 0,
            "orientation": "horizontal",
            "style": "IPY_MODEL_774329f82a854a04a46031524a6d380a",
            "value": 483
          }
        },
        "478691a25e60463d8661442c9036874b": {
          "model_module": "@jupyter-widgets/controls",
          "model_name": "HTMLModel",
          "model_module_version": "1.5.0",
          "state": {
            "_dom_classes": [],
            "_model_module": "@jupyter-widgets/controls",
            "_model_module_version": "1.5.0",
            "_model_name": "HTMLModel",
            "_view_count": null,
            "_view_module": "@jupyter-widgets/controls",
            "_view_module_version": "1.5.0",
            "_view_name": "HTMLView",
            "description": "",
            "description_tooltip": null,
            "layout": "IPY_MODEL_6f2e71fd44be4375afb507738cddad4b",
            "placeholder": "​",
            "style": "IPY_MODEL_be16740aae5a4cdf81da1246ce806105",
            "value": " 483/483 [00:00&lt;00:00, 24.5kB/s]"
          }
        },
        "85f5bbd3cbe543128a34601d0abbcbe2": {
          "model_module": "@jupyter-widgets/base",
          "model_name": "LayoutModel",
          "model_module_version": "1.2.0",
          "state": {
            "_model_module": "@jupyter-widgets/base",
            "_model_module_version": "1.2.0",
            "_model_name": "LayoutModel",
            "_view_count": null,
            "_view_module": "@jupyter-widgets/base",
            "_view_module_version": "1.2.0",
            "_view_name": "LayoutView",
            "align_content": null,
            "align_items": null,
            "align_self": null,
            "border": null,
            "bottom": null,
            "display": null,
            "flex": null,
            "flex_flow": null,
            "grid_area": null,
            "grid_auto_columns": null,
            "grid_auto_flow": null,
            "grid_auto_rows": null,
            "grid_column": null,
            "grid_gap": null,
            "grid_row": null,
            "grid_template_areas": null,
            "grid_template_columns": null,
            "grid_template_rows": null,
            "height": null,
            "justify_content": null,
            "justify_items": null,
            "left": null,
            "margin": null,
            "max_height": null,
            "max_width": null,
            "min_height": null,
            "min_width": null,
            "object_fit": null,
            "object_position": null,
            "order": null,
            "overflow": null,
            "overflow_x": null,
            "overflow_y": null,
            "padding": null,
            "right": null,
            "top": null,
            "visibility": null,
            "width": null
          }
        },
        "9a6d4d9664a3494b9aa86e9ca75047f7": {
          "model_module": "@jupyter-widgets/base",
          "model_name": "LayoutModel",
          "model_module_version": "1.2.0",
          "state": {
            "_model_module": "@jupyter-widgets/base",
            "_model_module_version": "1.2.0",
            "_model_name": "LayoutModel",
            "_view_count": null,
            "_view_module": "@jupyter-widgets/base",
            "_view_module_version": "1.2.0",
            "_view_name": "LayoutView",
            "align_content": null,
            "align_items": null,
            "align_self": null,
            "border": null,
            "bottom": null,
            "display": null,
            "flex": null,
            "flex_flow": null,
            "grid_area": null,
            "grid_auto_columns": null,
            "grid_auto_flow": null,
            "grid_auto_rows": null,
            "grid_column": null,
            "grid_gap": null,
            "grid_row": null,
            "grid_template_areas": null,
            "grid_template_columns": null,
            "grid_template_rows": null,
            "height": null,
            "justify_content": null,
            "justify_items": null,
            "left": null,
            "margin": null,
            "max_height": null,
            "max_width": null,
            "min_height": null,
            "min_width": null,
            "object_fit": null,
            "object_position": null,
            "order": null,
            "overflow": null,
            "overflow_x": null,
            "overflow_y": null,
            "padding": null,
            "right": null,
            "top": null,
            "visibility": null,
            "width": null
          }
        },
        "1cd14f19b64a4a31833a09229590fe75": {
          "model_module": "@jupyter-widgets/controls",
          "model_name": "DescriptionStyleModel",
          "model_module_version": "1.5.0",
          "state": {
            "_model_module": "@jupyter-widgets/controls",
            "_model_module_version": "1.5.0",
            "_model_name": "DescriptionStyleModel",
            "_view_count": null,
            "_view_module": "@jupyter-widgets/base",
            "_view_module_version": "1.2.0",
            "_view_name": "StyleView",
            "description_width": ""
          }
        },
        "a8f1529a55444596aebc8b74258f767c": {
          "model_module": "@jupyter-widgets/base",
          "model_name": "LayoutModel",
          "model_module_version": "1.2.0",
          "state": {
            "_model_module": "@jupyter-widgets/base",
            "_model_module_version": "1.2.0",
            "_model_name": "LayoutModel",
            "_view_count": null,
            "_view_module": "@jupyter-widgets/base",
            "_view_module_version": "1.2.0",
            "_view_name": "LayoutView",
            "align_content": null,
            "align_items": null,
            "align_self": null,
            "border": null,
            "bottom": null,
            "display": null,
            "flex": null,
            "flex_flow": null,
            "grid_area": null,
            "grid_auto_columns": null,
            "grid_auto_flow": null,
            "grid_auto_rows": null,
            "grid_column": null,
            "grid_gap": null,
            "grid_row": null,
            "grid_template_areas": null,
            "grid_template_columns": null,
            "grid_template_rows": null,
            "height": null,
            "justify_content": null,
            "justify_items": null,
            "left": null,
            "margin": null,
            "max_height": null,
            "max_width": null,
            "min_height": null,
            "min_width": null,
            "object_fit": null,
            "object_position": null,
            "order": null,
            "overflow": null,
            "overflow_x": null,
            "overflow_y": null,
            "padding": null,
            "right": null,
            "top": null,
            "visibility": null,
            "width": null
          }
        },
        "774329f82a854a04a46031524a6d380a": {
          "model_module": "@jupyter-widgets/controls",
          "model_name": "ProgressStyleModel",
          "model_module_version": "1.5.0",
          "state": {
            "_model_module": "@jupyter-widgets/controls",
            "_model_module_version": "1.5.0",
            "_model_name": "ProgressStyleModel",
            "_view_count": null,
            "_view_module": "@jupyter-widgets/base",
            "_view_module_version": "1.2.0",
            "_view_name": "StyleView",
            "bar_color": null,
            "description_width": ""
          }
        },
        "6f2e71fd44be4375afb507738cddad4b": {
          "model_module": "@jupyter-widgets/base",
          "model_name": "LayoutModel",
          "model_module_version": "1.2.0",
          "state": {
            "_model_module": "@jupyter-widgets/base",
            "_model_module_version": "1.2.0",
            "_model_name": "LayoutModel",
            "_view_count": null,
            "_view_module": "@jupyter-widgets/base",
            "_view_module_version": "1.2.0",
            "_view_name": "LayoutView",
            "align_content": null,
            "align_items": null,
            "align_self": null,
            "border": null,
            "bottom": null,
            "display": null,
            "flex": null,
            "flex_flow": null,
            "grid_area": null,
            "grid_auto_columns": null,
            "grid_auto_flow": null,
            "grid_auto_rows": null,
            "grid_column": null,
            "grid_gap": null,
            "grid_row": null,
            "grid_template_areas": null,
            "grid_template_columns": null,
            "grid_template_rows": null,
            "height": null,
            "justify_content": null,
            "justify_items": null,
            "left": null,
            "margin": null,
            "max_height": null,
            "max_width": null,
            "min_height": null,
            "min_width": null,
            "object_fit": null,
            "object_position": null,
            "order": null,
            "overflow": null,
            "overflow_x": null,
            "overflow_y": null,
            "padding": null,
            "right": null,
            "top": null,
            "visibility": null,
            "width": null
          }
        },
        "be16740aae5a4cdf81da1246ce806105": {
          "model_module": "@jupyter-widgets/controls",
          "model_name": "DescriptionStyleModel",
          "model_module_version": "1.5.0",
          "state": {
            "_model_module": "@jupyter-widgets/controls",
            "_model_module_version": "1.5.0",
            "_model_name": "DescriptionStyleModel",
            "_view_count": null,
            "_view_module": "@jupyter-widgets/base",
            "_view_module_version": "1.2.0",
            "_view_name": "StyleView",
            "description_width": ""
          }
        },
        "3f5e462f809446d6935b254c324794e7": {
          "model_module": "@jupyter-widgets/controls",
          "model_name": "HBoxModel",
          "model_module_version": "1.5.0",
          "state": {
            "_dom_classes": [],
            "_model_module": "@jupyter-widgets/controls",
            "_model_module_version": "1.5.0",
            "_model_name": "HBoxModel",
            "_view_count": null,
            "_view_module": "@jupyter-widgets/controls",
            "_view_module_version": "1.5.0",
            "_view_name": "HBoxView",
            "box_style": "",
            "children": [
              "IPY_MODEL_6bfb41eced9b4c8dab97e02ba7628059",
              "IPY_MODEL_9c7e2002917a460bad882c56f4a6831a",
              "IPY_MODEL_43cdfa7098134b49a3d6ffeb4c59569f"
            ],
            "layout": "IPY_MODEL_bdc36f8d3d204cb48fdb3a92e493fce5"
          }
        },
        "6bfb41eced9b4c8dab97e02ba7628059": {
          "model_module": "@jupyter-widgets/controls",
          "model_name": "HTMLModel",
          "model_module_version": "1.5.0",
          "state": {
            "_dom_classes": [],
            "_model_module": "@jupyter-widgets/controls",
            "_model_module_version": "1.5.0",
            "_model_name": "HTMLModel",
            "_view_count": null,
            "_view_module": "@jupyter-widgets/controls",
            "_view_module_version": "1.5.0",
            "_view_name": "HTMLView",
            "description": "",
            "description_tooltip": null,
            "layout": "IPY_MODEL_6142e1bb19d7435692fd228ef08b6afb",
            "placeholder": "​",
            "style": "IPY_MODEL_a2e896acf9a34b90b1a4d241bd0dbdec",
            "value": "vocab.txt: 100%"
          }
        },
        "9c7e2002917a460bad882c56f4a6831a": {
          "model_module": "@jupyter-widgets/controls",
          "model_name": "FloatProgressModel",
          "model_module_version": "1.5.0",
          "state": {
            "_dom_classes": [],
            "_model_module": "@jupyter-widgets/controls",
            "_model_module_version": "1.5.0",
            "_model_name": "FloatProgressModel",
            "_view_count": null,
            "_view_module": "@jupyter-widgets/controls",
            "_view_module_version": "1.5.0",
            "_view_name": "ProgressView",
            "bar_style": "success",
            "description": "",
            "description_tooltip": null,
            "layout": "IPY_MODEL_495833e444e74efda7ba2af930d4605f",
            "max": 231508,
            "min": 0,
            "orientation": "horizontal",
            "style": "IPY_MODEL_1fa77cb9c4ff44fa97c1be9158656d74",
            "value": 231508
          }
        },
        "43cdfa7098134b49a3d6ffeb4c59569f": {
          "model_module": "@jupyter-widgets/controls",
          "model_name": "HTMLModel",
          "model_module_version": "1.5.0",
          "state": {
            "_dom_classes": [],
            "_model_module": "@jupyter-widgets/controls",
            "_model_module_version": "1.5.0",
            "_model_name": "HTMLModel",
            "_view_count": null,
            "_view_module": "@jupyter-widgets/controls",
            "_view_module_version": "1.5.0",
            "_view_name": "HTMLView",
            "description": "",
            "description_tooltip": null,
            "layout": "IPY_MODEL_76d913f3a96f47389aa03c6c6d3775e5",
            "placeholder": "​",
            "style": "IPY_MODEL_f1076567cb114a65bde47c98b473d64e",
            "value": " 232k/232k [00:00&lt;00:00, 3.12MB/s]"
          }
        },
        "bdc36f8d3d204cb48fdb3a92e493fce5": {
          "model_module": "@jupyter-widgets/base",
          "model_name": "LayoutModel",
          "model_module_version": "1.2.0",
          "state": {
            "_model_module": "@jupyter-widgets/base",
            "_model_module_version": "1.2.0",
            "_model_name": "LayoutModel",
            "_view_count": null,
            "_view_module": "@jupyter-widgets/base",
            "_view_module_version": "1.2.0",
            "_view_name": "LayoutView",
            "align_content": null,
            "align_items": null,
            "align_self": null,
            "border": null,
            "bottom": null,
            "display": null,
            "flex": null,
            "flex_flow": null,
            "grid_area": null,
            "grid_auto_columns": null,
            "grid_auto_flow": null,
            "grid_auto_rows": null,
            "grid_column": null,
            "grid_gap": null,
            "grid_row": null,
            "grid_template_areas": null,
            "grid_template_columns": null,
            "grid_template_rows": null,
            "height": null,
            "justify_content": null,
            "justify_items": null,
            "left": null,
            "margin": null,
            "max_height": null,
            "max_width": null,
            "min_height": null,
            "min_width": null,
            "object_fit": null,
            "object_position": null,
            "order": null,
            "overflow": null,
            "overflow_x": null,
            "overflow_y": null,
            "padding": null,
            "right": null,
            "top": null,
            "visibility": null,
            "width": null
          }
        },
        "6142e1bb19d7435692fd228ef08b6afb": {
          "model_module": "@jupyter-widgets/base",
          "model_name": "LayoutModel",
          "model_module_version": "1.2.0",
          "state": {
            "_model_module": "@jupyter-widgets/base",
            "_model_module_version": "1.2.0",
            "_model_name": "LayoutModel",
            "_view_count": null,
            "_view_module": "@jupyter-widgets/base",
            "_view_module_version": "1.2.0",
            "_view_name": "LayoutView",
            "align_content": null,
            "align_items": null,
            "align_self": null,
            "border": null,
            "bottom": null,
            "display": null,
            "flex": null,
            "flex_flow": null,
            "grid_area": null,
            "grid_auto_columns": null,
            "grid_auto_flow": null,
            "grid_auto_rows": null,
            "grid_column": null,
            "grid_gap": null,
            "grid_row": null,
            "grid_template_areas": null,
            "grid_template_columns": null,
            "grid_template_rows": null,
            "height": null,
            "justify_content": null,
            "justify_items": null,
            "left": null,
            "margin": null,
            "max_height": null,
            "max_width": null,
            "min_height": null,
            "min_width": null,
            "object_fit": null,
            "object_position": null,
            "order": null,
            "overflow": null,
            "overflow_x": null,
            "overflow_y": null,
            "padding": null,
            "right": null,
            "top": null,
            "visibility": null,
            "width": null
          }
        },
        "a2e896acf9a34b90b1a4d241bd0dbdec": {
          "model_module": "@jupyter-widgets/controls",
          "model_name": "DescriptionStyleModel",
          "model_module_version": "1.5.0",
          "state": {
            "_model_module": "@jupyter-widgets/controls",
            "_model_module_version": "1.5.0",
            "_model_name": "DescriptionStyleModel",
            "_view_count": null,
            "_view_module": "@jupyter-widgets/base",
            "_view_module_version": "1.2.0",
            "_view_name": "StyleView",
            "description_width": ""
          }
        },
        "495833e444e74efda7ba2af930d4605f": {
          "model_module": "@jupyter-widgets/base",
          "model_name": "LayoutModel",
          "model_module_version": "1.2.0",
          "state": {
            "_model_module": "@jupyter-widgets/base",
            "_model_module_version": "1.2.0",
            "_model_name": "LayoutModel",
            "_view_count": null,
            "_view_module": "@jupyter-widgets/base",
            "_view_module_version": "1.2.0",
            "_view_name": "LayoutView",
            "align_content": null,
            "align_items": null,
            "align_self": null,
            "border": null,
            "bottom": null,
            "display": null,
            "flex": null,
            "flex_flow": null,
            "grid_area": null,
            "grid_auto_columns": null,
            "grid_auto_flow": null,
            "grid_auto_rows": null,
            "grid_column": null,
            "grid_gap": null,
            "grid_row": null,
            "grid_template_areas": null,
            "grid_template_columns": null,
            "grid_template_rows": null,
            "height": null,
            "justify_content": null,
            "justify_items": null,
            "left": null,
            "margin": null,
            "max_height": null,
            "max_width": null,
            "min_height": null,
            "min_width": null,
            "object_fit": null,
            "object_position": null,
            "order": null,
            "overflow": null,
            "overflow_x": null,
            "overflow_y": null,
            "padding": null,
            "right": null,
            "top": null,
            "visibility": null,
            "width": null
          }
        },
        "1fa77cb9c4ff44fa97c1be9158656d74": {
          "model_module": "@jupyter-widgets/controls",
          "model_name": "ProgressStyleModel",
          "model_module_version": "1.5.0",
          "state": {
            "_model_module": "@jupyter-widgets/controls",
            "_model_module_version": "1.5.0",
            "_model_name": "ProgressStyleModel",
            "_view_count": null,
            "_view_module": "@jupyter-widgets/base",
            "_view_module_version": "1.2.0",
            "_view_name": "StyleView",
            "bar_color": null,
            "description_width": ""
          }
        },
        "76d913f3a96f47389aa03c6c6d3775e5": {
          "model_module": "@jupyter-widgets/base",
          "model_name": "LayoutModel",
          "model_module_version": "1.2.0",
          "state": {
            "_model_module": "@jupyter-widgets/base",
            "_model_module_version": "1.2.0",
            "_model_name": "LayoutModel",
            "_view_count": null,
            "_view_module": "@jupyter-widgets/base",
            "_view_module_version": "1.2.0",
            "_view_name": "LayoutView",
            "align_content": null,
            "align_items": null,
            "align_self": null,
            "border": null,
            "bottom": null,
            "display": null,
            "flex": null,
            "flex_flow": null,
            "grid_area": null,
            "grid_auto_columns": null,
            "grid_auto_flow": null,
            "grid_auto_rows": null,
            "grid_column": null,
            "grid_gap": null,
            "grid_row": null,
            "grid_template_areas": null,
            "grid_template_columns": null,
            "grid_template_rows": null,
            "height": null,
            "justify_content": null,
            "justify_items": null,
            "left": null,
            "margin": null,
            "max_height": null,
            "max_width": null,
            "min_height": null,
            "min_width": null,
            "object_fit": null,
            "object_position": null,
            "order": null,
            "overflow": null,
            "overflow_x": null,
            "overflow_y": null,
            "padding": null,
            "right": null,
            "top": null,
            "visibility": null,
            "width": null
          }
        },
        "f1076567cb114a65bde47c98b473d64e": {
          "model_module": "@jupyter-widgets/controls",
          "model_name": "DescriptionStyleModel",
          "model_module_version": "1.5.0",
          "state": {
            "_model_module": "@jupyter-widgets/controls",
            "_model_module_version": "1.5.0",
            "_model_name": "DescriptionStyleModel",
            "_view_count": null,
            "_view_module": "@jupyter-widgets/base",
            "_view_module_version": "1.2.0",
            "_view_name": "StyleView",
            "description_width": ""
          }
        },
        "780eea01e79d42979554cecac1e209d0": {
          "model_module": "@jupyter-widgets/controls",
          "model_name": "HBoxModel",
          "model_module_version": "1.5.0",
          "state": {
            "_dom_classes": [],
            "_model_module": "@jupyter-widgets/controls",
            "_model_module_version": "1.5.0",
            "_model_name": "HBoxModel",
            "_view_count": null,
            "_view_module": "@jupyter-widgets/controls",
            "_view_module_version": "1.5.0",
            "_view_name": "HBoxView",
            "box_style": "",
            "children": [
              "IPY_MODEL_ce13f21721ce45eb9cc3d2109e3cdaf0",
              "IPY_MODEL_a25b1fe18c2b4eaeb24c35a704d3c312",
              "IPY_MODEL_7292a9e58fb549b18816d1932c221c64"
            ],
            "layout": "IPY_MODEL_2d125bd3ebbf4d4c8ffc81c07e2d1508"
          }
        },
        "ce13f21721ce45eb9cc3d2109e3cdaf0": {
          "model_module": "@jupyter-widgets/controls",
          "model_name": "HTMLModel",
          "model_module_version": "1.5.0",
          "state": {
            "_dom_classes": [],
            "_model_module": "@jupyter-widgets/controls",
            "_model_module_version": "1.5.0",
            "_model_name": "HTMLModel",
            "_view_count": null,
            "_view_module": "@jupyter-widgets/controls",
            "_view_module_version": "1.5.0",
            "_view_name": "HTMLView",
            "description": "",
            "description_tooltip": null,
            "layout": "IPY_MODEL_bc5c06a2902b4bf187bb4e4fff47ea1f",
            "placeholder": "​",
            "style": "IPY_MODEL_a21e89a8ef264eb0b207b626a673e3d2",
            "value": "tokenizer.json: 100%"
          }
        },
        "a25b1fe18c2b4eaeb24c35a704d3c312": {
          "model_module": "@jupyter-widgets/controls",
          "model_name": "FloatProgressModel",
          "model_module_version": "1.5.0",
          "state": {
            "_dom_classes": [],
            "_model_module": "@jupyter-widgets/controls",
            "_model_module_version": "1.5.0",
            "_model_name": "FloatProgressModel",
            "_view_count": null,
            "_view_module": "@jupyter-widgets/controls",
            "_view_module_version": "1.5.0",
            "_view_name": "ProgressView",
            "bar_style": "success",
            "description": "",
            "description_tooltip": null,
            "layout": "IPY_MODEL_6cf7a5c43b2e482d8b428b3399ff797b",
            "max": 466062,
            "min": 0,
            "orientation": "horizontal",
            "style": "IPY_MODEL_471a7cb7440c40f89ecdb53a001751eb",
            "value": 466062
          }
        },
        "7292a9e58fb549b18816d1932c221c64": {
          "model_module": "@jupyter-widgets/controls",
          "model_name": "HTMLModel",
          "model_module_version": "1.5.0",
          "state": {
            "_dom_classes": [],
            "_model_module": "@jupyter-widgets/controls",
            "_model_module_version": "1.5.0",
            "_model_name": "HTMLModel",
            "_view_count": null,
            "_view_module": "@jupyter-widgets/controls",
            "_view_module_version": "1.5.0",
            "_view_name": "HTMLView",
            "description": "",
            "description_tooltip": null,
            "layout": "IPY_MODEL_40b1b169c7b6450c9c1e544f06d9b093",
            "placeholder": "​",
            "style": "IPY_MODEL_b0512a46cc3b42f4a80c0ea349d5eb48",
            "value": " 466k/466k [00:00&lt;00:00, 6.18MB/s]"
          }
        },
        "2d125bd3ebbf4d4c8ffc81c07e2d1508": {
          "model_module": "@jupyter-widgets/base",
          "model_name": "LayoutModel",
          "model_module_version": "1.2.0",
          "state": {
            "_model_module": "@jupyter-widgets/base",
            "_model_module_version": "1.2.0",
            "_model_name": "LayoutModel",
            "_view_count": null,
            "_view_module": "@jupyter-widgets/base",
            "_view_module_version": "1.2.0",
            "_view_name": "LayoutView",
            "align_content": null,
            "align_items": null,
            "align_self": null,
            "border": null,
            "bottom": null,
            "display": null,
            "flex": null,
            "flex_flow": null,
            "grid_area": null,
            "grid_auto_columns": null,
            "grid_auto_flow": null,
            "grid_auto_rows": null,
            "grid_column": null,
            "grid_gap": null,
            "grid_row": null,
            "grid_template_areas": null,
            "grid_template_columns": null,
            "grid_template_rows": null,
            "height": null,
            "justify_content": null,
            "justify_items": null,
            "left": null,
            "margin": null,
            "max_height": null,
            "max_width": null,
            "min_height": null,
            "min_width": null,
            "object_fit": null,
            "object_position": null,
            "order": null,
            "overflow": null,
            "overflow_x": null,
            "overflow_y": null,
            "padding": null,
            "right": null,
            "top": null,
            "visibility": null,
            "width": null
          }
        },
        "bc5c06a2902b4bf187bb4e4fff47ea1f": {
          "model_module": "@jupyter-widgets/base",
          "model_name": "LayoutModel",
          "model_module_version": "1.2.0",
          "state": {
            "_model_module": "@jupyter-widgets/base",
            "_model_module_version": "1.2.0",
            "_model_name": "LayoutModel",
            "_view_count": null,
            "_view_module": "@jupyter-widgets/base",
            "_view_module_version": "1.2.0",
            "_view_name": "LayoutView",
            "align_content": null,
            "align_items": null,
            "align_self": null,
            "border": null,
            "bottom": null,
            "display": null,
            "flex": null,
            "flex_flow": null,
            "grid_area": null,
            "grid_auto_columns": null,
            "grid_auto_flow": null,
            "grid_auto_rows": null,
            "grid_column": null,
            "grid_gap": null,
            "grid_row": null,
            "grid_template_areas": null,
            "grid_template_columns": null,
            "grid_template_rows": null,
            "height": null,
            "justify_content": null,
            "justify_items": null,
            "left": null,
            "margin": null,
            "max_height": null,
            "max_width": null,
            "min_height": null,
            "min_width": null,
            "object_fit": null,
            "object_position": null,
            "order": null,
            "overflow": null,
            "overflow_x": null,
            "overflow_y": null,
            "padding": null,
            "right": null,
            "top": null,
            "visibility": null,
            "width": null
          }
        },
        "a21e89a8ef264eb0b207b626a673e3d2": {
          "model_module": "@jupyter-widgets/controls",
          "model_name": "DescriptionStyleModel",
          "model_module_version": "1.5.0",
          "state": {
            "_model_module": "@jupyter-widgets/controls",
            "_model_module_version": "1.5.0",
            "_model_name": "DescriptionStyleModel",
            "_view_count": null,
            "_view_module": "@jupyter-widgets/base",
            "_view_module_version": "1.2.0",
            "_view_name": "StyleView",
            "description_width": ""
          }
        },
        "6cf7a5c43b2e482d8b428b3399ff797b": {
          "model_module": "@jupyter-widgets/base",
          "model_name": "LayoutModel",
          "model_module_version": "1.2.0",
          "state": {
            "_model_module": "@jupyter-widgets/base",
            "_model_module_version": "1.2.0",
            "_model_name": "LayoutModel",
            "_view_count": null,
            "_view_module": "@jupyter-widgets/base",
            "_view_module_version": "1.2.0",
            "_view_name": "LayoutView",
            "align_content": null,
            "align_items": null,
            "align_self": null,
            "border": null,
            "bottom": null,
            "display": null,
            "flex": null,
            "flex_flow": null,
            "grid_area": null,
            "grid_auto_columns": null,
            "grid_auto_flow": null,
            "grid_auto_rows": null,
            "grid_column": null,
            "grid_gap": null,
            "grid_row": null,
            "grid_template_areas": null,
            "grid_template_columns": null,
            "grid_template_rows": null,
            "height": null,
            "justify_content": null,
            "justify_items": null,
            "left": null,
            "margin": null,
            "max_height": null,
            "max_width": null,
            "min_height": null,
            "min_width": null,
            "object_fit": null,
            "object_position": null,
            "order": null,
            "overflow": null,
            "overflow_x": null,
            "overflow_y": null,
            "padding": null,
            "right": null,
            "top": null,
            "visibility": null,
            "width": null
          }
        },
        "471a7cb7440c40f89ecdb53a001751eb": {
          "model_module": "@jupyter-widgets/controls",
          "model_name": "ProgressStyleModel",
          "model_module_version": "1.5.0",
          "state": {
            "_model_module": "@jupyter-widgets/controls",
            "_model_module_version": "1.5.0",
            "_model_name": "ProgressStyleModel",
            "_view_count": null,
            "_view_module": "@jupyter-widgets/base",
            "_view_module_version": "1.2.0",
            "_view_name": "StyleView",
            "bar_color": null,
            "description_width": ""
          }
        },
        "40b1b169c7b6450c9c1e544f06d9b093": {
          "model_module": "@jupyter-widgets/base",
          "model_name": "LayoutModel",
          "model_module_version": "1.2.0",
          "state": {
            "_model_module": "@jupyter-widgets/base",
            "_model_module_version": "1.2.0",
            "_model_name": "LayoutModel",
            "_view_count": null,
            "_view_module": "@jupyter-widgets/base",
            "_view_module_version": "1.2.0",
            "_view_name": "LayoutView",
            "align_content": null,
            "align_items": null,
            "align_self": null,
            "border": null,
            "bottom": null,
            "display": null,
            "flex": null,
            "flex_flow": null,
            "grid_area": null,
            "grid_auto_columns": null,
            "grid_auto_flow": null,
            "grid_auto_rows": null,
            "grid_column": null,
            "grid_gap": null,
            "grid_row": null,
            "grid_template_areas": null,
            "grid_template_columns": null,
            "grid_template_rows": null,
            "height": null,
            "justify_content": null,
            "justify_items": null,
            "left": null,
            "margin": null,
            "max_height": null,
            "max_width": null,
            "min_height": null,
            "min_width": null,
            "object_fit": null,
            "object_position": null,
            "order": null,
            "overflow": null,
            "overflow_x": null,
            "overflow_y": null,
            "padding": null,
            "right": null,
            "top": null,
            "visibility": null,
            "width": null
          }
        },
        "b0512a46cc3b42f4a80c0ea349d5eb48": {
          "model_module": "@jupyter-widgets/controls",
          "model_name": "DescriptionStyleModel",
          "model_module_version": "1.5.0",
          "state": {
            "_model_module": "@jupyter-widgets/controls",
            "_model_module_version": "1.5.0",
            "_model_name": "DescriptionStyleModel",
            "_view_count": null,
            "_view_module": "@jupyter-widgets/base",
            "_view_module_version": "1.2.0",
            "_view_name": "StyleView",
            "description_width": ""
          }
        },
        "ab267b7840e44e7d92de8bd499b6bbe8": {
          "model_module": "@jupyter-widgets/controls",
          "model_name": "HBoxModel",
          "model_module_version": "1.5.0",
          "state": {
            "_dom_classes": [],
            "_model_module": "@jupyter-widgets/controls",
            "_model_module_version": "1.5.0",
            "_model_name": "HBoxModel",
            "_view_count": null,
            "_view_module": "@jupyter-widgets/controls",
            "_view_module_version": "1.5.0",
            "_view_name": "HBoxView",
            "box_style": "",
            "children": [
              "IPY_MODEL_61c752f0d12e40caaf6a4dce1cd402af",
              "IPY_MODEL_38106c64b8c448aaa3964afee4998979",
              "IPY_MODEL_90d9b442013840b59009d48b00a69cef"
            ],
            "layout": "IPY_MODEL_0c7190800c7e4fccb6a774e5de713b28"
          }
        },
        "61c752f0d12e40caaf6a4dce1cd402af": {
          "model_module": "@jupyter-widgets/controls",
          "model_name": "HTMLModel",
          "model_module_version": "1.5.0",
          "state": {
            "_dom_classes": [],
            "_model_module": "@jupyter-widgets/controls",
            "_model_module_version": "1.5.0",
            "_model_name": "HTMLModel",
            "_view_count": null,
            "_view_module": "@jupyter-widgets/controls",
            "_view_module_version": "1.5.0",
            "_view_name": "HTMLView",
            "description": "",
            "description_tooltip": null,
            "layout": "IPY_MODEL_1c9535c2691d47c19ac444a98706ba36",
            "placeholder": "​",
            "style": "IPY_MODEL_b998f95df9ea4ebb90fab1997f2c4788",
            "value": "Map: 100%"
          }
        },
        "38106c64b8c448aaa3964afee4998979": {
          "model_module": "@jupyter-widgets/controls",
          "model_name": "FloatProgressModel",
          "model_module_version": "1.5.0",
          "state": {
            "_dom_classes": [],
            "_model_module": "@jupyter-widgets/controls",
            "_model_module_version": "1.5.0",
            "_model_name": "FloatProgressModel",
            "_view_count": null,
            "_view_module": "@jupyter-widgets/controls",
            "_view_module_version": "1.5.0",
            "_view_name": "ProgressView",
            "bar_style": "success",
            "description": "",
            "description_tooltip": null,
            "layout": "IPY_MODEL_aba82aeaa85f4e0d93a4019f18237375",
            "max": 800,
            "min": 0,
            "orientation": "horizontal",
            "style": "IPY_MODEL_cfae16474a9343809514f22b36c5353c",
            "value": 800
          }
        },
        "90d9b442013840b59009d48b00a69cef": {
          "model_module": "@jupyter-widgets/controls",
          "model_name": "HTMLModel",
          "model_module_version": "1.5.0",
          "state": {
            "_dom_classes": [],
            "_model_module": "@jupyter-widgets/controls",
            "_model_module_version": "1.5.0",
            "_model_name": "HTMLModel",
            "_view_count": null,
            "_view_module": "@jupyter-widgets/controls",
            "_view_module_version": "1.5.0",
            "_view_name": "HTMLView",
            "description": "",
            "description_tooltip": null,
            "layout": "IPY_MODEL_6ff9abfcd61d4d138d40580b5354f6fb",
            "placeholder": "​",
            "style": "IPY_MODEL_8aca9b9dbd524f1294e872c29ff16cea",
            "value": " 800/800 [00:00&lt;00:00, 5245.79 examples/s]"
          }
        },
        "0c7190800c7e4fccb6a774e5de713b28": {
          "model_module": "@jupyter-widgets/base",
          "model_name": "LayoutModel",
          "model_module_version": "1.2.0",
          "state": {
            "_model_module": "@jupyter-widgets/base",
            "_model_module_version": "1.2.0",
            "_model_name": "LayoutModel",
            "_view_count": null,
            "_view_module": "@jupyter-widgets/base",
            "_view_module_version": "1.2.0",
            "_view_name": "LayoutView",
            "align_content": null,
            "align_items": null,
            "align_self": null,
            "border": null,
            "bottom": null,
            "display": null,
            "flex": null,
            "flex_flow": null,
            "grid_area": null,
            "grid_auto_columns": null,
            "grid_auto_flow": null,
            "grid_auto_rows": null,
            "grid_column": null,
            "grid_gap": null,
            "grid_row": null,
            "grid_template_areas": null,
            "grid_template_columns": null,
            "grid_template_rows": null,
            "height": null,
            "justify_content": null,
            "justify_items": null,
            "left": null,
            "margin": null,
            "max_height": null,
            "max_width": null,
            "min_height": null,
            "min_width": null,
            "object_fit": null,
            "object_position": null,
            "order": null,
            "overflow": null,
            "overflow_x": null,
            "overflow_y": null,
            "padding": null,
            "right": null,
            "top": null,
            "visibility": null,
            "width": null
          }
        },
        "1c9535c2691d47c19ac444a98706ba36": {
          "model_module": "@jupyter-widgets/base",
          "model_name": "LayoutModel",
          "model_module_version": "1.2.0",
          "state": {
            "_model_module": "@jupyter-widgets/base",
            "_model_module_version": "1.2.0",
            "_model_name": "LayoutModel",
            "_view_count": null,
            "_view_module": "@jupyter-widgets/base",
            "_view_module_version": "1.2.0",
            "_view_name": "LayoutView",
            "align_content": null,
            "align_items": null,
            "align_self": null,
            "border": null,
            "bottom": null,
            "display": null,
            "flex": null,
            "flex_flow": null,
            "grid_area": null,
            "grid_auto_columns": null,
            "grid_auto_flow": null,
            "grid_auto_rows": null,
            "grid_column": null,
            "grid_gap": null,
            "grid_row": null,
            "grid_template_areas": null,
            "grid_template_columns": null,
            "grid_template_rows": null,
            "height": null,
            "justify_content": null,
            "justify_items": null,
            "left": null,
            "margin": null,
            "max_height": null,
            "max_width": null,
            "min_height": null,
            "min_width": null,
            "object_fit": null,
            "object_position": null,
            "order": null,
            "overflow": null,
            "overflow_x": null,
            "overflow_y": null,
            "padding": null,
            "right": null,
            "top": null,
            "visibility": null,
            "width": null
          }
        },
        "b998f95df9ea4ebb90fab1997f2c4788": {
          "model_module": "@jupyter-widgets/controls",
          "model_name": "DescriptionStyleModel",
          "model_module_version": "1.5.0",
          "state": {
            "_model_module": "@jupyter-widgets/controls",
            "_model_module_version": "1.5.0",
            "_model_name": "DescriptionStyleModel",
            "_view_count": null,
            "_view_module": "@jupyter-widgets/base",
            "_view_module_version": "1.2.0",
            "_view_name": "StyleView",
            "description_width": ""
          }
        },
        "aba82aeaa85f4e0d93a4019f18237375": {
          "model_module": "@jupyter-widgets/base",
          "model_name": "LayoutModel",
          "model_module_version": "1.2.0",
          "state": {
            "_model_module": "@jupyter-widgets/base",
            "_model_module_version": "1.2.0",
            "_model_name": "LayoutModel",
            "_view_count": null,
            "_view_module": "@jupyter-widgets/base",
            "_view_module_version": "1.2.0",
            "_view_name": "LayoutView",
            "align_content": null,
            "align_items": null,
            "align_self": null,
            "border": null,
            "bottom": null,
            "display": null,
            "flex": null,
            "flex_flow": null,
            "grid_area": null,
            "grid_auto_columns": null,
            "grid_auto_flow": null,
            "grid_auto_rows": null,
            "grid_column": null,
            "grid_gap": null,
            "grid_row": null,
            "grid_template_areas": null,
            "grid_template_columns": null,
            "grid_template_rows": null,
            "height": null,
            "justify_content": null,
            "justify_items": null,
            "left": null,
            "margin": null,
            "max_height": null,
            "max_width": null,
            "min_height": null,
            "min_width": null,
            "object_fit": null,
            "object_position": null,
            "order": null,
            "overflow": null,
            "overflow_x": null,
            "overflow_y": null,
            "padding": null,
            "right": null,
            "top": null,
            "visibility": null,
            "width": null
          }
        },
        "cfae16474a9343809514f22b36c5353c": {
          "model_module": "@jupyter-widgets/controls",
          "model_name": "ProgressStyleModel",
          "model_module_version": "1.5.0",
          "state": {
            "_model_module": "@jupyter-widgets/controls",
            "_model_module_version": "1.5.0",
            "_model_name": "ProgressStyleModel",
            "_view_count": null,
            "_view_module": "@jupyter-widgets/base",
            "_view_module_version": "1.2.0",
            "_view_name": "StyleView",
            "bar_color": null,
            "description_width": ""
          }
        },
        "6ff9abfcd61d4d138d40580b5354f6fb": {
          "model_module": "@jupyter-widgets/base",
          "model_name": "LayoutModel",
          "model_module_version": "1.2.0",
          "state": {
            "_model_module": "@jupyter-widgets/base",
            "_model_module_version": "1.2.0",
            "_model_name": "LayoutModel",
            "_view_count": null,
            "_view_module": "@jupyter-widgets/base",
            "_view_module_version": "1.2.0",
            "_view_name": "LayoutView",
            "align_content": null,
            "align_items": null,
            "align_self": null,
            "border": null,
            "bottom": null,
            "display": null,
            "flex": null,
            "flex_flow": null,
            "grid_area": null,
            "grid_auto_columns": null,
            "grid_auto_flow": null,
            "grid_auto_rows": null,
            "grid_column": null,
            "grid_gap": null,
            "grid_row": null,
            "grid_template_areas": null,
            "grid_template_columns": null,
            "grid_template_rows": null,
            "height": null,
            "justify_content": null,
            "justify_items": null,
            "left": null,
            "margin": null,
            "max_height": null,
            "max_width": null,
            "min_height": null,
            "min_width": null,
            "object_fit": null,
            "object_position": null,
            "order": null,
            "overflow": null,
            "overflow_x": null,
            "overflow_y": null,
            "padding": null,
            "right": null,
            "top": null,
            "visibility": null,
            "width": null
          }
        },
        "8aca9b9dbd524f1294e872c29ff16cea": {
          "model_module": "@jupyter-widgets/controls",
          "model_name": "DescriptionStyleModel",
          "model_module_version": "1.5.0",
          "state": {
            "_model_module": "@jupyter-widgets/controls",
            "_model_module_version": "1.5.0",
            "_model_name": "DescriptionStyleModel",
            "_view_count": null,
            "_view_module": "@jupyter-widgets/base",
            "_view_module_version": "1.2.0",
            "_view_name": "StyleView",
            "description_width": ""
          }
        },
        "7a15043f8e1a49f5a4a6daa497c0b780": {
          "model_module": "@jupyter-widgets/controls",
          "model_name": "HBoxModel",
          "model_module_version": "1.5.0",
          "state": {
            "_dom_classes": [],
            "_model_module": "@jupyter-widgets/controls",
            "_model_module_version": "1.5.0",
            "_model_name": "HBoxModel",
            "_view_count": null,
            "_view_module": "@jupyter-widgets/controls",
            "_view_module_version": "1.5.0",
            "_view_name": "HBoxView",
            "box_style": "",
            "children": [
              "IPY_MODEL_c6133c8fafc5471eaf1375b7619cab28",
              "IPY_MODEL_e1c87a3ded724b11af2a06abf2f6216f",
              "IPY_MODEL_4d48e8328e754d4e86bc6750828bc8b5"
            ],
            "layout": "IPY_MODEL_dcc620d09dd842e0a945242379bc0c19"
          }
        },
        "c6133c8fafc5471eaf1375b7619cab28": {
          "model_module": "@jupyter-widgets/controls",
          "model_name": "HTMLModel",
          "model_module_version": "1.5.0",
          "state": {
            "_dom_classes": [],
            "_model_module": "@jupyter-widgets/controls",
            "_model_module_version": "1.5.0",
            "_model_name": "HTMLModel",
            "_view_count": null,
            "_view_module": "@jupyter-widgets/controls",
            "_view_module_version": "1.5.0",
            "_view_name": "HTMLView",
            "description": "",
            "description_tooltip": null,
            "layout": "IPY_MODEL_2c1951c703364b1b88fd9a85a0afc00c",
            "placeholder": "​",
            "style": "IPY_MODEL_1af5e14a0e1442ec9a5677ac0e70148f",
            "value": "Map: 100%"
          }
        },
        "e1c87a3ded724b11af2a06abf2f6216f": {
          "model_module": "@jupyter-widgets/controls",
          "model_name": "FloatProgressModel",
          "model_module_version": "1.5.0",
          "state": {
            "_dom_classes": [],
            "_model_module": "@jupyter-widgets/controls",
            "_model_module_version": "1.5.0",
            "_model_name": "FloatProgressModel",
            "_view_count": null,
            "_view_module": "@jupyter-widgets/controls",
            "_view_module_version": "1.5.0",
            "_view_name": "ProgressView",
            "bar_style": "success",
            "description": "",
            "description_tooltip": null,
            "layout": "IPY_MODEL_f7d676791a1d46488425b9f1f3f824aa",
            "max": 200,
            "min": 0,
            "orientation": "horizontal",
            "style": "IPY_MODEL_5b0d9fbe6db14d75a883a3f3728e3597",
            "value": 200
          }
        },
        "4d48e8328e754d4e86bc6750828bc8b5": {
          "model_module": "@jupyter-widgets/controls",
          "model_name": "HTMLModel",
          "model_module_version": "1.5.0",
          "state": {
            "_dom_classes": [],
            "_model_module": "@jupyter-widgets/controls",
            "_model_module_version": "1.5.0",
            "_model_name": "HTMLModel",
            "_view_count": null,
            "_view_module": "@jupyter-widgets/controls",
            "_view_module_version": "1.5.0",
            "_view_name": "HTMLView",
            "description": "",
            "description_tooltip": null,
            "layout": "IPY_MODEL_9477670a4a6b4d24a049a06e578c824a",
            "placeholder": "​",
            "style": "IPY_MODEL_9e4ef4fa4df547189a9c86094d9d6ad6",
            "value": " 200/200 [00:00&lt;00:00, 3284.46 examples/s]"
          }
        },
        "dcc620d09dd842e0a945242379bc0c19": {
          "model_module": "@jupyter-widgets/base",
          "model_name": "LayoutModel",
          "model_module_version": "1.2.0",
          "state": {
            "_model_module": "@jupyter-widgets/base",
            "_model_module_version": "1.2.0",
            "_model_name": "LayoutModel",
            "_view_count": null,
            "_view_module": "@jupyter-widgets/base",
            "_view_module_version": "1.2.0",
            "_view_name": "LayoutView",
            "align_content": null,
            "align_items": null,
            "align_self": null,
            "border": null,
            "bottom": null,
            "display": null,
            "flex": null,
            "flex_flow": null,
            "grid_area": null,
            "grid_auto_columns": null,
            "grid_auto_flow": null,
            "grid_auto_rows": null,
            "grid_column": null,
            "grid_gap": null,
            "grid_row": null,
            "grid_template_areas": null,
            "grid_template_columns": null,
            "grid_template_rows": null,
            "height": null,
            "justify_content": null,
            "justify_items": null,
            "left": null,
            "margin": null,
            "max_height": null,
            "max_width": null,
            "min_height": null,
            "min_width": null,
            "object_fit": null,
            "object_position": null,
            "order": null,
            "overflow": null,
            "overflow_x": null,
            "overflow_y": null,
            "padding": null,
            "right": null,
            "top": null,
            "visibility": null,
            "width": null
          }
        },
        "2c1951c703364b1b88fd9a85a0afc00c": {
          "model_module": "@jupyter-widgets/base",
          "model_name": "LayoutModel",
          "model_module_version": "1.2.0",
          "state": {
            "_model_module": "@jupyter-widgets/base",
            "_model_module_version": "1.2.0",
            "_model_name": "LayoutModel",
            "_view_count": null,
            "_view_module": "@jupyter-widgets/base",
            "_view_module_version": "1.2.0",
            "_view_name": "LayoutView",
            "align_content": null,
            "align_items": null,
            "align_self": null,
            "border": null,
            "bottom": null,
            "display": null,
            "flex": null,
            "flex_flow": null,
            "grid_area": null,
            "grid_auto_columns": null,
            "grid_auto_flow": null,
            "grid_auto_rows": null,
            "grid_column": null,
            "grid_gap": null,
            "grid_row": null,
            "grid_template_areas": null,
            "grid_template_columns": null,
            "grid_template_rows": null,
            "height": null,
            "justify_content": null,
            "justify_items": null,
            "left": null,
            "margin": null,
            "max_height": null,
            "max_width": null,
            "min_height": null,
            "min_width": null,
            "object_fit": null,
            "object_position": null,
            "order": null,
            "overflow": null,
            "overflow_x": null,
            "overflow_y": null,
            "padding": null,
            "right": null,
            "top": null,
            "visibility": null,
            "width": null
          }
        },
        "1af5e14a0e1442ec9a5677ac0e70148f": {
          "model_module": "@jupyter-widgets/controls",
          "model_name": "DescriptionStyleModel",
          "model_module_version": "1.5.0",
          "state": {
            "_model_module": "@jupyter-widgets/controls",
            "_model_module_version": "1.5.0",
            "_model_name": "DescriptionStyleModel",
            "_view_count": null,
            "_view_module": "@jupyter-widgets/base",
            "_view_module_version": "1.2.0",
            "_view_name": "StyleView",
            "description_width": ""
          }
        },
        "f7d676791a1d46488425b9f1f3f824aa": {
          "model_module": "@jupyter-widgets/base",
          "model_name": "LayoutModel",
          "model_module_version": "1.2.0",
          "state": {
            "_model_module": "@jupyter-widgets/base",
            "_model_module_version": "1.2.0",
            "_model_name": "LayoutModel",
            "_view_count": null,
            "_view_module": "@jupyter-widgets/base",
            "_view_module_version": "1.2.0",
            "_view_name": "LayoutView",
            "align_content": null,
            "align_items": null,
            "align_self": null,
            "border": null,
            "bottom": null,
            "display": null,
            "flex": null,
            "flex_flow": null,
            "grid_area": null,
            "grid_auto_columns": null,
            "grid_auto_flow": null,
            "grid_auto_rows": null,
            "grid_column": null,
            "grid_gap": null,
            "grid_row": null,
            "grid_template_areas": null,
            "grid_template_columns": null,
            "grid_template_rows": null,
            "height": null,
            "justify_content": null,
            "justify_items": null,
            "left": null,
            "margin": null,
            "max_height": null,
            "max_width": null,
            "min_height": null,
            "min_width": null,
            "object_fit": null,
            "object_position": null,
            "order": null,
            "overflow": null,
            "overflow_x": null,
            "overflow_y": null,
            "padding": null,
            "right": null,
            "top": null,
            "visibility": null,
            "width": null
          }
        },
        "5b0d9fbe6db14d75a883a3f3728e3597": {
          "model_module": "@jupyter-widgets/controls",
          "model_name": "ProgressStyleModel",
          "model_module_version": "1.5.0",
          "state": {
            "_model_module": "@jupyter-widgets/controls",
            "_model_module_version": "1.5.0",
            "_model_name": "ProgressStyleModel",
            "_view_count": null,
            "_view_module": "@jupyter-widgets/base",
            "_view_module_version": "1.2.0",
            "_view_name": "StyleView",
            "bar_color": null,
            "description_width": ""
          }
        },
        "9477670a4a6b4d24a049a06e578c824a": {
          "model_module": "@jupyter-widgets/base",
          "model_name": "LayoutModel",
          "model_module_version": "1.2.0",
          "state": {
            "_model_module": "@jupyter-widgets/base",
            "_model_module_version": "1.2.0",
            "_model_name": "LayoutModel",
            "_view_count": null,
            "_view_module": "@jupyter-widgets/base",
            "_view_module_version": "1.2.0",
            "_view_name": "LayoutView",
            "align_content": null,
            "align_items": null,
            "align_self": null,
            "border": null,
            "bottom": null,
            "display": null,
            "flex": null,
            "flex_flow": null,
            "grid_area": null,
            "grid_auto_columns": null,
            "grid_auto_flow": null,
            "grid_auto_rows": null,
            "grid_column": null,
            "grid_gap": null,
            "grid_row": null,
            "grid_template_areas": null,
            "grid_template_columns": null,
            "grid_template_rows": null,
            "height": null,
            "justify_content": null,
            "justify_items": null,
            "left": null,
            "margin": null,
            "max_height": null,
            "max_width": null,
            "min_height": null,
            "min_width": null,
            "object_fit": null,
            "object_position": null,
            "order": null,
            "overflow": null,
            "overflow_x": null,
            "overflow_y": null,
            "padding": null,
            "right": null,
            "top": null,
            "visibility": null,
            "width": null
          }
        },
        "9e4ef4fa4df547189a9c86094d9d6ad6": {
          "model_module": "@jupyter-widgets/controls",
          "model_name": "DescriptionStyleModel",
          "model_module_version": "1.5.0",
          "state": {
            "_model_module": "@jupyter-widgets/controls",
            "_model_module_version": "1.5.0",
            "_model_name": "DescriptionStyleModel",
            "_view_count": null,
            "_view_module": "@jupyter-widgets/base",
            "_view_module_version": "1.2.0",
            "_view_name": "StyleView",
            "description_width": ""
          }
        },
        "ad3cb612cb7d463a8a8a61fceecdb9f1": {
          "model_module": "@jupyter-widgets/controls",
          "model_name": "HBoxModel",
          "model_module_version": "1.5.0",
          "state": {
            "_dom_classes": [],
            "_model_module": "@jupyter-widgets/controls",
            "_model_module_version": "1.5.0",
            "_model_name": "HBoxModel",
            "_view_count": null,
            "_view_module": "@jupyter-widgets/controls",
            "_view_module_version": "1.5.0",
            "_view_name": "HBoxView",
            "box_style": "",
            "children": [
              "IPY_MODEL_2de116b80e1641caa659dded218ec265",
              "IPY_MODEL_cc2469e014b7438cb00c4d9a2be2303c",
              "IPY_MODEL_c7912b94252a443e92ad5ead2b610fe5"
            ],
            "layout": "IPY_MODEL_80c2e4c962c34ddbbcf171186dc01622"
          }
        },
        "2de116b80e1641caa659dded218ec265": {
          "model_module": "@jupyter-widgets/controls",
          "model_name": "HTMLModel",
          "model_module_version": "1.5.0",
          "state": {
            "_dom_classes": [],
            "_model_module": "@jupyter-widgets/controls",
            "_model_module_version": "1.5.0",
            "_model_name": "HTMLModel",
            "_view_count": null,
            "_view_module": "@jupyter-widgets/controls",
            "_view_module_version": "1.5.0",
            "_view_name": "HTMLView",
            "description": "",
            "description_tooltip": null,
            "layout": "IPY_MODEL_d5fb3037360d4c9a8a59263fb9606d8e",
            "placeholder": "​",
            "style": "IPY_MODEL_b6b2838fdfae4d5abd31c9b9ea36c06e",
            "value": "Map: 100%"
          }
        },
        "cc2469e014b7438cb00c4d9a2be2303c": {
          "model_module": "@jupyter-widgets/controls",
          "model_name": "FloatProgressModel",
          "model_module_version": "1.5.0",
          "state": {
            "_dom_classes": [],
            "_model_module": "@jupyter-widgets/controls",
            "_model_module_version": "1.5.0",
            "_model_name": "FloatProgressModel",
            "_view_count": null,
            "_view_module": "@jupyter-widgets/controls",
            "_view_module_version": "1.5.0",
            "_view_name": "ProgressView",
            "bar_style": "success",
            "description": "",
            "description_tooltip": null,
            "layout": "IPY_MODEL_f9f423efc82142ce861a0c7f1521d007",
            "max": 300,
            "min": 0,
            "orientation": "horizontal",
            "style": "IPY_MODEL_f5a2820a9f884a20886cacb3adc0d9bd",
            "value": 300
          }
        },
        "c7912b94252a443e92ad5ead2b610fe5": {
          "model_module": "@jupyter-widgets/controls",
          "model_name": "HTMLModel",
          "model_module_version": "1.5.0",
          "state": {
            "_dom_classes": [],
            "_model_module": "@jupyter-widgets/controls",
            "_model_module_version": "1.5.0",
            "_model_name": "HTMLModel",
            "_view_count": null,
            "_view_module": "@jupyter-widgets/controls",
            "_view_module_version": "1.5.0",
            "_view_name": "HTMLView",
            "description": "",
            "description_tooltip": null,
            "layout": "IPY_MODEL_4ca8157ea3a541599ba9957c41f7197b",
            "placeholder": "​",
            "style": "IPY_MODEL_42ed090fe484452c866eeb123537dc08",
            "value": " 300/300 [00:00&lt;00:00, 4297.60 examples/s]"
          }
        },
        "80c2e4c962c34ddbbcf171186dc01622": {
          "model_module": "@jupyter-widgets/base",
          "model_name": "LayoutModel",
          "model_module_version": "1.2.0",
          "state": {
            "_model_module": "@jupyter-widgets/base",
            "_model_module_version": "1.2.0",
            "_model_name": "LayoutModel",
            "_view_count": null,
            "_view_module": "@jupyter-widgets/base",
            "_view_module_version": "1.2.0",
            "_view_name": "LayoutView",
            "align_content": null,
            "align_items": null,
            "align_self": null,
            "border": null,
            "bottom": null,
            "display": null,
            "flex": null,
            "flex_flow": null,
            "grid_area": null,
            "grid_auto_columns": null,
            "grid_auto_flow": null,
            "grid_auto_rows": null,
            "grid_column": null,
            "grid_gap": null,
            "grid_row": null,
            "grid_template_areas": null,
            "grid_template_columns": null,
            "grid_template_rows": null,
            "height": null,
            "justify_content": null,
            "justify_items": null,
            "left": null,
            "margin": null,
            "max_height": null,
            "max_width": null,
            "min_height": null,
            "min_width": null,
            "object_fit": null,
            "object_position": null,
            "order": null,
            "overflow": null,
            "overflow_x": null,
            "overflow_y": null,
            "padding": null,
            "right": null,
            "top": null,
            "visibility": null,
            "width": null
          }
        },
        "d5fb3037360d4c9a8a59263fb9606d8e": {
          "model_module": "@jupyter-widgets/base",
          "model_name": "LayoutModel",
          "model_module_version": "1.2.0",
          "state": {
            "_model_module": "@jupyter-widgets/base",
            "_model_module_version": "1.2.0",
            "_model_name": "LayoutModel",
            "_view_count": null,
            "_view_module": "@jupyter-widgets/base",
            "_view_module_version": "1.2.0",
            "_view_name": "LayoutView",
            "align_content": null,
            "align_items": null,
            "align_self": null,
            "border": null,
            "bottom": null,
            "display": null,
            "flex": null,
            "flex_flow": null,
            "grid_area": null,
            "grid_auto_columns": null,
            "grid_auto_flow": null,
            "grid_auto_rows": null,
            "grid_column": null,
            "grid_gap": null,
            "grid_row": null,
            "grid_template_areas": null,
            "grid_template_columns": null,
            "grid_template_rows": null,
            "height": null,
            "justify_content": null,
            "justify_items": null,
            "left": null,
            "margin": null,
            "max_height": null,
            "max_width": null,
            "min_height": null,
            "min_width": null,
            "object_fit": null,
            "object_position": null,
            "order": null,
            "overflow": null,
            "overflow_x": null,
            "overflow_y": null,
            "padding": null,
            "right": null,
            "top": null,
            "visibility": null,
            "width": null
          }
        },
        "b6b2838fdfae4d5abd31c9b9ea36c06e": {
          "model_module": "@jupyter-widgets/controls",
          "model_name": "DescriptionStyleModel",
          "model_module_version": "1.5.0",
          "state": {
            "_model_module": "@jupyter-widgets/controls",
            "_model_module_version": "1.5.0",
            "_model_name": "DescriptionStyleModel",
            "_view_count": null,
            "_view_module": "@jupyter-widgets/base",
            "_view_module_version": "1.2.0",
            "_view_name": "StyleView",
            "description_width": ""
          }
        },
        "f9f423efc82142ce861a0c7f1521d007": {
          "model_module": "@jupyter-widgets/base",
          "model_name": "LayoutModel",
          "model_module_version": "1.2.0",
          "state": {
            "_model_module": "@jupyter-widgets/base",
            "_model_module_version": "1.2.0",
            "_model_name": "LayoutModel",
            "_view_count": null,
            "_view_module": "@jupyter-widgets/base",
            "_view_module_version": "1.2.0",
            "_view_name": "LayoutView",
            "align_content": null,
            "align_items": null,
            "align_self": null,
            "border": null,
            "bottom": null,
            "display": null,
            "flex": null,
            "flex_flow": null,
            "grid_area": null,
            "grid_auto_columns": null,
            "grid_auto_flow": null,
            "grid_auto_rows": null,
            "grid_column": null,
            "grid_gap": null,
            "grid_row": null,
            "grid_template_areas": null,
            "grid_template_columns": null,
            "grid_template_rows": null,
            "height": null,
            "justify_content": null,
            "justify_items": null,
            "left": null,
            "margin": null,
            "max_height": null,
            "max_width": null,
            "min_height": null,
            "min_width": null,
            "object_fit": null,
            "object_position": null,
            "order": null,
            "overflow": null,
            "overflow_x": null,
            "overflow_y": null,
            "padding": null,
            "right": null,
            "top": null,
            "visibility": null,
            "width": null
          }
        },
        "f5a2820a9f884a20886cacb3adc0d9bd": {
          "model_module": "@jupyter-widgets/controls",
          "model_name": "ProgressStyleModel",
          "model_module_version": "1.5.0",
          "state": {
            "_model_module": "@jupyter-widgets/controls",
            "_model_module_version": "1.5.0",
            "_model_name": "ProgressStyleModel",
            "_view_count": null,
            "_view_module": "@jupyter-widgets/base",
            "_view_module_version": "1.2.0",
            "_view_name": "StyleView",
            "bar_color": null,
            "description_width": ""
          }
        },
        "4ca8157ea3a541599ba9957c41f7197b": {
          "model_module": "@jupyter-widgets/base",
          "model_name": "LayoutModel",
          "model_module_version": "1.2.0",
          "state": {
            "_model_module": "@jupyter-widgets/base",
            "_model_module_version": "1.2.0",
            "_model_name": "LayoutModel",
            "_view_count": null,
            "_view_module": "@jupyter-widgets/base",
            "_view_module_version": "1.2.0",
            "_view_name": "LayoutView",
            "align_content": null,
            "align_items": null,
            "align_self": null,
            "border": null,
            "bottom": null,
            "display": null,
            "flex": null,
            "flex_flow": null,
            "grid_area": null,
            "grid_auto_columns": null,
            "grid_auto_flow": null,
            "grid_auto_rows": null,
            "grid_column": null,
            "grid_gap": null,
            "grid_row": null,
            "grid_template_areas": null,
            "grid_template_columns": null,
            "grid_template_rows": null,
            "height": null,
            "justify_content": null,
            "justify_items": null,
            "left": null,
            "margin": null,
            "max_height": null,
            "max_width": null,
            "min_height": null,
            "min_width": null,
            "object_fit": null,
            "object_position": null,
            "order": null,
            "overflow": null,
            "overflow_x": null,
            "overflow_y": null,
            "padding": null,
            "right": null,
            "top": null,
            "visibility": null,
            "width": null
          }
        },
        "42ed090fe484452c866eeb123537dc08": {
          "model_module": "@jupyter-widgets/controls",
          "model_name": "DescriptionStyleModel",
          "model_module_version": "1.5.0",
          "state": {
            "_model_module": "@jupyter-widgets/controls",
            "_model_module_version": "1.5.0",
            "_model_name": "DescriptionStyleModel",
            "_view_count": null,
            "_view_module": "@jupyter-widgets/base",
            "_view_module_version": "1.2.0",
            "_view_name": "StyleView",
            "description_width": ""
          }
        },
        "d96d564c4c7f48a5994c8c7d1a6be216": {
          "model_module": "@jupyter-widgets/controls",
          "model_name": "HBoxModel",
          "model_module_version": "1.5.0",
          "state": {
            "_dom_classes": [],
            "_model_module": "@jupyter-widgets/controls",
            "_model_module_version": "1.5.0",
            "_model_name": "HBoxModel",
            "_view_count": null,
            "_view_module": "@jupyter-widgets/controls",
            "_view_module_version": "1.5.0",
            "_view_name": "HBoxView",
            "box_style": "",
            "children": [
              "IPY_MODEL_8fc5f58476e54a51943db06e86283abd",
              "IPY_MODEL_fba30d6cf3c848a89a19f474b140433a",
              "IPY_MODEL_3b906c9939624d35a977e9cf5f2736b2"
            ],
            "layout": "IPY_MODEL_33b4cc966de24cb99464245c5ea74bc2"
          }
        },
        "8fc5f58476e54a51943db06e86283abd": {
          "model_module": "@jupyter-widgets/controls",
          "model_name": "HTMLModel",
          "model_module_version": "1.5.0",
          "state": {
            "_dom_classes": [],
            "_model_module": "@jupyter-widgets/controls",
            "_model_module_version": "1.5.0",
            "_model_name": "HTMLModel",
            "_view_count": null,
            "_view_module": "@jupyter-widgets/controls",
            "_view_module_version": "1.5.0",
            "_view_name": "HTMLView",
            "description": "",
            "description_tooltip": null,
            "layout": "IPY_MODEL_0801ad26e6104ccc9ed739f01a6ad503",
            "placeholder": "​",
            "style": "IPY_MODEL_b502510515684679b4be0b29cf5e34dc",
            "value": "Map: 100%"
          }
        },
        "fba30d6cf3c848a89a19f474b140433a": {
          "model_module": "@jupyter-widgets/controls",
          "model_name": "FloatProgressModel",
          "model_module_version": "1.5.0",
          "state": {
            "_dom_classes": [],
            "_model_module": "@jupyter-widgets/controls",
            "_model_module_version": "1.5.0",
            "_model_name": "FloatProgressModel",
            "_view_count": null,
            "_view_module": "@jupyter-widgets/controls",
            "_view_module_version": "1.5.0",
            "_view_name": "ProgressView",
            "bar_style": "success",
            "description": "",
            "description_tooltip": null,
            "layout": "IPY_MODEL_a7dc680c9ede427ca0dccdf79dbc5302",
            "max": 100,
            "min": 0,
            "orientation": "horizontal",
            "style": "IPY_MODEL_c5364a88d32a442dabeb0d55c78e0fdc",
            "value": 100
          }
        },
        "3b906c9939624d35a977e9cf5f2736b2": {
          "model_module": "@jupyter-widgets/controls",
          "model_name": "HTMLModel",
          "model_module_version": "1.5.0",
          "state": {
            "_dom_classes": [],
            "_model_module": "@jupyter-widgets/controls",
            "_model_module_version": "1.5.0",
            "_model_name": "HTMLModel",
            "_view_count": null,
            "_view_module": "@jupyter-widgets/controls",
            "_view_module_version": "1.5.0",
            "_view_name": "HTMLView",
            "description": "",
            "description_tooltip": null,
            "layout": "IPY_MODEL_79a9f399415945bf96d7fc18e98261f1",
            "placeholder": "​",
            "style": "IPY_MODEL_9f5ca58137994a8db4921da7559a4ad9",
            "value": " 100/100 [00:00&lt;00:00, 1402.54 examples/s]"
          }
        },
        "33b4cc966de24cb99464245c5ea74bc2": {
          "model_module": "@jupyter-widgets/base",
          "model_name": "LayoutModel",
          "model_module_version": "1.2.0",
          "state": {
            "_model_module": "@jupyter-widgets/base",
            "_model_module_version": "1.2.0",
            "_model_name": "LayoutModel",
            "_view_count": null,
            "_view_module": "@jupyter-widgets/base",
            "_view_module_version": "1.2.0",
            "_view_name": "LayoutView",
            "align_content": null,
            "align_items": null,
            "align_self": null,
            "border": null,
            "bottom": null,
            "display": null,
            "flex": null,
            "flex_flow": null,
            "grid_area": null,
            "grid_auto_columns": null,
            "grid_auto_flow": null,
            "grid_auto_rows": null,
            "grid_column": null,
            "grid_gap": null,
            "grid_row": null,
            "grid_template_areas": null,
            "grid_template_columns": null,
            "grid_template_rows": null,
            "height": null,
            "justify_content": null,
            "justify_items": null,
            "left": null,
            "margin": null,
            "max_height": null,
            "max_width": null,
            "min_height": null,
            "min_width": null,
            "object_fit": null,
            "object_position": null,
            "order": null,
            "overflow": null,
            "overflow_x": null,
            "overflow_y": null,
            "padding": null,
            "right": null,
            "top": null,
            "visibility": null,
            "width": null
          }
        },
        "0801ad26e6104ccc9ed739f01a6ad503": {
          "model_module": "@jupyter-widgets/base",
          "model_name": "LayoutModel",
          "model_module_version": "1.2.0",
          "state": {
            "_model_module": "@jupyter-widgets/base",
            "_model_module_version": "1.2.0",
            "_model_name": "LayoutModel",
            "_view_count": null,
            "_view_module": "@jupyter-widgets/base",
            "_view_module_version": "1.2.0",
            "_view_name": "LayoutView",
            "align_content": null,
            "align_items": null,
            "align_self": null,
            "border": null,
            "bottom": null,
            "display": null,
            "flex": null,
            "flex_flow": null,
            "grid_area": null,
            "grid_auto_columns": null,
            "grid_auto_flow": null,
            "grid_auto_rows": null,
            "grid_column": null,
            "grid_gap": null,
            "grid_row": null,
            "grid_template_areas": null,
            "grid_template_columns": null,
            "grid_template_rows": null,
            "height": null,
            "justify_content": null,
            "justify_items": null,
            "left": null,
            "margin": null,
            "max_height": null,
            "max_width": null,
            "min_height": null,
            "min_width": null,
            "object_fit": null,
            "object_position": null,
            "order": null,
            "overflow": null,
            "overflow_x": null,
            "overflow_y": null,
            "padding": null,
            "right": null,
            "top": null,
            "visibility": null,
            "width": null
          }
        },
        "b502510515684679b4be0b29cf5e34dc": {
          "model_module": "@jupyter-widgets/controls",
          "model_name": "DescriptionStyleModel",
          "model_module_version": "1.5.0",
          "state": {
            "_model_module": "@jupyter-widgets/controls",
            "_model_module_version": "1.5.0",
            "_model_name": "DescriptionStyleModel",
            "_view_count": null,
            "_view_module": "@jupyter-widgets/base",
            "_view_module_version": "1.2.0",
            "_view_name": "StyleView",
            "description_width": ""
          }
        },
        "a7dc680c9ede427ca0dccdf79dbc5302": {
          "model_module": "@jupyter-widgets/base",
          "model_name": "LayoutModel",
          "model_module_version": "1.2.0",
          "state": {
            "_model_module": "@jupyter-widgets/base",
            "_model_module_version": "1.2.0",
            "_model_name": "LayoutModel",
            "_view_count": null,
            "_view_module": "@jupyter-widgets/base",
            "_view_module_version": "1.2.0",
            "_view_name": "LayoutView",
            "align_content": null,
            "align_items": null,
            "align_self": null,
            "border": null,
            "bottom": null,
            "display": null,
            "flex": null,
            "flex_flow": null,
            "grid_area": null,
            "grid_auto_columns": null,
            "grid_auto_flow": null,
            "grid_auto_rows": null,
            "grid_column": null,
            "grid_gap": null,
            "grid_row": null,
            "grid_template_areas": null,
            "grid_template_columns": null,
            "grid_template_rows": null,
            "height": null,
            "justify_content": null,
            "justify_items": null,
            "left": null,
            "margin": null,
            "max_height": null,
            "max_width": null,
            "min_height": null,
            "min_width": null,
            "object_fit": null,
            "object_position": null,
            "order": null,
            "overflow": null,
            "overflow_x": null,
            "overflow_y": null,
            "padding": null,
            "right": null,
            "top": null,
            "visibility": null,
            "width": null
          }
        },
        "c5364a88d32a442dabeb0d55c78e0fdc": {
          "model_module": "@jupyter-widgets/controls",
          "model_name": "ProgressStyleModel",
          "model_module_version": "1.5.0",
          "state": {
            "_model_module": "@jupyter-widgets/controls",
            "_model_module_version": "1.5.0",
            "_model_name": "ProgressStyleModel",
            "_view_count": null,
            "_view_module": "@jupyter-widgets/base",
            "_view_module_version": "1.2.0",
            "_view_name": "StyleView",
            "bar_color": null,
            "description_width": ""
          }
        },
        "79a9f399415945bf96d7fc18e98261f1": {
          "model_module": "@jupyter-widgets/base",
          "model_name": "LayoutModel",
          "model_module_version": "1.2.0",
          "state": {
            "_model_module": "@jupyter-widgets/base",
            "_model_module_version": "1.2.0",
            "_model_name": "LayoutModel",
            "_view_count": null,
            "_view_module": "@jupyter-widgets/base",
            "_view_module_version": "1.2.0",
            "_view_name": "LayoutView",
            "align_content": null,
            "align_items": null,
            "align_self": null,
            "border": null,
            "bottom": null,
            "display": null,
            "flex": null,
            "flex_flow": null,
            "grid_area": null,
            "grid_auto_columns": null,
            "grid_auto_flow": null,
            "grid_auto_rows": null,
            "grid_column": null,
            "grid_gap": null,
            "grid_row": null,
            "grid_template_areas": null,
            "grid_template_columns": null,
            "grid_template_rows": null,
            "height": null,
            "justify_content": null,
            "justify_items": null,
            "left": null,
            "margin": null,
            "max_height": null,
            "max_width": null,
            "min_height": null,
            "min_width": null,
            "object_fit": null,
            "object_position": null,
            "order": null,
            "overflow": null,
            "overflow_x": null,
            "overflow_y": null,
            "padding": null,
            "right": null,
            "top": null,
            "visibility": null,
            "width": null
          }
        },
        "9f5ca58137994a8db4921da7559a4ad9": {
          "model_module": "@jupyter-widgets/controls",
          "model_name": "DescriptionStyleModel",
          "model_module_version": "1.5.0",
          "state": {
            "_model_module": "@jupyter-widgets/controls",
            "_model_module_version": "1.5.0",
            "_model_name": "DescriptionStyleModel",
            "_view_count": null,
            "_view_module": "@jupyter-widgets/base",
            "_view_module_version": "1.2.0",
            "_view_name": "StyleView",
            "description_width": ""
          }
        },
        "bb53dad7617547b48e376f545d89ddf5": {
          "model_module": "@jupyter-widgets/controls",
          "model_name": "HBoxModel",
          "model_module_version": "1.5.0",
          "state": {
            "_dom_classes": [],
            "_model_module": "@jupyter-widgets/controls",
            "_model_module_version": "1.5.0",
            "_model_name": "HBoxModel",
            "_view_count": null,
            "_view_module": "@jupyter-widgets/controls",
            "_view_module_version": "1.5.0",
            "_view_name": "HBoxView",
            "box_style": "",
            "children": [
              "IPY_MODEL_e74c658872324069a43c32e753fee3f0",
              "IPY_MODEL_74cffbd18b394a618a5d76eeb7d2b24e",
              "IPY_MODEL_d0c2ce0855684fbc99b9dab23abc6715"
            ],
            "layout": "IPY_MODEL_5af7b3fd7fa14ce29c5287d2cee57418"
          }
        },
        "e74c658872324069a43c32e753fee3f0": {
          "model_module": "@jupyter-widgets/controls",
          "model_name": "HTMLModel",
          "model_module_version": "1.5.0",
          "state": {
            "_dom_classes": [],
            "_model_module": "@jupyter-widgets/controls",
            "_model_module_version": "1.5.0",
            "_model_name": "HTMLModel",
            "_view_count": null,
            "_view_module": "@jupyter-widgets/controls",
            "_view_module_version": "1.5.0",
            "_view_name": "HTMLView",
            "description": "",
            "description_tooltip": null,
            "layout": "IPY_MODEL_bc3e38c1b19f43dd83b62e759916ce5c",
            "placeholder": "​",
            "style": "IPY_MODEL_751633ce1a8f4472afa4105b9efd10b5",
            "value": "Map: 100%"
          }
        },
        "74cffbd18b394a618a5d76eeb7d2b24e": {
          "model_module": "@jupyter-widgets/controls",
          "model_name": "FloatProgressModel",
          "model_module_version": "1.5.0",
          "state": {
            "_dom_classes": [],
            "_model_module": "@jupyter-widgets/controls",
            "_model_module_version": "1.5.0",
            "_model_name": "FloatProgressModel",
            "_view_count": null,
            "_view_module": "@jupyter-widgets/controls",
            "_view_module_version": "1.5.0",
            "_view_name": "ProgressView",
            "bar_style": "success",
            "description": "",
            "description_tooltip": null,
            "layout": "IPY_MODEL_9ae5a91e3468483d9c32d795007640d8",
            "max": 849,
            "min": 0,
            "orientation": "horizontal",
            "style": "IPY_MODEL_7a44d04954e84d89a4bd8d729ec039fb",
            "value": 849
          }
        },
        "d0c2ce0855684fbc99b9dab23abc6715": {
          "model_module": "@jupyter-widgets/controls",
          "model_name": "HTMLModel",
          "model_module_version": "1.5.0",
          "state": {
            "_dom_classes": [],
            "_model_module": "@jupyter-widgets/controls",
            "_model_module_version": "1.5.0",
            "_model_name": "HTMLModel",
            "_view_count": null,
            "_view_module": "@jupyter-widgets/controls",
            "_view_module_version": "1.5.0",
            "_view_name": "HTMLView",
            "description": "",
            "description_tooltip": null,
            "layout": "IPY_MODEL_7bc41b4f1b1248d98214458b595d9d99",
            "placeholder": "​",
            "style": "IPY_MODEL_cd9570dedae84a25849accf0b4dc45b9",
            "value": " 849/849 [00:00&lt;00:00, 3438.04 examples/s]"
          }
        },
        "5af7b3fd7fa14ce29c5287d2cee57418": {
          "model_module": "@jupyter-widgets/base",
          "model_name": "LayoutModel",
          "model_module_version": "1.2.0",
          "state": {
            "_model_module": "@jupyter-widgets/base",
            "_model_module_version": "1.2.0",
            "_model_name": "LayoutModel",
            "_view_count": null,
            "_view_module": "@jupyter-widgets/base",
            "_view_module_version": "1.2.0",
            "_view_name": "LayoutView",
            "align_content": null,
            "align_items": null,
            "align_self": null,
            "border": null,
            "bottom": null,
            "display": null,
            "flex": null,
            "flex_flow": null,
            "grid_area": null,
            "grid_auto_columns": null,
            "grid_auto_flow": null,
            "grid_auto_rows": null,
            "grid_column": null,
            "grid_gap": null,
            "grid_row": null,
            "grid_template_areas": null,
            "grid_template_columns": null,
            "grid_template_rows": null,
            "height": null,
            "justify_content": null,
            "justify_items": null,
            "left": null,
            "margin": null,
            "max_height": null,
            "max_width": null,
            "min_height": null,
            "min_width": null,
            "object_fit": null,
            "object_position": null,
            "order": null,
            "overflow": null,
            "overflow_x": null,
            "overflow_y": null,
            "padding": null,
            "right": null,
            "top": null,
            "visibility": null,
            "width": null
          }
        },
        "bc3e38c1b19f43dd83b62e759916ce5c": {
          "model_module": "@jupyter-widgets/base",
          "model_name": "LayoutModel",
          "model_module_version": "1.2.0",
          "state": {
            "_model_module": "@jupyter-widgets/base",
            "_model_module_version": "1.2.0",
            "_model_name": "LayoutModel",
            "_view_count": null,
            "_view_module": "@jupyter-widgets/base",
            "_view_module_version": "1.2.0",
            "_view_name": "LayoutView",
            "align_content": null,
            "align_items": null,
            "align_self": null,
            "border": null,
            "bottom": null,
            "display": null,
            "flex": null,
            "flex_flow": null,
            "grid_area": null,
            "grid_auto_columns": null,
            "grid_auto_flow": null,
            "grid_auto_rows": null,
            "grid_column": null,
            "grid_gap": null,
            "grid_row": null,
            "grid_template_areas": null,
            "grid_template_columns": null,
            "grid_template_rows": null,
            "height": null,
            "justify_content": null,
            "justify_items": null,
            "left": null,
            "margin": null,
            "max_height": null,
            "max_width": null,
            "min_height": null,
            "min_width": null,
            "object_fit": null,
            "object_position": null,
            "order": null,
            "overflow": null,
            "overflow_x": null,
            "overflow_y": null,
            "padding": null,
            "right": null,
            "top": null,
            "visibility": null,
            "width": null
          }
        },
        "751633ce1a8f4472afa4105b9efd10b5": {
          "model_module": "@jupyter-widgets/controls",
          "model_name": "DescriptionStyleModel",
          "model_module_version": "1.5.0",
          "state": {
            "_model_module": "@jupyter-widgets/controls",
            "_model_module_version": "1.5.0",
            "_model_name": "DescriptionStyleModel",
            "_view_count": null,
            "_view_module": "@jupyter-widgets/base",
            "_view_module_version": "1.2.0",
            "_view_name": "StyleView",
            "description_width": ""
          }
        },
        "9ae5a91e3468483d9c32d795007640d8": {
          "model_module": "@jupyter-widgets/base",
          "model_name": "LayoutModel",
          "model_module_version": "1.2.0",
          "state": {
            "_model_module": "@jupyter-widgets/base",
            "_model_module_version": "1.2.0",
            "_model_name": "LayoutModel",
            "_view_count": null,
            "_view_module": "@jupyter-widgets/base",
            "_view_module_version": "1.2.0",
            "_view_name": "LayoutView",
            "align_content": null,
            "align_items": null,
            "align_self": null,
            "border": null,
            "bottom": null,
            "display": null,
            "flex": null,
            "flex_flow": null,
            "grid_area": null,
            "grid_auto_columns": null,
            "grid_auto_flow": null,
            "grid_auto_rows": null,
            "grid_column": null,
            "grid_gap": null,
            "grid_row": null,
            "grid_template_areas": null,
            "grid_template_columns": null,
            "grid_template_rows": null,
            "height": null,
            "justify_content": null,
            "justify_items": null,
            "left": null,
            "margin": null,
            "max_height": null,
            "max_width": null,
            "min_height": null,
            "min_width": null,
            "object_fit": null,
            "object_position": null,
            "order": null,
            "overflow": null,
            "overflow_x": null,
            "overflow_y": null,
            "padding": null,
            "right": null,
            "top": null,
            "visibility": null,
            "width": null
          }
        },
        "7a44d04954e84d89a4bd8d729ec039fb": {
          "model_module": "@jupyter-widgets/controls",
          "model_name": "ProgressStyleModel",
          "model_module_version": "1.5.0",
          "state": {
            "_model_module": "@jupyter-widgets/controls",
            "_model_module_version": "1.5.0",
            "_model_name": "ProgressStyleModel",
            "_view_count": null,
            "_view_module": "@jupyter-widgets/base",
            "_view_module_version": "1.2.0",
            "_view_name": "StyleView",
            "bar_color": null,
            "description_width": ""
          }
        },
        "7bc41b4f1b1248d98214458b595d9d99": {
          "model_module": "@jupyter-widgets/base",
          "model_name": "LayoutModel",
          "model_module_version": "1.2.0",
          "state": {
            "_model_module": "@jupyter-widgets/base",
            "_model_module_version": "1.2.0",
            "_model_name": "LayoutModel",
            "_view_count": null,
            "_view_module": "@jupyter-widgets/base",
            "_view_module_version": "1.2.0",
            "_view_name": "LayoutView",
            "align_content": null,
            "align_items": null,
            "align_self": null,
            "border": null,
            "bottom": null,
            "display": null,
            "flex": null,
            "flex_flow": null,
            "grid_area": null,
            "grid_auto_columns": null,
            "grid_auto_flow": null,
            "grid_auto_rows": null,
            "grid_column": null,
            "grid_gap": null,
            "grid_row": null,
            "grid_template_areas": null,
            "grid_template_columns": null,
            "grid_template_rows": null,
            "height": null,
            "justify_content": null,
            "justify_items": null,
            "left": null,
            "margin": null,
            "max_height": null,
            "max_width": null,
            "min_height": null,
            "min_width": null,
            "object_fit": null,
            "object_position": null,
            "order": null,
            "overflow": null,
            "overflow_x": null,
            "overflow_y": null,
            "padding": null,
            "right": null,
            "top": null,
            "visibility": null,
            "width": null
          }
        },
        "cd9570dedae84a25849accf0b4dc45b9": {
          "model_module": "@jupyter-widgets/controls",
          "model_name": "DescriptionStyleModel",
          "model_module_version": "1.5.0",
          "state": {
            "_model_module": "@jupyter-widgets/controls",
            "_model_module_version": "1.5.0",
            "_model_name": "DescriptionStyleModel",
            "_view_count": null,
            "_view_module": "@jupyter-widgets/base",
            "_view_module_version": "1.2.0",
            "_view_name": "StyleView",
            "description_width": ""
          }
        }
      }
    }
  },
  "cells": [
    {
      "cell_type": "code",
      "execution_count": 1,
      "metadata": {
        "id": "OZhsBX3DozVQ"
      },
      "outputs": [],
      "source": [
        "import os, random, re, subprocess, sys, time, json\n",
        "from pathlib import Path\n"
      ]
    },
    {
      "cell_type": "code",
      "source": [
        "# --- Cell 0: Notes & quick settings ---\n",
        "# Recommended: run on Google Colab with GPU (Runtime -> Change runtime type -> GPU).\n",
        "# Upload your SMSSpamCollection.csv into the Colab files panel or mount Drive and set DATA_PATH accordingly.\n",
        "\n",
        "DATA_PATH = \"/content/SMSSpamCollection.csv\"   # change if you uploaded somewhere else\n",
        "MODEL_NAME = \"distilbert-base-uncased\"\n",
        "MAX_SAMPLES_PER_CLASS = 300      # keep dataset small => faster training\n",
        "TEST_SIZE = 0.20\n",
        "RANDOM_SEED = 42\n",
        "BATCH_SIZE = 16\n",
        "EPOCHS = 1                      # retrain quickly; raise to 2-3 if you want more\n",
        "LR = 2e-5\n",
        "MAX_SEQ_LENGTH = 128\n",
        "\n",
        "# Attack settings (keep small for speed)\n",
        "NUM_ATTACK_EXAMPLES = 100       # how many spam examples to attack (subset)\n",
        "ATTACK_QUERY_BUDGET = 1000      # per-example query budget (TextAttack param)\n",
        "ADD_ADV_TO_TRAIN_RATIO = 0.5    # fraction of successful adversarials to add to training for adversarial training\n",
        "\n",
        "# ----------------------------------------------------------------------------\n"
      ],
      "metadata": {
        "id": "0h4il3hho-rt"
      },
      "execution_count": 17,
      "outputs": []
    },
    {
      "cell_type": "code",
      "source": [
        "random.seed(RANDOM_SEED)"
      ],
      "metadata": {
        "id": "lur9GcWgpCJM"
      },
      "execution_count": 3,
      "outputs": []
    },
    {
      "cell_type": "code",
      "source": [
        "def pip_install(pkg):\n",
        "    subprocess.check_call([sys.executable, \"-m\", \"pip\", \"install\", pkg])\n",
        "\n",
        "try:\n",
        "    import transformers, datasets, evaluate, torch, sklearn\n",
        "except Exception:\n",
        "    print(\"Installing required packages...\")\n",
        "    pip_install(\"transformers>=4.30.0\")\n",
        "    pip_install(\"datasets\")\n",
        "    pip_install(\"evaluate\")\n",
        "    pip_install(\"accelerate\")\n",
        "    pip_install(\"scikit-learn\")\n",
        "    # torch: choose the correct one for your CUDA version if you need GPU\n",
        "    pip_install(\"torch\")\n",
        "    import transformers, datasets, evaluate, torch, sklearn\n",
        "\n",
        "from transformers import AutoTokenizer, AutoModelForSequenceClassification, TrainingArguments, Trainer\n",
        "from datasets import Dataset\n",
        "from sklearn.model_selection import train_test_split\n",
        "from sklearn.metrics import classification_report\n",
        "import pandas as pd\n",
        "import numpy as np\n",
        "\n",
        "device = \"cuda\" if torch.cuda.is_available() else \"cpu\"\n",
        "print(\"Device:\", device)"
      ],
      "metadata": {
        "colab": {
          "base_uri": "https://localhost:8080/"
        },
        "id": "-NXiaVG9pEuO",
        "outputId": "1de8cf29-80b4-49b1-9ce9-e90665988e90"
      },
      "execution_count": 4,
      "outputs": [
        {
          "output_type": "stream",
          "name": "stdout",
          "text": [
            "Installing required packages...\n",
            "Device: cuda\n"
          ]
        }
      ]
    },
    {
      "cell_type": "code",
      "source": [
        "def char_swap(text, prob=0.12):\n",
        "    words = text.split()\n",
        "    new_words = []\n",
        "    for w in words:\n",
        "        if len(w) > 2 and random.random() < prob:\n",
        "            i = random.randint(0, len(w)-2)\n",
        "            w = w[:i] + w[i+1] + w[i] + w[i+2:]\n",
        "        new_words.append(w)\n",
        "    return \" \".join(new_words)\n",
        "\n",
        "def add_ham_tokens(text, tokens=None, prob=0.6):\n",
        "    if tokens is None:\n",
        "        tokens = [\"ok\", \"yes\", \"thanks\", \"lol\", \"okay\", \"sure\"]\n",
        "    if random.random() < prob:\n",
        "        if random.random() < 0.6:\n",
        "            return text + \" \" + random.choice(tokens)\n",
        "        else:\n",
        "            parts = text.split()\n",
        "            pos = random.randint(0, len(parts))\n",
        "            parts.insert(pos, random.choice(tokens))\n",
        "            return \" \".join(parts)\n",
        "    return text\n",
        "\n",
        "def generate_adversarial_variant(text):\n",
        "    # Apply a single fast transform to keep generation lightweight\n",
        "    if random.random() < 0.5:\n",
        "        return char_swap(text)\n",
        "    else:\n",
        "        return add_ham_tokens(text)"
      ],
      "metadata": {
        "id": "GIVKyXdhp2A4"
      },
      "execution_count": 5,
      "outputs": []
    },
    {
      "cell_type": "code",
      "source": [
        "df = pd.read_csv(DATA_PATH, header=None, encoding='latin-1')\n",
        "if df.shape[1] >= 2:\n",
        "    df = df.iloc[:, :2]\n",
        "    df.columns = [\"label\", \"message\"]\n",
        "else:\n",
        "    raise ValueError(\"CSV must have at least two columns: label and message.\")\n",
        "\n",
        "# Clean and dedupe\n",
        "df['message'] = df['message'].astype(str).str.strip()\n",
        "df['label'] = df['label'].astype(str).str.strip().str.lower()\n",
        "df = df.drop_duplicates()\n",
        "df = df[df['label'].isin(['ham','spam'])].copy()\n",
        "df['label_id'] = df['label'].map({'ham':0, 'spam':1})\n",
        "\n",
        "print(\"Total after dedupe:\", len(df))\n",
        "print(df['label'].value_counts())\n",
        "\n",
        "# Undersample majority to be equal to minority but also bound by MAX_SAMPLES_PER_CLASS\n",
        "min_count = min(df['label'].value_counts().min(), MAX_SAMPLES_PER_CLASS)\n",
        "df_balanced = pd.concat([\n",
        "    df[df['label']=='spam'].sample(n=min_count, random_state=RANDOM_SEED) if df['label'].value_counts()['spam'] >= min_count else df[df['label']=='spam'],\n",
        "    df[df['label']=='ham'].sample(n=min_count, random_state=RANDOM_SEED) if df['label'].value_counts()['ham'] >= min_count else df[df['label']=='ham'],\n",
        "], ignore_index=True).sample(frac=1, random_state=RANDOM_SEED).reset_index(drop=True)\n",
        "\n",
        "print(\"Balanced dataset:\", df_balanced.shape)\n",
        "print(df_balanced['label'].value_counts())\n",
        "\n",
        "# Stratified split\n",
        "train_df, test_df = train_test_split(df_balanced, test_size=TEST_SIZE, stratify=df_balanced['label_id'], random_state=RANDOM_SEED)\n",
        "print(\"Train/Test sizes:\", train_df.shape, test_df.shape)\n",
        "print(\"Train counts:\\n\", train_df['label'].value_counts())\n",
        "print(\"Test counts:\\n\", test_df['label'].value_counts())"
      ],
      "metadata": {
        "colab": {
          "base_uri": "https://localhost:8080/"
        },
        "id": "bPZQApc2p5-I",
        "outputId": "985006d1-735d-4de1-bf39-3a3ebf1e0861"
      },
      "execution_count": 6,
      "outputs": [
        {
          "output_type": "stream",
          "name": "stdout",
          "text": [
            "Total after dedupe: 5158\n",
            "label\n",
            "ham     4516\n",
            "spam     642\n",
            "Name: count, dtype: int64\n",
            "Balanced dataset: (1000, 3)\n",
            "label\n",
            "ham     500\n",
            "spam    500\n",
            "Name: count, dtype: int64\n",
            "Train/Test sizes: (800, 3) (200, 3)\n",
            "Train counts:\n",
            " label\n",
            "spam    400\n",
            "ham     400\n",
            "Name: count, dtype: int64\n",
            "Test counts:\n",
            " label\n",
            "spam    100\n",
            "ham     100\n",
            "Name: count, dtype: int64\n"
          ]
        }
      ]
    },
    {
      "cell_type": "code",
      "source": [
        "tokenizer = AutoTokenizer.from_pretrained(MODEL_NAME)\n",
        "\n",
        "def tokenize_batch(batch):\n",
        "    return tokenizer(batch[\"message\"], truncation=True, padding=\"max_length\", max_length=MAX_SEQ_LENGTH)\n",
        "\n",
        "hf_train = Dataset.from_pandas(train_df[['message','label_id']].rename(columns={'label_id':'label'}))\n",
        "hf_test = Dataset.from_pandas(test_df[['message','label_id']].rename(columns={'label_id':'label'}))\n",
        "\n",
        "hf_train = hf_train.map(lambda x: tokenize_batch(x), batched=True)\n",
        "hf_test  = hf_test.map(lambda x: tokenize_batch(x), batched=True)\n",
        "\n",
        "# drop original text columns to keep tensors small (datasets may have different column names)\n",
        "for d in [hf_train, hf_test]:\n",
        "    for col in [\"message\",\"__index_level_0__\"]:\n",
        "        if col in d.column_names:\n",
        "            d = d.remove_columns([col])\n",
        "\n",
        "hf_train.set_format(type=\"torch\", columns=[\"input_ids\",\"attention_mask\",\"label\"])\n",
        "hf_test.set_format(type=\"torch\", columns=[\"input_ids\",\"attention_mask\",\"label\"])"
      ],
      "metadata": {
        "colab": {
          "base_uri": "https://localhost:8080/",
          "height": 333,
          "referenced_widgets": [
            "91d9f1f919584181b13ce02dee91c9a2",
            "0d7012c2f78e480baf169013d50a1643",
            "88d36feccac1482797f2765e7b4369f1",
            "2d1c1db803f54e03b830f543c7a8cc83",
            "e0eed58677314e62b3677efd6760c1b2",
            "fbf1b121db394754a9cceca79041042d",
            "33722133f14946c1ab93dbdd669da0c2",
            "1c62953aa0d449d7902edd15a4162bc0",
            "4a33c4ae91ed44c0adf0701447b1a033",
            "5eb99b57a8004cdaaf8fe0d618a24b7d",
            "f28540fbd76548c286cd15a863a6a0c1",
            "b49f2dbdae8c4b59a1bd64277b8ff0cc",
            "d6afd4660ff446aeb17e0caae82ef566",
            "3706c952ce3f4ed78dcfd1ced46b83e0",
            "478691a25e60463d8661442c9036874b",
            "85f5bbd3cbe543128a34601d0abbcbe2",
            "9a6d4d9664a3494b9aa86e9ca75047f7",
            "1cd14f19b64a4a31833a09229590fe75",
            "a8f1529a55444596aebc8b74258f767c",
            "774329f82a854a04a46031524a6d380a",
            "6f2e71fd44be4375afb507738cddad4b",
            "be16740aae5a4cdf81da1246ce806105",
            "3f5e462f809446d6935b254c324794e7",
            "6bfb41eced9b4c8dab97e02ba7628059",
            "9c7e2002917a460bad882c56f4a6831a",
            "43cdfa7098134b49a3d6ffeb4c59569f",
            "bdc36f8d3d204cb48fdb3a92e493fce5",
            "6142e1bb19d7435692fd228ef08b6afb",
            "a2e896acf9a34b90b1a4d241bd0dbdec",
            "495833e444e74efda7ba2af930d4605f",
            "1fa77cb9c4ff44fa97c1be9158656d74",
            "76d913f3a96f47389aa03c6c6d3775e5",
            "f1076567cb114a65bde47c98b473d64e",
            "780eea01e79d42979554cecac1e209d0",
            "ce13f21721ce45eb9cc3d2109e3cdaf0",
            "a25b1fe18c2b4eaeb24c35a704d3c312",
            "7292a9e58fb549b18816d1932c221c64",
            "2d125bd3ebbf4d4c8ffc81c07e2d1508",
            "bc5c06a2902b4bf187bb4e4fff47ea1f",
            "a21e89a8ef264eb0b207b626a673e3d2",
            "6cf7a5c43b2e482d8b428b3399ff797b",
            "471a7cb7440c40f89ecdb53a001751eb",
            "40b1b169c7b6450c9c1e544f06d9b093",
            "b0512a46cc3b42f4a80c0ea349d5eb48",
            "ab267b7840e44e7d92de8bd499b6bbe8",
            "61c752f0d12e40caaf6a4dce1cd402af",
            "38106c64b8c448aaa3964afee4998979",
            "90d9b442013840b59009d48b00a69cef",
            "0c7190800c7e4fccb6a774e5de713b28",
            "1c9535c2691d47c19ac444a98706ba36",
            "b998f95df9ea4ebb90fab1997f2c4788",
            "aba82aeaa85f4e0d93a4019f18237375",
            "cfae16474a9343809514f22b36c5353c",
            "6ff9abfcd61d4d138d40580b5354f6fb",
            "8aca9b9dbd524f1294e872c29ff16cea",
            "7a15043f8e1a49f5a4a6daa497c0b780",
            "c6133c8fafc5471eaf1375b7619cab28",
            "e1c87a3ded724b11af2a06abf2f6216f",
            "4d48e8328e754d4e86bc6750828bc8b5",
            "dcc620d09dd842e0a945242379bc0c19",
            "2c1951c703364b1b88fd9a85a0afc00c",
            "1af5e14a0e1442ec9a5677ac0e70148f",
            "f7d676791a1d46488425b9f1f3f824aa",
            "5b0d9fbe6db14d75a883a3f3728e3597",
            "9477670a4a6b4d24a049a06e578c824a",
            "9e4ef4fa4df547189a9c86094d9d6ad6"
          ]
        },
        "id": "34Nk_bm5qBfA",
        "outputId": "855abaea-7b21-413a-ec21-ce2eaf395d04"
      },
      "execution_count": 7,
      "outputs": [
        {
          "output_type": "stream",
          "name": "stderr",
          "text": [
            "/usr/local/lib/python3.12/dist-packages/huggingface_hub/utils/_auth.py:94: UserWarning: \n",
            "The secret `HF_TOKEN` does not exist in your Colab secrets.\n",
            "To authenticate with the Hugging Face Hub, create a token in your settings tab (https://huggingface.co/settings/tokens), set it as secret in your Google Colab and restart your session.\n",
            "You will be able to reuse this secret in all of your notebooks.\n",
            "Please note that authentication is recommended but still optional to access public models or datasets.\n",
            "  warnings.warn(\n"
          ]
        },
        {
          "output_type": "display_data",
          "data": {
            "text/plain": [
              "tokenizer_config.json:   0%|          | 0.00/48.0 [00:00<?, ?B/s]"
            ],
            "application/vnd.jupyter.widget-view+json": {
              "version_major": 2,
              "version_minor": 0,
              "model_id": "91d9f1f919584181b13ce02dee91c9a2"
            }
          },
          "metadata": {}
        },
        {
          "output_type": "display_data",
          "data": {
            "text/plain": [
              "config.json:   0%|          | 0.00/483 [00:00<?, ?B/s]"
            ],
            "application/vnd.jupyter.widget-view+json": {
              "version_major": 2,
              "version_minor": 0,
              "model_id": "b49f2dbdae8c4b59a1bd64277b8ff0cc"
            }
          },
          "metadata": {}
        },
        {
          "output_type": "display_data",
          "data": {
            "text/plain": [
              "vocab.txt:   0%|          | 0.00/232k [00:00<?, ?B/s]"
            ],
            "application/vnd.jupyter.widget-view+json": {
              "version_major": 2,
              "version_minor": 0,
              "model_id": "3f5e462f809446d6935b254c324794e7"
            }
          },
          "metadata": {}
        },
        {
          "output_type": "display_data",
          "data": {
            "text/plain": [
              "tokenizer.json:   0%|          | 0.00/466k [00:00<?, ?B/s]"
            ],
            "application/vnd.jupyter.widget-view+json": {
              "version_major": 2,
              "version_minor": 0,
              "model_id": "780eea01e79d42979554cecac1e209d0"
            }
          },
          "metadata": {}
        },
        {
          "output_type": "display_data",
          "data": {
            "text/plain": [
              "Map:   0%|          | 0/800 [00:00<?, ? examples/s]"
            ],
            "application/vnd.jupyter.widget-view+json": {
              "version_major": 2,
              "version_minor": 0,
              "model_id": "ab267b7840e44e7d92de8bd499b6bbe8"
            }
          },
          "metadata": {}
        },
        {
          "output_type": "display_data",
          "data": {
            "text/plain": [
              "Map:   0%|          | 0/200 [00:00<?, ? examples/s]"
            ],
            "application/vnd.jupyter.widget-view+json": {
              "version_major": 2,
              "version_minor": 0,
              "model_id": "7a15043f8e1a49f5a4a6daa497c0b780"
            }
          },
          "metadata": {}
        }
      ]
    },
    {
      "cell_type": "code",
      "source": [
        "import numpy as np\n",
        "def compute_metrics(eval_pred):\n",
        "    logits, labels = eval_pred\n",
        "    preds = np.argmax(logits, axis=-1)\n",
        "    acc = (preds == labels).mean()\n",
        "    return {\"accuracy\": acc}"
      ],
      "metadata": {
        "id": "WqaNwqHHqF_4"
      },
      "execution_count": 8,
      "outputs": []
    },
    {
      "cell_type": "code",
      "source": [
        "model = AutoModelForSequenceClassification.from_pretrained(MODEL_NAME, num_labels=2).to(device)\n",
        "\n",
        "training_args = TrainingArguments(\n",
        "    output_dir=os.path.join(OUTPUT_DIR, \"baseline\"),\n",
        "    num_train_epochs=EPOCHS,\n",
        "    per_device_train_batch_size=BATCH_SIZE,\n",
        "    per_device_eval_batch_size=BATCH_SIZE,\n",
        "    learning_rate=LR,\n",
        "\n",
        "    save_strategy=\"no\",\n",
        "    logging_strategy=\"epoch\",\n",
        "    seed=RANDOM_SEED,\n",
        "    fp16=torch.cuda.is_available(),\n",
        "    disable_tqdm=False,\n",
        "    # disable external logging backends (W&B, tensorboard, etc.)\n",
        "    report_to=[\"none\"],\n",
        ")\n",
        "\n",
        "trainer = Trainer(\n",
        "    model=model,\n",
        "    args=training_args,\n",
        "    train_dataset=hf_train,\n",
        "    eval_dataset=hf_test,\n",
        "    compute_metrics=compute_metrics,\n",
        ")\n",
        "\n",
        "start = time.time()\n",
        "trainer.train()\n",
        "baseline_time = time.time() - start\n",
        "\n",
        "baseline_eval = trainer.evaluate(eval_dataset=hf_test)\n",
        "baseline_acc = baseline_eval.get(\"eval_accuracy\", None)\n",
        "print(f\"\\nBaseline accuracy on clean test: {baseline_acc:.4f} (train time {baseline_time:.1f}s)\")\n",
        "\n",
        "# classification report (clean)\n",
        "preds_output = trainer.predict(hf_test)\n",
        "preds = np.argmax(preds_output.predictions, axis=-1)\n",
        "labels = preds_output.label_ids\n",
        "print(\"\\nClassification report (clean):\\n\", classification_report(labels, preds, target_names=[\"ham\",\"spam\"]))"
      ],
      "metadata": {
        "colab": {
          "base_uri": "https://localhost:8080/",
          "height": 418
        },
        "id": "v7WpqYtKqIc9",
        "outputId": "8c5114ef-17ff-4065-db3a-8739b8cddd7d"
      },
      "execution_count": 10,
      "outputs": [
        {
          "output_type": "stream",
          "name": "stderr",
          "text": [
            "Some weights of DistilBertForSequenceClassification were not initialized from the model checkpoint at distilbert-base-uncased and are newly initialized: ['classifier.bias', 'classifier.weight', 'pre_classifier.bias', 'pre_classifier.weight']\n",
            "You should probably TRAIN this model on a down-stream task to be able to use it for predictions and inference.\n"
          ]
        },
        {
          "output_type": "display_data",
          "data": {
            "text/plain": [
              "<IPython.core.display.HTML object>"
            ],
            "text/html": [
              "\n",
              "    <div>\n",
              "      \n",
              "      <progress value='100' max='100' style='width:300px; height:20px; vertical-align: middle;'></progress>\n",
              "      [100/100 00:06, Epoch 2/2]\n",
              "    </div>\n",
              "    <table border=\"1\" class=\"dataframe\">\n",
              "  <thead>\n",
              " <tr style=\"text-align: left;\">\n",
              "      <th>Step</th>\n",
              "      <th>Training Loss</th>\n",
              "    </tr>\n",
              "  </thead>\n",
              "  <tbody>\n",
              "    <tr>\n",
              "      <td>50</td>\n",
              "      <td>0.349900</td>\n",
              "    </tr>\n",
              "    <tr>\n",
              "      <td>100</td>\n",
              "      <td>0.077600</td>\n",
              "    </tr>\n",
              "  </tbody>\n",
              "</table><p>"
            ]
          },
          "metadata": {}
        },
        {
          "output_type": "display_data",
          "data": {
            "text/plain": [
              "<IPython.core.display.HTML object>"
            ],
            "text/html": []
          },
          "metadata": {}
        },
        {
          "output_type": "stream",
          "name": "stdout",
          "text": [
            "\n",
            "Baseline accuracy on clean test: 0.9850 (train time 8.2s)\n",
            "\n",
            "Classification report (clean):\n",
            "               precision    recall  f1-score   support\n",
            "\n",
            "         ham       0.99      0.98      0.98       100\n",
            "        spam       0.98      0.99      0.99       100\n",
            "\n",
            "    accuracy                           0.98       200\n",
            "   macro avg       0.99      0.98      0.98       200\n",
            "weighted avg       0.99      0.98      0.98       200\n",
            "\n"
          ]
        }
      ]
    },
    {
      "cell_type": "code",
      "source": [
        "# Generate adv_samples using numeric label column name 'label_id' (keeps things consistent)\n",
        "spam_test_messages = test_df[test_df['label']=='spam']['message'].tolist()\n",
        "adv_samples = []\n",
        "for msg in spam_test_messages:\n",
        "    for _ in range(N_ADVERSARIAL_PER_SPAM):\n",
        "        adv = generate_adversarial_variant(msg)\n",
        "        adv_samples.append({\"message\": adv, \"label_id\": 1})   # <- notice label_id\n",
        "\n",
        "adv_samples = adv_samples[:MAX_ADVERSARIAL_SAMPLES]\n",
        "print(\"Generated adv samples:\", len(adv_samples))\n",
        "\n",
        "# Build adv DataFrame with label_id and then append\n",
        "adv_df = pd.DataFrame(adv_samples)  # columns: message, label_id\n",
        "\n",
        "# Ensure test_df has message and label_id columns\n",
        "# If test_df currently has 'label' (string) and 'label_id' (int), we will keep label_id\n",
        "if 'label_id' not in test_df.columns:\n",
        "    # if only 'label' exists (strings), map to label_id\n",
        "    test_df['label_id'] = test_df['label'].map({'ham':0, 'spam':1})\n",
        "\n",
        "adv_test_df = pd.concat([test_df.reset_index(drop=True), adv_df], ignore_index=True).reset_index(drop=True)\n",
        "\n",
        "# Now create HF dataset using numeric 'label_id' -> rename to 'label' for HF Dataset\n",
        "hf_adv_test = Dataset.from_pandas(adv_test_df[['message','label_id']].rename(columns={'label_id':'label'}))\n",
        "hf_adv_test = hf_adv_test.map(lambda x: tokenizer(x[\"message\"], truncation=True, padding=\"max_length\", max_length=MAX_SEQ_LENGTH), batched=True)\n",
        "\n",
        "# Drop text/index cols if present and set format\n",
        "for col in [\"message\",\"__index_level_0__\"]:\n",
        "    if col in hf_adv_test.column_names:\n",
        "        hf_adv_test = hf_adv_test.remove_columns([col])\n",
        "hf_adv_test.set_format(type=\"torch\", columns=[\"input_ids\",\"attention_mask\",\"label\"])\n",
        "\n",
        "\n",
        "adv_eval = trainer.evaluate(eval_dataset=hf_adv_test)\n",
        "adv_acc = adv_eval.get(\"eval_accuracy\", None)\n",
        "print(f\"\\nAccuracy on attacked test (baseline): {adv_acc:.4f}\")\n",
        "\n",
        "preds_output_adv = trainer.predict(hf_adv_test)\n",
        "preds_adv = np.argmax(preds_output_adv.predictions, axis=-1)\n",
        "labels_adv = preds_output_adv.label_ids\n",
        "print(\"\\nClassification report (attacked):\\n\", classification_report(labels_adv, preds_adv, target_names=[\"ham\",\"spam\"]))"
      ],
      "metadata": {
        "colab": {
          "base_uri": "https://localhost:8080/",
          "height": 292,
          "referenced_widgets": [
            "ad3cb612cb7d463a8a8a61fceecdb9f1",
            "2de116b80e1641caa659dded218ec265",
            "cc2469e014b7438cb00c4d9a2be2303c",
            "c7912b94252a443e92ad5ead2b610fe5",
            "80c2e4c962c34ddbbcf171186dc01622",
            "d5fb3037360d4c9a8a59263fb9606d8e",
            "b6b2838fdfae4d5abd31c9b9ea36c06e",
            "f9f423efc82142ce861a0c7f1521d007",
            "f5a2820a9f884a20886cacb3adc0d9bd",
            "4ca8157ea3a541599ba9957c41f7197b",
            "42ed090fe484452c866eeb123537dc08"
          ]
        },
        "id": "GXrB_xOsq8C4",
        "outputId": "4d07470b-4ba4-41f4-f258-3b6f67c9dd43"
      },
      "execution_count": 12,
      "outputs": [
        {
          "output_type": "stream",
          "name": "stdout",
          "text": [
            "Generated adv samples: 100\n"
          ]
        },
        {
          "output_type": "display_data",
          "data": {
            "text/plain": [
              "Map:   0%|          | 0/300 [00:00<?, ? examples/s]"
            ],
            "application/vnd.jupyter.widget-view+json": {
              "version_major": 2,
              "version_minor": 0,
              "model_id": "ad3cb612cb7d463a8a8a61fceecdb9f1"
            }
          },
          "metadata": {}
        },
        {
          "output_type": "display_data",
          "data": {
            "text/plain": [
              "<IPython.core.display.HTML object>"
            ],
            "text/html": []
          },
          "metadata": {}
        },
        {
          "output_type": "stream",
          "name": "stdout",
          "text": [
            "\n",
            "Accuracy on attacked test (baseline): 0.9867\n",
            "\n",
            "Classification report (attacked):\n",
            "               precision    recall  f1-score   support\n",
            "\n",
            "         ham       0.98      0.98      0.98       100\n",
            "        spam       0.99      0.99      0.99       200\n",
            "\n",
            "    accuracy                           0.99       300\n",
            "   macro avg       0.98      0.98      0.98       300\n",
            "weighted avg       0.99      0.99      0.99       300\n",
            "\n"
          ]
        }
      ]
    },
    {
      "cell_type": "code",
      "source": [
        "# --- Cell 6: Setup TextAttack and build attack (TextFooler) ---\n",
        "# TextAttack imports\n",
        "import textattack\n",
        "from textattack.attack_recipes import TextFoolerJin2019\n",
        "from textattack.models.wrappers import HuggingFaceModelWrapper\n",
        "from textattack import Attacker, AttackArgs\n",
        "from textattack.datasets import Dataset as TA_Dataset\n",
        "\n",
        "# Wrap HF model for TextAttack\n",
        "# Important: ensure the model on device returns logits on CPU (TextAttack will call forward)\n",
        "wrapped_model = HuggingFaceModelWrapper(model, tokenizer)\n",
        "\n",
        "# Build TextFooler attack\n",
        "attack = TextFoolerJin2019.build(wrapped_model)\n"
      ],
      "metadata": {
        "colab": {
          "base_uri": "https://localhost:8080/"
        },
        "id": "HkX5E87etw3A",
        "outputId": "c6af6b44-8bdb-464c-ca1b-00e2efdfa29d"
      },
      "execution_count": 15,
      "outputs": [
        {
          "output_type": "stream",
          "name": "stderr",
          "text": [
            "textattack: Updating TextAttack package dependencies.\n",
            "textattack: Downloading NLTK required packages.\n",
            "[nltk_data] Downloading package averaged_perceptron_tagger to\n",
            "[nltk_data]     /root/nltk_data...\n",
            "[nltk_data]   Unzipping taggers/averaged_perceptron_tagger.zip.\n",
            "[nltk_data] Downloading package stopwords to /root/nltk_data...\n",
            "[nltk_data]   Unzipping corpora/stopwords.zip.\n",
            "[nltk_data] Downloading package omw to /root/nltk_data...\n",
            "[nltk_data] Downloading package universal_tagset to /root/nltk_data...\n",
            "[nltk_data]   Unzipping taggers/universal_tagset.zip.\n",
            "[nltk_data] Downloading package wordnet to /root/nltk_data...\n",
            "[nltk_data] Downloading package punkt to /root/nltk_data...\n",
            "[nltk_data]   Unzipping tokenizers/punkt.zip.\n",
            "/usr/local/lib/python3.12/dist-packages/jieba/__init__.py:44: SyntaxWarning: invalid escape sequence '\\.'\n",
            "  re_han_default = re.compile(\"([\\u4E00-\\u9FD5a-zA-Z0-9+#&\\._%\\-]+)\", re.U)\n",
            "/usr/local/lib/python3.12/dist-packages/jieba/__init__.py:46: SyntaxWarning: invalid escape sequence '\\s'\n",
            "  re_skip_default = re.compile(\"(\\r\\n|\\s)\", re.U)\n",
            "/usr/local/lib/python3.12/dist-packages/jieba/finalseg/__init__.py:78: SyntaxWarning: invalid escape sequence '\\.'\n",
            "  re_skip = re.compile(\"([a-zA-Z0-9]+(?:\\.\\d+)?%?)\")\n",
            "textattack: Downloading https://textattack.s3.amazonaws.com/word_embeddings/paragramcf.\n",
            "100%|██████████| 481M/481M [00:15<00:00, 30.5MB/s]\n",
            "textattack: Unzipping file /root/.cache/textattack/tmpqjwldzao.zip to /root/.cache/textattack/word_embeddings/paragramcf.\n",
            "textattack: Successfully saved word_embeddings/paragramcf to cache.\n",
            "textattack: Unknown if model of class <class 'transformers.models.distilbert.modeling_distilbert.DistilBertForSequenceClassification'> compatible with goal function <class 'textattack.goal_functions.classification.untargeted_classification.UntargetedClassification'>.\n"
          ]
        }
      ]
    },
    {
      "cell_type": "code",
      "metadata": {
        "id": "6861ef68"
      },
      "source": [
        "pip_install(\"textattack\")"
      ],
      "execution_count": 14,
      "outputs": []
    },
    {
      "cell_type": "code",
      "source": [
        "# --- Cell 7: Prepare the dataset to attack (spam subset from test set) ---\n",
        "# Extract spam examples from test set and limit to NUM_ATTACK_EXAMPLES\n",
        "spam_test = test_df[test_df['label']=='spam'].reset_index(drop=True)\n",
        "spam_to_attack = spam_test['message'].tolist()[:NUM_ATTACK_EXAMPLES]\n",
        "labels_to_attack = [1]*len(spam_to_attack)    # label 1 == spam\n",
        "\n",
        "# Create TextAttack dataset: list of (text, label) tuples\n",
        "ta_dataset = TA_Dataset(list(zip(spam_to_attack, labels_to_attack)))\n",
        "print(\"Prepared TA dataset length:\", len(ta_dataset))\n"
      ],
      "metadata": {
        "colab": {
          "base_uri": "https://localhost:8080/"
        },
        "id": "yAKXe3_cuPAj",
        "outputId": "7910a68f-93e0-442c-f790-5844f410305f"
      },
      "execution_count": 18,
      "outputs": [
        {
          "output_type": "stream",
          "name": "stdout",
          "text": [
            "Prepared TA dataset length: 100\n"
          ]
        }
      ]
    },
    {
      "cell_type": "code",
      "source": [
        "# --- Cell 8: Run attack (kept small) ---\n",
        "attack_args = AttackArgs(\n",
        "    num_examples=len(ta_dataset),   # attack all items in ta_dataset\n",
        "    query_budget=ATTACK_QUERY_BUDGET,\n",
        "    log_to_csv=None,\n",
        "    checkpoint_interval=0,\n",
        "    disable_stdout=False,           # show progress; set True to silence\n",
        "    random_seed=RANDOM_SEED,\n",
        "    parallel=False                  # set True for multi-process but more complex in Colab\n",
        ")\n",
        "\n",
        "attacker = Attacker(attack, ta_dataset, attack_args)\n",
        "print(\"Starting attacks (this can take time depending on recipe and budget)...\")\n",
        "attack_results = attacker.attack_dataset()\n",
        "print(\"Attacks complete.\")"
      ],
      "metadata": {
        "colab": {
          "base_uri": "https://localhost:8080/"
        },
        "id": "REepvamuuaP-",
        "outputId": "e0cf0ec8-87b4-4a03-faa9-67273ff265c6"
      },
      "execution_count": 21,
      "outputs": [
        {
          "output_type": "stream",
          "name": "stdout",
          "text": [
            "Starting attacks (this can take time depending on recipe and budget)...\n",
            "Attack(\n",
            "  (search_method): GreedyWordSwapWIR(\n",
            "    (wir_method):  delete\n",
            "  )\n",
            "  (goal_function):  UntargetedClassification\n",
            "  (transformation):  WordSwapEmbedding(\n",
            "    (max_candidates):  50\n",
            "    (embedding):  WordEmbedding\n",
            "  )\n",
            "  (constraints): \n",
            "    (0): WordEmbeddingDistance(\n",
            "        (embedding):  WordEmbedding\n",
            "        (min_cos_sim):  0.5\n",
            "        (cased):  False\n",
            "        (include_unknown_words):  True\n",
            "        (compare_against_original):  True\n",
            "      )\n",
            "    (1): PartOfSpeech(\n",
            "        (tagger_type):  nltk\n",
            "        (tagset):  universal\n",
            "        (allow_verb_noun_swap):  True\n",
            "        (compare_against_original):  True\n",
            "      )\n",
            "    (2): UniversalSentenceEncoder(\n",
            "        (metric):  angular\n",
            "        (threshold):  0.840845057\n",
            "        (window_size):  15\n",
            "        (skip_text_shorter_than_window):  True\n",
            "        (compare_against_original):  False\n",
            "      )\n",
            "    (3): RepeatModification\n",
            "    (4): StopwordModification\n",
            "    (5): InputColumnModification(\n",
            "        (matching_column_labels):  ['premise', 'hypothesis']\n",
            "        (columns_to_ignore):  {'premise'}\n",
            "      )\n",
            "  (is_black_box):  True\n",
            ") \n",
            "\n"
          ]
        },
        {
          "output_type": "stream",
          "name": "stderr",
          "text": [
            "\n",
            "  0%|          | 0/100 [00:00<?, ?it/s]\u001b[A\n",
            "  1%|          | 1/100 [00:31<52:25, 31.77s/it]\u001b[A\n",
            "[Succeeded / Failed / Skipped / Total] 0 / 1 / 0 / 1:   1%|          | 1/100 [00:31<52:25, 31.78s/it]\u001b[A"
          ]
        },
        {
          "output_type": "stream",
          "name": "stdout",
          "text": [
            "--------------------------------------------- Result 1 ---------------------------------------------\n",
            "[[1 (99%)]] --> [[[FAILED]]]\n",
            "\n",
            "FreeMsg: Claim ur 250 SMS messages-Text OK to 84025 now!Use web2mobile 2 ur mates etc. Join Txt250.com for 1.50p/wk. T&C BOX139, LA32WU. 16 . Remove txtX or stop\n",
            "\n",
            "\n"
          ]
        },
        {
          "output_type": "stream",
          "name": "stderr",
          "text": [
            "\n",
            "[Succeeded / Failed / Skipped / Total] 0 / 1 / 0 / 1:   2%|▏         | 2/100 [00:33<27:44, 16.98s/it]\u001b[A\n",
            "[Succeeded / Failed / Skipped / Total] 0 / 2 / 0 / 2:   2%|▏         | 2/100 [00:33<27:44, 16.99s/it]\u001b[A"
          ]
        },
        {
          "output_type": "stream",
          "name": "stdout",
          "text": [
            "--------------------------------------------- Result 2 ---------------------------------------------\n",
            "[[1 (99%)]] --> [[[FAILED]]]\n",
            "\n",
            "Urgent! Please call 09061213237 from landline. Â£5000 cash or a luxury 4* Canary Islands Holiday await collection. T&Cs SAE PO Box 177. M227XY. 150ppm. 16+\n",
            "\n",
            "\n"
          ]
        },
        {
          "output_type": "stream",
          "name": "stderr",
          "text": [
            "\n",
            "[Succeeded / Failed / Skipped / Total] 0 / 2 / 0 / 2:   3%|▎         | 3/100 [00:34<18:49, 11.65s/it]\u001b[A\n",
            "[Succeeded / Failed / Skipped / Total] 0 / 3 / 0 / 3:   3%|▎         | 3/100 [00:34<18:49, 11.65s/it]\u001b[A\n",
            "[Succeeded / Failed / Skipped / Total] 0 / 3 / 1 / 4:   4%|▍         | 4/100 [00:34<13:58,  8.74s/it]\u001b[A"
          ]
        },
        {
          "output_type": "stream",
          "name": "stdout",
          "text": [
            "--------------------------------------------- Result 3 ---------------------------------------------\n",
            "[[1 (99%)]] --> [[[FAILED]]]\n",
            "\n",
            "For ur chance to win Â£250 cash every wk TXT: PLAY to 83370. T's&C's www.music-trivia.net custcare 08715705022, 1x150p/wk.\n",
            "\n",
            "\n",
            "--------------------------------------------- Result 4 ---------------------------------------------\n",
            "[[0 (95%)]] --> [[[SKIPPED]]]\n",
            "\n",
            "Hi this is Amy, we will be sending you a free phone number in a couple of days, which will give you an access to all the adult parties...\n",
            "\n",
            "\n"
          ]
        },
        {
          "output_type": "stream",
          "name": "stderr",
          "text": [
            "\n",
            "[Succeeded / Failed / Skipped / Total] 0 / 3 / 1 / 4:   5%|▌         | 5/100 [00:36<11:29,  7.26s/it]\u001b[A\n",
            "[Succeeded / Failed / Skipped / Total] 0 / 4 / 1 / 5:   5%|▌         | 5/100 [00:36<11:29,  7.26s/it]\u001b[A"
          ]
        },
        {
          "output_type": "stream",
          "name": "stdout",
          "text": [
            "--------------------------------------------- Result 5 ---------------------------------------------\n",
            "[[1 (99%)]] --> [[[FAILED]]]\n",
            "\n",
            "FREE2DAY sexy St George's Day pic of Jordan!Txt PIC to 89080 dont miss out, then every wk a saucy celeb!4 more pics c PocketBabe.co.uk 0870241182716 Â£3/wk\n",
            "\n",
            "\n"
          ]
        },
        {
          "output_type": "stream",
          "name": "stderr",
          "text": [
            "\n",
            "[Succeeded / Failed / Skipped / Total] 0 / 5 / 1 / 6:   6%|▌         | 6/100 [00:37<09:54,  6.33s/it]\u001b[A"
          ]
        },
        {
          "output_type": "stream",
          "name": "stdout",
          "text": [
            "--------------------------------------------- Result 6 ---------------------------------------------\n",
            "[[1 (99%)]] --> [[[FAILED]]]\n",
            "\n",
            "FREE RINGTONE text FIRST to 87131 for a poly or text GET to 87131 for a true tone! Help? 0845 2814032 16 after 1st free, tones are 3xÂ£150pw to eÂ£nd txt stop\n",
            "\n",
            "\n"
          ]
        },
        {
          "output_type": "stream",
          "name": "stderr",
          "text": [
            "\n",
            "[Succeeded / Failed / Skipped / Total] 0 / 5 / 1 / 6:   7%|▋         | 7/100 [00:39<08:48,  5.68s/it]\u001b[A\n",
            "[Succeeded / Failed / Skipped / Total] 0 / 6 / 1 / 7:   7%|▋         | 7/100 [00:39<08:48,  5.68s/it]\u001b[A"
          ]
        },
        {
          "output_type": "stream",
          "name": "stdout",
          "text": [
            "--------------------------------------------- Result 7 ---------------------------------------------\n",
            "[[1 (99%)]] --> [[[FAILED]]]\n",
            "\n",
            "Do you want a New Nokia 3510i colour phone DeliveredTomorrow? With 300 free minutes to any mobile + 100 free texts + Free Camcorder reply or call 08000930705\n",
            "\n",
            "\n"
          ]
        },
        {
          "output_type": "stream",
          "name": "stderr",
          "text": [
            "\n",
            "[Succeeded / Failed / Skipped / Total] 0 / 7 / 1 / 8:   8%|▊         | 8/100 [00:41<08:00,  5.23s/it]\u001b[A"
          ]
        },
        {
          "output_type": "stream",
          "name": "stdout",
          "text": [
            "--------------------------------------------- Result 8 ---------------------------------------------\n",
            "[[1 (99%)]] --> [[[FAILED]]]\n",
            "\n",
            "Todays Voda numbers ending 5226 are selected to receive a ?350 award. If you hava a match please call 08712300220 quoting claim code 1131 standard rates app\n",
            "\n",
            "\n"
          ]
        },
        {
          "output_type": "stream",
          "name": "stderr",
          "text": [
            "\n",
            "[Succeeded / Failed / Skipped / Total] 0 / 7 / 1 / 8:   9%|▉         | 9/100 [00:43<07:22,  4.86s/it]\u001b[A\n",
            "[Succeeded / Failed / Skipped / Total] 0 / 8 / 1 / 9:   9%|▉         | 9/100 [00:43<07:22,  4.86s/it]\u001b[A"
          ]
        },
        {
          "output_type": "stream",
          "name": "stdout",
          "text": [
            "--------------------------------------------- Result 9 ---------------------------------------------\n",
            "[[1 (99%)]] --> [[[FAILED]]]\n",
            "\n",
            "Todays Voda numbers ending 1225 are selected to receive a Â£50award. If you have a match please call 08712300220 quoting claim code 3100 standard rates app\n",
            "\n",
            "\n"
          ]
        },
        {
          "output_type": "stream",
          "name": "stderr",
          "text": [
            "\n",
            "[Succeeded / Failed / Skipped / Total] 0 / 9 / 1 / 10:  10%|█         | 10/100 [00:46<06:55,  4.62s/it]\u001b[A"
          ]
        },
        {
          "output_type": "stream",
          "name": "stdout",
          "text": [
            "--------------------------------------------- Result 10 ---------------------------------------------\n",
            "[[1 (99%)]] --> [[[FAILED]]]\n",
            "\n",
            "For taking part in our mobile survey yesterday! You can now have 500 texts 2 use however you wish. 2 get txts just send TXT to 80160 T&C www.txt43.com 1.50p\n",
            "\n",
            "\n"
          ]
        },
        {
          "output_type": "stream",
          "name": "stderr",
          "text": [
            "\n",
            "[Succeeded / Failed / Skipped / Total] 0 / 9 / 1 / 10:  11%|█         | 11/100 [00:48<06:33,  4.43s/it]\u001b[A\n",
            "[Succeeded / Failed / Skipped / Total] 0 / 10 / 1 / 11:  11%|█         | 11/100 [00:48<06:33,  4.43s/it]\u001b[A"
          ]
        },
        {
          "output_type": "stream",
          "name": "stdout",
          "text": [
            "--------------------------------------------- Result 11 ---------------------------------------------\n",
            "[[1 (98%)]] --> [[[FAILED]]]\n",
            "\n",
            "IMPORTANT INFORMATION 4 ORANGE USER 0796XXXXXX. TODAY IS UR LUCKY DAY!2 FIND OUT WHY LOG ONTO http://www.urawinner.com THERE'S A FANTASTIC PRIZEAWAITING YOU!\n",
            "\n",
            "\n",
            "--------------------------------------------- Result 12 ---------------------------------------------\n"
          ]
        },
        {
          "output_type": "stream",
          "name": "stderr",
          "text": [
            "\n",
            "[Succeeded / Failed / Skipped / Total] 1 / 10 / 1 / 12:  12%|█▏        | 12/100 [00:51<06:19,  4.31s/it]\u001b[A"
          ]
        },
        {
          "output_type": "stream",
          "name": "stdout",
          "text": [
            "[[1 (98%)]] --> [[0 (55%)]]\n",
            "\n",
            "Our [[records]] [[indicate]] u maybe entitled to 5000 [[pounds]] in compensation for the [[Accident]] you [[had]]. To [[claim]] 4 [[free]] [[reply]] with [[CLAIM]] to this [[msg]]. 2 [[stop]] txt [[STOP]]\n",
            "\n",
            "Our [[inscription]] [[suggest]] u maybe entitled to 5000 [[liras]] in compensation for the [[Injure]] you [[ha]]. To [[argue]] 4 [[gratuitous]] [[rebuttal]] with [[ALLEGE]] to this [[message]]. 2 [[desist]] txt [[DETAINEE]]\n",
            "\n",
            "\n"
          ]
        },
        {
          "output_type": "stream",
          "name": "stderr",
          "text": [
            "\n",
            "[Succeeded / Failed / Skipped / Total] 1 / 10 / 1 / 12:  13%|█▎        | 13/100 [00:53<05:56,  4.10s/it]\u001b[A\n",
            "[Succeeded / Failed / Skipped / Total] 1 / 11 / 1 / 13:  13%|█▎        | 13/100 [00:53<05:56,  4.10s/it]\u001b[A"
          ]
        },
        {
          "output_type": "stream",
          "name": "stdout",
          "text": [
            "--------------------------------------------- Result 13 ---------------------------------------------\n",
            "[[1 (99%)]] --> [[[FAILED]]]\n",
            "\n",
            "Guess what! Somebody you know secretly fancies you! Wanna find out who it is? Give us a call on 09065394973 from Landline DATEBox1282EssexCM61XN 150p/min 18\n",
            "\n",
            "\n"
          ]
        },
        {
          "output_type": "stream",
          "name": "stderr",
          "text": [
            "\n",
            "[Succeeded / Failed / Skipped / Total] 1 / 12 / 1 / 14:  14%|█▍        | 14/100 [00:55<05:41,  3.97s/it]\u001b[A"
          ]
        },
        {
          "output_type": "stream",
          "name": "stdout",
          "text": [
            "--------------------------------------------- Result 14 ---------------------------------------------\n",
            "[[1 (99%)]] --> [[[FAILED]]]\n",
            "\n",
            "WINNER!! As a valued network customer you have been selected to receivea Â£900 prize reward! To claim call 09061701461. Claim code KL341. Valid 12 hours only.\n",
            "\n",
            "\n"
          ]
        },
        {
          "output_type": "stream",
          "name": "stderr",
          "text": [
            "\n",
            "[Succeeded / Failed / Skipped / Total] 1 / 12 / 1 / 14:  15%|█▌        | 15/100 [00:57<05:26,  3.84s/it]\u001b[A\n",
            "[Succeeded / Failed / Skipped / Total] 1 / 13 / 1 / 15:  15%|█▌        | 15/100 [00:57<05:26,  3.84s/it]\u001b[A"
          ]
        },
        {
          "output_type": "stream",
          "name": "stdout",
          "text": [
            "--------------------------------------------- Result 15 ---------------------------------------------\n",
            "[[1 (99%)]] --> [[[FAILED]]]\n",
            "\n",
            "Want the latest Video handset? 750 anytime any network mins? Half price line rental? Reply or call 08000930705 for delivery tomorrow\n",
            "\n",
            "\n"
          ]
        },
        {
          "output_type": "stream",
          "name": "stderr",
          "text": [
            "\n",
            "[Succeeded / Failed / Skipped / Total] 1 / 14 / 1 / 16:  16%|█▌        | 16/100 [00:59<05:12,  3.72s/it]\u001b[A"
          ]
        },
        {
          "output_type": "stream",
          "name": "stdout",
          "text": [
            "--------------------------------------------- Result 16 ---------------------------------------------\n",
            "[[1 (99%)]] --> [[[FAILED]]]\n",
            "\n",
            "Hi. Customer Loyalty Offer:The NEW Nokia6650 Mobile from ONLY Â£10 at TXTAUCTION! Txt word: START to No: 81151 & get yours Now! 4T&Ctxt TC 150p/MTmsg\n",
            "\n",
            "\n"
          ]
        },
        {
          "output_type": "stream",
          "name": "stderr",
          "text": [
            "\n",
            "[Succeeded / Failed / Skipped / Total] 1 / 14 / 1 / 16:  17%|█▋        | 17/100 [01:00<04:54,  3.55s/it]\u001b[A\n",
            "[Succeeded / Failed / Skipped / Total] 1 / 15 / 1 / 17:  17%|█▋        | 17/100 [01:00<04:54,  3.55s/it]\u001b[A"
          ]
        },
        {
          "output_type": "stream",
          "name": "stdout",
          "text": [
            "--------------------------------------------- Result 17 ---------------------------------------------\n",
            "[[1 (99%)]] --> [[[FAILED]]]\n",
            "\n",
            "FREE RING TONE just text \"POLYS\" to 87131. Then every week get a new tone. 0870737910216yrs only Â£1.50/wk.\n",
            "\n",
            "\n"
          ]
        },
        {
          "output_type": "stream",
          "name": "stderr",
          "text": [
            "\n",
            "[Succeeded / Failed / Skipped / Total] 1 / 16 / 1 / 18:  18%|█▊        | 18/100 [01:01<04:40,  3.42s/it]\u001b[A"
          ]
        },
        {
          "output_type": "stream",
          "name": "stdout",
          "text": [
            "--------------------------------------------- Result 18 ---------------------------------------------\n",
            "[[1 (99%)]] --> [[[FAILED]]]\n",
            "\n",
            "XMAS iscoming & ur awarded either Â£500 CD gift vouchers & free entry 2 r Â£100 weekly draw txt MUSIC to 87066 TnC www.Ldew.com1win150ppmx3age16subscription\n",
            "\n",
            "\n"
          ]
        },
        {
          "output_type": "stream",
          "name": "stderr",
          "text": [
            "\n",
            "[Succeeded / Failed / Skipped / Total] 1 / 16 / 1 / 18:  19%|█▉        | 19/100 [01:02<04:28,  3.31s/it]\u001b[A\n",
            "[Succeeded / Failed / Skipped / Total] 1 / 17 / 1 / 19:  19%|█▉        | 19/100 [01:02<04:28,  3.31s/it]\u001b[A"
          ]
        },
        {
          "output_type": "stream",
          "name": "stdout",
          "text": [
            "--------------------------------------------- Result 19 ---------------------------------------------\n",
            "[[1 (99%)]] --> [[[FAILED]]]\n",
            "\n",
            "URGENT! Your mobile was awarded a Â£1,500 Bonus Caller Prize on 27/6/03. Our final attempt 2 contact U! Call 08714714011\n",
            "\n",
            "\n"
          ]
        },
        {
          "output_type": "stream",
          "name": "stderr",
          "text": [
            "\n",
            "[Succeeded / Failed / Skipped / Total] 1 / 18 / 1 / 20:  20%|██        | 20/100 [01:04<04:16,  3.20s/it]\u001b[A"
          ]
        },
        {
          "output_type": "stream",
          "name": "stdout",
          "text": [
            "--------------------------------------------- Result 20 ---------------------------------------------\n",
            "[[1 (99%)]] --> [[[FAILED]]]\n",
            "\n",
            "Your 2004 account for 07XXXXXXXXX shows 786 unredeemed points. To claim call 08719181259 Identifier code: XXXXX Expires 26.03.05\n",
            "\n",
            "\n"
          ]
        },
        {
          "output_type": "stream",
          "name": "stderr",
          "text": [
            "\n",
            "[Succeeded / Failed / Skipped / Total] 1 / 18 / 1 / 20:  21%|██        | 21/100 [01:05<04:04,  3.10s/it]\u001b[A\n",
            "[Succeeded / Failed / Skipped / Total] 1 / 19 / 1 / 21:  21%|██        | 21/100 [01:05<04:04,  3.10s/it]\u001b[A"
          ]
        },
        {
          "output_type": "stream",
          "name": "stdout",
          "text": [
            "--------------------------------------------- Result 21 ---------------------------------------------\n",
            "[[1 (98%)]] --> [[[FAILED]]]\n",
            "\n",
            "XXXMobileMovieClub: To use your credit, click the WAP link in the next txt message or click here>> http://wap. xxxmobilemovieclub.com?n=QJKGIGHJJGCBL\n",
            "\n",
            "\n"
          ]
        },
        {
          "output_type": "stream",
          "name": "stderr",
          "text": [
            "\n",
            "[Succeeded / Failed / Skipped / Total] 1 / 20 / 1 / 22:  22%|██▏       | 22/100 [01:06<03:57,  3.04s/it]\u001b[A"
          ]
        },
        {
          "output_type": "stream",
          "name": "stdout",
          "text": [
            "--------------------------------------------- Result 22 ---------------------------------------------\n",
            "[[1 (99%)]] --> [[[FAILED]]]\n",
            "\n",
            "GENT! We are trying to contact you. Last weekends draw shows that you won a Â£1000 prize GUARANTEED. Call 09064012160. Claim Code K52. Valid 12hrs only. 150ppm\n",
            "\n",
            "\n"
          ]
        },
        {
          "output_type": "stream",
          "name": "stderr",
          "text": [
            "\n",
            "[Succeeded / Failed / Skipped / Total] 1 / 20 / 1 / 22:  23%|██▎       | 23/100 [01:09<03:53,  3.04s/it]\u001b[A\n",
            "[Succeeded / Failed / Skipped / Total] 1 / 21 / 1 / 23:  23%|██▎       | 23/100 [01:09<03:53,  3.04s/it]\u001b[A"
          ]
        },
        {
          "output_type": "stream",
          "name": "stdout",
          "text": [
            "--------------------------------------------- Result 23 ---------------------------------------------\n",
            "[[1 (99%)]] --> [[[FAILED]]]\n",
            "\n",
            "Thanks for your ringtone order, reference number X49. Your mobile will be charged 4.50. Should your tone not arrive please call customer services 09065989182. From: [colour=red]text[/colour]TXTstar\n",
            "\n",
            "\n"
          ]
        },
        {
          "output_type": "stream",
          "name": "stderr",
          "text": [
            "\n",
            "[Succeeded / Failed / Skipped / Total] 1 / 22 / 1 / 24:  24%|██▍       | 24/100 [01:11<03:46,  2.98s/it]\u001b[A"
          ]
        },
        {
          "output_type": "stream",
          "name": "stdout",
          "text": [
            "--------------------------------------------- Result 24 ---------------------------------------------\n",
            "[[1 (99%)]] --> [[[FAILED]]]\n",
            "\n",
            "Txt: CALL to No: 86888 & claim your reward of 3 hours talk time to use from your phone now! Subscribe6GBP/mnth inc 3hrs 16 stop?txtStop www.gamb.tv\n",
            "\n",
            "\n"
          ]
        },
        {
          "output_type": "stream",
          "name": "stderr",
          "text": [
            "\n",
            "[Succeeded / Failed / Skipped / Total] 1 / 22 / 1 / 24:  25%|██▌       | 25/100 [01:13<03:39,  2.93s/it]\u001b[A\n",
            "[Succeeded / Failed / Skipped / Total] 1 / 23 / 1 / 25:  25%|██▌       | 25/100 [01:13<03:39,  2.93s/it]\u001b[A"
          ]
        },
        {
          "output_type": "stream",
          "name": "stdout",
          "text": [
            "--------------------------------------------- Result 25 ---------------------------------------------\n",
            "[[1 (99%)]] --> [[[FAILED]]]\n",
            "\n",
            "+123 Congratulations - in this week's competition draw u have won the Â£1450 prize to claim just call 09050002311 b4280703. T&Cs/stop SMS 08718727868. Over 18 only 150ppm\n",
            "\n",
            "\n"
          ]
        },
        {
          "output_type": "stream",
          "name": "stderr",
          "text": [
            "\n",
            "[Succeeded / Failed / Skipped / Total] 1 / 24 / 1 / 26:  26%|██▌       | 26/100 [01:14<03:33,  2.88s/it]\u001b[A"
          ]
        },
        {
          "output_type": "stream",
          "name": "stdout",
          "text": [
            "--------------------------------------------- Result 26 ---------------------------------------------\n",
            "[[1 (99%)]] --> [[[FAILED]]]\n",
            "\n",
            "This is the 2nd attempt to contract U, you have won this weeks top prize of either Â£1000 cash or Â£200 prize. Just call 09066361921\n",
            "\n",
            "\n"
          ]
        },
        {
          "output_type": "stream",
          "name": "stderr",
          "text": [
            "\n",
            "[Succeeded / Failed / Skipped / Total] 1 / 24 / 1 / 26:  27%|██▋       | 27/100 [01:15<03:25,  2.81s/it]\u001b[A\n",
            "[Succeeded / Failed / Skipped / Total] 1 / 25 / 1 / 27:  27%|██▋       | 27/100 [01:15<03:25,  2.81s/it]\u001b[A"
          ]
        },
        {
          "output_type": "stream",
          "name": "stdout",
          "text": [
            "--------------------------------------------- Result 27 ---------------------------------------------\n",
            "[[1 (99%)]] --> [[[FAILED]]]\n",
            "\n",
            "You are being ripped off! Get your mobile content from www.clubmoby.com call 08717509990 poly/true/Pix/Ringtones/Games six downloads for only 3\n",
            "\n",
            "\n"
          ]
        },
        {
          "output_type": "stream",
          "name": "stderr",
          "text": [
            "\n",
            "[Succeeded / Failed / Skipped / Total] 1 / 26 / 1 / 28:  28%|██▊       | 28/100 [01:17<03:19,  2.77s/it]\u001b[A"
          ]
        },
        {
          "output_type": "stream",
          "name": "stdout",
          "text": [
            "--------------------------------------------- Result 28 ---------------------------------------------\n",
            "[[1 (99%)]] --> [[[FAILED]]]\n",
            "\n",
            "Back 2 work 2morro half term over! Can U C me 2nite 4 some sexy passion B4 I have 2 go back? Chat NOW 09099726481 Luv DENA Calls Â£1/minMobsmoreLKPOBOX177HP51FL\n",
            "\n",
            "\n"
          ]
        },
        {
          "output_type": "stream",
          "name": "stderr",
          "text": [
            "\n",
            "[Succeeded / Failed / Skipped / Total] 1 / 26 / 1 / 28:  29%|██▉       | 29/100 [01:18<03:13,  2.72s/it]\u001b[A\n",
            "[Succeeded / Failed / Skipped / Total] 1 / 27 / 1 / 29:  29%|██▉       | 29/100 [01:18<03:13,  2.72s/it]\u001b[A"
          ]
        },
        {
          "output_type": "stream",
          "name": "stdout",
          "text": [
            "--------------------------------------------- Result 29 ---------------------------------------------\n",
            "[[1 (99%)]] --> [[[FAILED]]]\n",
            "\n",
            "Xmas Offer! Latest Motorola, SonyEricsson & Nokia & FREE Bluetooth or DVD! Double Mins & 1000 Txt on Orange. Call MobileUpd8 on 08000839402 or call2optout/4QF2\n",
            "\n",
            "\n"
          ]
        },
        {
          "output_type": "stream",
          "name": "stderr",
          "text": [
            "\n",
            "[Succeeded / Failed / Skipped / Total] 1 / 28 / 1 / 30:  30%|███       | 30/100 [01:20<03:07,  2.68s/it]\u001b[A"
          ]
        },
        {
          "output_type": "stream",
          "name": "stdout",
          "text": [
            "--------------------------------------------- Result 30 ---------------------------------------------\n",
            "[[1 (99%)]] --> [[[FAILED]]]\n",
            "\n",
            "More people are dogging in your area now. Call 09090204448 and join like minded guys. Why not arrange 1 yourself. There's 1 this evening. AÂ£1.50 minAPN LS278BB\n",
            "\n",
            "\n"
          ]
        },
        {
          "output_type": "stream",
          "name": "stderr",
          "text": [
            "\n",
            "[Succeeded / Failed / Skipped / Total] 1 / 28 / 1 / 30:  31%|███       | 31/100 [01:20<02:59,  2.60s/it]\u001b[A\n",
            "[Succeeded / Failed / Skipped / Total] 2 / 28 / 1 / 31:  31%|███       | 31/100 [01:20<02:59,  2.60s/it]\u001b[A"
          ]
        },
        {
          "output_type": "stream",
          "name": "stdout",
          "text": [
            "--------------------------------------------- Result 31 ---------------------------------------------\n",
            "[[1 (98%)]] --> [[0 (53%)]]\n",
            "\n",
            "[[Ringtone]] [[Club]]: Gr8 [[new]] polys direct to your [[mobile]] [[every]] week !\n",
            "\n",
            "[[Sounding]] [[Nadi]]: Gr8 [[youngest]] polys direct to your [[itinerant]] [[all]] week !\n",
            "\n",
            "\n"
          ]
        },
        {
          "output_type": "stream",
          "name": "stderr",
          "text": [
            "\n",
            "[Succeeded / Failed / Skipped / Total] 2 / 29 / 1 / 32:  32%|███▏      | 32/100 [01:22<02:55,  2.58s/it]\u001b[A"
          ]
        },
        {
          "output_type": "stream",
          "name": "stdout",
          "text": [
            "--------------------------------------------- Result 32 ---------------------------------------------\n",
            "[[1 (99%)]] --> [[[FAILED]]]\n",
            "\n",
            "Urgent! call 09061749602 from Landline. Your complimentary 4* Tenerife Holiday or Â£10,000 cash await collection SAE T&Cs BOX 528 HP20 1YF 150ppm 18+\n",
            "\n",
            "\n"
          ]
        },
        {
          "output_type": "stream",
          "name": "stderr",
          "text": [
            "\n",
            "[Succeeded / Failed / Skipped / Total] 2 / 29 / 1 / 32:  33%|███▎      | 33/100 [01:24<02:51,  2.56s/it]\u001b[A\n",
            "[Succeeded / Failed / Skipped / Total] 2 / 30 / 1 / 33:  33%|███▎      | 33/100 [01:24<02:51,  2.56s/it]\u001b[A"
          ]
        },
        {
          "output_type": "stream",
          "name": "stdout",
          "text": [
            "--------------------------------------------- Result 33 ---------------------------------------------\n",
            "[[1 (99%)]] --> [[[FAILED]]]\n",
            "\n",
            "Uâve Bin Awarded Â£50 to Play 4 Instant Cash. Call 08715203028 To Claim. EVERY 9th Player Wins Min Â£50-Â£500. OptOut 08718727870\n",
            "\n",
            "\n"
          ]
        },
        {
          "output_type": "stream",
          "name": "stderr",
          "text": [
            "\n",
            "[Succeeded / Failed / Skipped / Total] 2 / 31 / 1 / 34:  34%|███▍      | 34/100 [01:24<02:44,  2.50s/it]\u001b[A"
          ]
        },
        {
          "output_type": "stream",
          "name": "stdout",
          "text": [
            "--------------------------------------------- Result 34 ---------------------------------------------\n",
            "[[1 (99%)]] --> [[[FAILED]]]\n",
            "\n",
            "Text BANNEDUK to 89555 to see! cost 150p textoperator g696ga 18+ XXX\n",
            "\n",
            "\n"
          ]
        },
        {
          "output_type": "stream",
          "name": "stderr",
          "text": [
            "\n",
            "[Succeeded / Failed / Skipped / Total] 2 / 31 / 1 / 34:  35%|███▌      | 35/100 [01:27<02:42,  2.50s/it]\u001b[A\n",
            "[Succeeded / Failed / Skipped / Total] 2 / 32 / 1 / 35:  35%|███▌      | 35/100 [01:27<02:42,  2.50s/it]\u001b[A"
          ]
        },
        {
          "output_type": "stream",
          "name": "stdout",
          "text": [
            "--------------------------------------------- Result 35 ---------------------------------------------\n",
            "[[1 (99%)]] --> [[[FAILED]]]\n",
            "\n",
            "Bears Pic Nick, and Tom, Pete and ... Dick. In fact, all types try gay chat with photo upload call 08718730666 (10p/min). 2 stop texts call 08712460324\n",
            "\n",
            "\n"
          ]
        },
        {
          "output_type": "stream",
          "name": "stderr",
          "text": [
            "\n",
            "[Succeeded / Failed / Skipped / Total] 2 / 33 / 1 / 36:  36%|███▌      | 36/100 [01:28<02:37,  2.46s/it]\u001b[A"
          ]
        },
        {
          "output_type": "stream",
          "name": "stdout",
          "text": [
            "--------------------------------------------- Result 36 ---------------------------------------------\n",
            "[[1 (98%)]] --> [[[FAILED]]]\n",
            "\n",
            "FREE>Ringtone! Reply REAL or POLY eg REAL1 1. PushButton 2. DontCha 3. BabyGoodbye 4. GoldDigger 5. WeBeBurnin 1st tone FREE and 6 more when u join for Â£3/wk\n",
            "\n",
            "\n"
          ]
        },
        {
          "output_type": "stream",
          "name": "stderr",
          "text": [
            "\n",
            "[Succeeded / Failed / Skipped / Total] 2 / 33 / 1 / 36:  37%|███▋      | 37/100 [01:29<02:31,  2.41s/it]\u001b[A\n",
            "[Succeeded / Failed / Skipped / Total] 3 / 33 / 1 / 37:  37%|███▋      | 37/100 [01:29<02:31,  2.41s/it]\u001b[A"
          ]
        },
        {
          "output_type": "stream",
          "name": "stdout",
          "text": [
            "--------------------------------------------- Result 37 ---------------------------------------------\n",
            "[[1 (98%)]] --> [[0 (52%)]]\n",
            "\n",
            "Save [[money]] on wedding [[lingerie]] at [[www]].bridal.petticoatdreams.[[co]].[[uk]] [[Choose]] from a superb selection with national [[delivery]]. Brought to you by WeddingFriend\n",
            "\n",
            "Save [[qian]] on wedding [[undergarments]] at [[sss]].bridal.petticoatdreams.[[commander]].[[brittany]] [[Pick]] from a superb selection with national [[execution]]. Brought to you by WeddingFriend\n",
            "\n",
            "\n"
          ]
        },
        {
          "output_type": "stream",
          "name": "stderr",
          "text": [
            "\n",
            "[Succeeded / Failed / Skipped / Total] 3 / 34 / 1 / 38:  38%|███▊      | 38/100 [01:30<02:27,  2.38s/it]\u001b[A"
          ]
        },
        {
          "output_type": "stream",
          "name": "stdout",
          "text": [
            "--------------------------------------------- Result 38 ---------------------------------------------\n",
            "[[1 (99%)]] --> [[[FAILED]]]\n",
            "\n",
            "Please call our customer service representative on 0800 169 6031 between 10am-9pm as you have WON a guaranteed Â£1000 cash or Â£5000 prize!\n",
            "\n",
            "\n"
          ]
        },
        {
          "output_type": "stream",
          "name": "stderr",
          "text": [
            "\n",
            "[Succeeded / Failed / Skipped / Total] 3 / 34 / 1 / 38:  39%|███▉      | 39/100 [01:32<02:24,  2.36s/it]\u001b[A\n",
            "[Succeeded / Failed / Skipped / Total] 4 / 34 / 1 / 39:  39%|███▉      | 39/100 [01:32<02:24,  2.36s/it]\u001b[A"
          ]
        },
        {
          "output_type": "stream",
          "name": "stdout",
          "text": [
            "--------------------------------------------- Result 39 ---------------------------------------------\n",
            "[[1 (76%)]] --> [[0 (50%)]]\n",
            "\n",
            "[[Goal]]! Arsenal 4 ([[Henry]], 7 [[v]] [[Liverpool]] 2 [[Henry]] [[scores]] with a [[simple]] [[shot]] from 6 yards from a [[pass]] by Bergkamp to give Arsenal a 2 [[goal]] [[margin]] after 78 [[mins]].\n",
            "\n",
            "[[Intending]]! Arsenal 4 ([[Wilhelm]], 7 [[versus]] [[Melbourne]] 2 [[Greg]] [[dozens]] with a [[banal]] [[gunned]] from 6 yards from a [[passage]] by Bergkamp to give Arsenal a 2 [[oriented]] [[edge]] after 78 [[moments]].\n",
            "\n",
            "\n"
          ]
        },
        {
          "output_type": "stream",
          "name": "stderr",
          "text": [
            "\n",
            "[Succeeded / Failed / Skipped / Total] 4 / 35 / 1 / 40:  40%|████      | 40/100 [01:33<02:20,  2.34s/it]\u001b[A"
          ]
        },
        {
          "output_type": "stream",
          "name": "stdout",
          "text": [
            "--------------------------------------------- Result 40 ---------------------------------------------\n",
            "[[1 (99%)]] --> [[[FAILED]]]\n",
            "\n",
            "Download as many ringtones as u like no restrictions, 1000s 2 choose. U can even send 2 yr buddys. Txt Sir to 80082 Â£3\n",
            "\n",
            "\n"
          ]
        },
        {
          "output_type": "stream",
          "name": "stderr",
          "text": [
            "\n",
            "[Succeeded / Failed / Skipped / Total] 4 / 35 / 1 / 40:  41%|████      | 41/100 [01:35<02:17,  2.33s/it]\u001b[A\n",
            "[Succeeded / Failed / Skipped / Total] 4 / 36 / 1 / 41:  41%|████      | 41/100 [01:35<02:17,  2.33s/it]\u001b[A"
          ]
        },
        {
          "output_type": "stream",
          "name": "stdout",
          "text": [
            "--------------------------------------------- Result 41 ---------------------------------------------\n",
            "[[1 (98%)]] --> [[[FAILED]]]\n",
            "\n",
            "Dorothy@kiefer.com (Bank of Granite issues Strong-Buy) EXPLOSIVE PICK FOR OUR MEMBERS *****UP OVER 300% *********** Nasdaq Symbol CDGT That is a $5.00 per..\n",
            "\n",
            "\n"
          ]
        },
        {
          "output_type": "stream",
          "name": "stderr",
          "text": [
            "\n",
            "[Succeeded / Failed / Skipped / Total] 4 / 37 / 1 / 42:  42%|████▏     | 42/100 [01:36<02:13,  2.30s/it]\u001b[A"
          ]
        },
        {
          "output_type": "stream",
          "name": "stdout",
          "text": [
            "--------------------------------------------- Result 42 ---------------------------------------------\n",
            "[[1 (99%)]] --> [[[FAILED]]]\n",
            "\n",
            "You have 1 new message. Please call 08712400200.\n",
            "\n",
            "\n"
          ]
        },
        {
          "output_type": "stream",
          "name": "stderr",
          "text": [
            "\n",
            "[Succeeded / Failed / Skipped / Total] 4 / 37 / 1 / 42:  43%|████▎     | 43/100 [01:38<02:10,  2.29s/it]\u001b[A\n",
            "[Succeeded / Failed / Skipped / Total] 4 / 38 / 1 / 43:  43%|████▎     | 43/100 [01:38<02:10,  2.29s/it]\u001b[A"
          ]
        },
        {
          "output_type": "stream",
          "name": "stdout",
          "text": [
            "--------------------------------------------- Result 43 ---------------------------------------------\n",
            "[[1 (99%)]] --> [[[FAILED]]]\n",
            "\n",
            "FreeMsg Hi baby wow just got a new cam moby. Wanna C a hot pic? or Fancy a chat?Im w8in 4uTxt / rply CHAT to 82242 Hlp 08712317606 Msg150p 2rcv\n",
            "\n",
            "\n"
          ]
        },
        {
          "output_type": "stream",
          "name": "stderr",
          "text": [
            "\n",
            "[Succeeded / Failed / Skipped / Total] 4 / 39 / 1 / 44:  44%|████▍     | 44/100 [01:40<02:08,  2.29s/it]\u001b[A"
          ]
        },
        {
          "output_type": "stream",
          "name": "stdout",
          "text": [
            "--------------------------------------------- Result 44 ---------------------------------------------\n",
            "[[1 (99%)]] --> [[[FAILED]]]\n",
            "\n",
            "Congrats! Nokia 3650 video camera phone is your Call 09066382422 Calls cost 150ppm Ave call 3mins vary from mobiles 16+ Close 300603 post BCM4284 Ldn WC1N3XX\n",
            "\n",
            "\n"
          ]
        },
        {
          "output_type": "stream",
          "name": "stderr",
          "text": [
            "\n",
            "[Succeeded / Failed / Skipped / Total] 4 / 39 / 1 / 44:  45%|████▌     | 45/100 [01:42<02:05,  2.28s/it]\u001b[A\n",
            "[Succeeded / Failed / Skipped / Total] 4 / 40 / 1 / 45:  45%|████▌     | 45/100 [01:42<02:05,  2.28s/it]\u001b[A"
          ]
        },
        {
          "output_type": "stream",
          "name": "stdout",
          "text": [
            "--------------------------------------------- Result 45 ---------------------------------------------\n",
            "[[1 (99%)]] --> [[[FAILED]]]\n",
            "\n",
            "Promotion Number: 8714714 - UR awarded a City Break and could WIN a Â£200 Summer Shopping spree every WK. Txt STORE to 88039 . SkilGme. TsCs087147403231Winawk!Age16 Â£1.50perWKsub\n",
            "\n",
            "\n"
          ]
        },
        {
          "output_type": "stream",
          "name": "stderr",
          "text": [
            "\n",
            "[Succeeded / Failed / Skipped / Total] 4 / 41 / 1 / 46:  46%|████▌     | 46/100 [01:43<02:01,  2.25s/it]\u001b[A"
          ]
        },
        {
          "output_type": "stream",
          "name": "stdout",
          "text": [
            "--------------------------------------------- Result 46 ---------------------------------------------\n",
            "[[1 (99%)]] --> [[[FAILED]]]\n",
            "\n",
            "PRIVATE! Your 2003 Account Statement for shows 800 un-redeemed S. I. M. points. Call 08715203694 Identifier Code: 40533 Expires 31/10/04\n",
            "\n",
            "\n"
          ]
        },
        {
          "output_type": "stream",
          "name": "stderr",
          "text": [
            "\n",
            "[Succeeded / Failed / Skipped / Total] 4 / 41 / 1 / 46:  47%|████▋     | 47/100 [01:46<01:59,  2.26s/it]\u001b[A\n",
            "[Succeeded / Failed / Skipped / Total] 5 / 41 / 1 / 47:  47%|████▋     | 47/100 [01:46<01:59,  2.26s/it]\u001b[A"
          ]
        },
        {
          "output_type": "stream",
          "name": "stdout",
          "text": [
            "--------------------------------------------- Result 47 ---------------------------------------------\n",
            "[[1 (98%)]] --> [[0 (53%)]]\n",
            "\n",
            "FREEMSG: Our [[records]] [[indicate]] you may be entitled to 3750 [[pounds]] for the [[Accident]] you [[had]]. To [[claim]] for [[free]] [[reply]] with [[YES]] to this msg. To [[opt]] out [[text]] [[STOP]]\n",
            "\n",
            "FREEMSG: Our [[debriefing]] [[suggest]] you may be entitled to 3750 [[lira]] for the [[Mishap]] you [[ha]]. To [[argue]] for [[gratuitous]] [[rebuttal]] with [[YEA]] to this msg. To [[wahl]] out [[linguistic]] [[DETAINEE]]\n",
            "\n",
            "\n"
          ]
        },
        {
          "output_type": "stream",
          "name": "stderr",
          "text": [
            "\n",
            "[Succeeded / Failed / Skipped / Total] 6 / 41 / 1 / 48:  48%|████▊     | 48/100 [01:46<01:55,  2.22s/it]\u001b[A"
          ]
        },
        {
          "output_type": "stream",
          "name": "stdout",
          "text": [
            "--------------------------------------------- Result 48 ---------------------------------------------\n",
            "[[1 (97%)]] --> [[0 (55%)]]\n",
            "\n",
            "[[LIFE]] has never been this much [[fun]] and great until you came in. You made it truly [[special]] for me. I won't forget you! [[enjoy]] @ one gbp/[[sms]]\n",
            "\n",
            "[[VIE]] has never been this much [[amusement]] and great until you came in. You made it truly [[certain]] for me. I won't forget you! [[savoring]] @ one gbp/[[fs]]\n",
            "\n",
            "\n"
          ]
        },
        {
          "output_type": "stream",
          "name": "stderr",
          "text": [
            "\n",
            "[Succeeded / Failed / Skipped / Total] 6 / 41 / 1 / 48:  49%|████▉     | 49/100 [01:47<01:51,  2.19s/it]\u001b[A\n",
            "[Succeeded / Failed / Skipped / Total] 7 / 41 / 1 / 49:  49%|████▉     | 49/100 [01:47<01:51,  2.19s/it]\u001b[A"
          ]
        },
        {
          "output_type": "stream",
          "name": "stdout",
          "text": [
            "--------------------------------------------- Result 49 ---------------------------------------------\n",
            "[[1 (91%)]] --> [[0 (58%)]]\n",
            "\n",
            "Hi ya babe x u 4goten bout me?' scammers getting smart..Though this is a regular vodafone no, if you respond you get further prem [[rate]] msg/[[subscription]]. Other nos used also. Beware!\n",
            "\n",
            "Hi ya babe x u 4goten bout me?' scammers getting smart..Though this is a regular vodafone no, if you respond you get further prem [[ratio]] msg/[[signing]]. Other nos used also. Beware!\n",
            "\n",
            "\n"
          ]
        },
        {
          "output_type": "stream",
          "name": "stderr",
          "text": [
            "\n",
            "[Succeeded / Failed / Skipped / Total] 7 / 42 / 1 / 50:  50%|█████     | 50/100 [01:48<01:48,  2.16s/it]\u001b[A"
          ]
        },
        {
          "output_type": "stream",
          "name": "stdout",
          "text": [
            "--------------------------------------------- Result 50 ---------------------------------------------\n",
            "[[1 (99%)]] --> [[[FAILED]]]\n",
            "\n",
            "You have an important customer service announcement from PREMIER. Call FREEPHONE 0800 542 0578 now!\n",
            "\n",
            "\n"
          ]
        },
        {
          "output_type": "stream",
          "name": "stderr",
          "text": [
            "\n",
            "[Succeeded / Failed / Skipped / Total] 7 / 42 / 1 / 50:  51%|█████     | 51/100 [01:49<01:45,  2.15s/it]\u001b[A\n",
            "[Succeeded / Failed / Skipped / Total] 7 / 43 / 1 / 51:  51%|█████     | 51/100 [01:49<01:45,  2.15s/it]\u001b[A"
          ]
        },
        {
          "output_type": "stream",
          "name": "stdout",
          "text": [
            "--------------------------------------------- Result 51 ---------------------------------------------\n",
            "[[1 (99%)]] --> [[[FAILED]]]\n",
            "\n",
            "No 1 POLYPHONIC tone 4 ur mob every week! Just txt PT2 to 87575. 1st Tone FREE ! so get txtin now and tell ur friends. 150p/tone. 16 reply HL 4info\n",
            "\n",
            "\n"
          ]
        },
        {
          "output_type": "stream",
          "name": "stderr",
          "text": [
            "\n",
            "[Succeeded / Failed / Skipped / Total] 7 / 44 / 1 / 52:  52%|█████▏    | 52/100 [01:50<01:41,  2.12s/it]\u001b[A"
          ]
        },
        {
          "output_type": "stream",
          "name": "stdout",
          "text": [
            "--------------------------------------------- Result 52 ---------------------------------------------\n",
            "[[1 (98%)]] --> [[[FAILED]]]\n",
            "\n",
            "85233 FREE>Ringtone!Reply REAL\n",
            "\n",
            "\n"
          ]
        },
        {
          "output_type": "stream",
          "name": "stderr",
          "text": [
            "\n",
            "[Succeeded / Failed / Skipped / Total] 7 / 44 / 1 / 52:  53%|█████▎    | 53/100 [01:51<01:38,  2.10s/it]\u001b[A\n",
            "[Succeeded / Failed / Skipped / Total] 7 / 45 / 1 / 53:  53%|█████▎    | 53/100 [01:51<01:38,  2.10s/it]\u001b[A"
          ]
        },
        {
          "output_type": "stream",
          "name": "stdout",
          "text": [
            "--------------------------------------------- Result 53 ---------------------------------------------\n",
            "[[1 (99%)]] --> [[[FAILED]]]\n",
            "\n",
            "Congratulations ur awarded either Â£500 of CD gift vouchers & Free entry 2 our Â£100 weekly draw txt MUSIC to 87066 TnCs www.Ldew.com1win150ppmx3age16\n",
            "\n",
            "\n"
          ]
        },
        {
          "output_type": "stream",
          "name": "stderr",
          "text": [
            "\n",
            "[Succeeded / Failed / Skipped / Total] 7 / 46 / 1 / 54:  54%|█████▍    | 54/100 [01:53<01:36,  2.11s/it]\u001b[A"
          ]
        },
        {
          "output_type": "stream",
          "name": "stdout",
          "text": [
            "--------------------------------------------- Result 54 ---------------------------------------------\n",
            "[[1 (99%)]] --> [[[FAILED]]]\n",
            "\n",
            "We tried to contact you re your reply to our offer of a Video Handset? 750 anytime networks mins? UNLIMITED TEXT? Camcorder? Reply or call 08000930705 NOW\n",
            "\n",
            "\n"
          ]
        },
        {
          "output_type": "stream",
          "name": "stderr",
          "text": [
            "\n",
            "[Succeeded / Failed / Skipped / Total] 7 / 46 / 1 / 54:  55%|█████▌    | 55/100 [01:56<01:35,  2.11s/it]\u001b[A\n",
            "[Succeeded / Failed / Skipped / Total] 7 / 47 / 1 / 55:  55%|█████▌    | 55/100 [01:56<01:35,  2.11s/it]\u001b[A"
          ]
        },
        {
          "output_type": "stream",
          "name": "stdout",
          "text": [
            "--------------------------------------------- Result 55 ---------------------------------------------\n",
            "[[1 (99%)]] --> [[[FAILED]]]\n",
            "\n",
            "Gr8 new service - live sex video chat on your mob - see the sexiest dirtiest girls live on ur phone - 4 details text horny to 89070 to cancel send STOP to 89070\n",
            "\n",
            "\n"
          ]
        },
        {
          "output_type": "stream",
          "name": "stderr",
          "text": [
            "\n",
            "[Succeeded / Failed / Skipped / Total] 7 / 48 / 1 / 56:  56%|█████▌    | 56/100 [01:58<01:32,  2.11s/it]\u001b[A"
          ]
        },
        {
          "output_type": "stream",
          "name": "stdout",
          "text": [
            "--------------------------------------------- Result 56 ---------------------------------------------\n",
            "[[1 (99%)]] --> [[[FAILED]]]\n",
            "\n",
            "Thanks for your ringtone order, ref number K718. Your mobile will be charged Â£4.50. Should your tone not arrive please call customer services on 09065069120\n",
            "\n",
            "\n"
          ]
        },
        {
          "output_type": "stream",
          "name": "stderr",
          "text": [
            "\n",
            "[Succeeded / Failed / Skipped / Total] 7 / 48 / 1 / 56:  57%|█████▋    | 57/100 [02:00<01:30,  2.11s/it]\u001b[A\n",
            "[Succeeded / Failed / Skipped / Total] 7 / 49 / 1 / 57:  57%|█████▋    | 57/100 [02:00<01:30,  2.11s/it]\u001b[A"
          ]
        },
        {
          "output_type": "stream",
          "name": "stdout",
          "text": [
            "--------------------------------------------- Result 57 ---------------------------------------------\n",
            "[[1 (99%)]] --> [[[FAILED]]]\n",
            "\n",
            "Had your mobile 11mths ? Update for FREE to Oranges latest colour camera mobiles & unlimited weekend calls. Call Mobile Upd8 on freefone 08000839402 or 2StopTxt\n",
            "\n",
            "\n"
          ]
        },
        {
          "output_type": "stream",
          "name": "stderr",
          "text": [
            "\n",
            "[Succeeded / Failed / Skipped / Total] 7 / 50 / 1 / 58:  58%|█████▊    | 58/100 [02:02<01:28,  2.11s/it]\u001b[A"
          ]
        },
        {
          "output_type": "stream",
          "name": "stdout",
          "text": [
            "--------------------------------------------- Result 58 ---------------------------------------------\n",
            "[[1 (99%)]] --> [[[FAILED]]]\n",
            "\n",
            "Valentines Day Special! Win over Â£1000 in our quiz and take your partner on the trip of a lifetime! Send GO to 83600 now. 150p/msg rcvd. CustCare:08718720201.\n",
            "\n",
            "\n"
          ]
        },
        {
          "output_type": "stream",
          "name": "stderr",
          "text": [
            "\n",
            "[Succeeded / Failed / Skipped / Total] 7 / 50 / 1 / 58:  59%|█████▉    | 59/100 [02:03<01:25,  2.09s/it]\u001b[A\n",
            "[Succeeded / Failed / Skipped / Total] 7 / 51 / 1 / 59:  59%|█████▉    | 59/100 [02:03<01:25,  2.09s/it]\u001b[A"
          ]
        },
        {
          "output_type": "stream",
          "name": "stdout",
          "text": [
            "--------------------------------------------- Result 59 ---------------------------------------------\n",
            "[[1 (97%)]] --> [[[FAILED]]]\n",
            "\n",
            "tddnewsletter@emc1.co.uk (More games from TheDailyDraw) Dear Helen, Dozens of Free Games - with great prizesWith..\n",
            "\n",
            "\n"
          ]
        },
        {
          "output_type": "stream",
          "name": "stderr",
          "text": [
            "\n",
            "[Succeeded / Failed / Skipped / Total] 7 / 52 / 1 / 60:  60%|██████    | 60/100 [02:05<01:23,  2.09s/it]\u001b[A"
          ]
        },
        {
          "output_type": "stream",
          "name": "stdout",
          "text": [
            "--------------------------------------------- Result 60 ---------------------------------------------\n",
            "[[1 (99%)]] --> [[[FAILED]]]\n",
            "\n",
            "URGENT! We are trying to contact U. Todays draw shows that you have won a Â£2000 prize GUARANTEED. Call 09066358361 from land line. Claim Y87. Valid 12hrs only\n",
            "\n",
            "\n"
          ]
        },
        {
          "output_type": "stream",
          "name": "stderr",
          "text": [
            "\n",
            "[Succeeded / Failed / Skipped / Total] 7 / 52 / 1 / 60:  61%|██████    | 61/100 [02:07<01:21,  2.09s/it]\u001b[A\n",
            "[Succeeded / Failed / Skipped / Total] 8 / 52 / 1 / 61:  61%|██████    | 61/100 [02:07<01:21,  2.09s/it]\u001b[A"
          ]
        },
        {
          "output_type": "stream",
          "name": "stdout",
          "text": [
            "--------------------------------------------- Result 61 ---------------------------------------------\n",
            "[[1 (98%)]] --> [[0 (55%)]]\n",
            "\n",
            "[[Orange]] [[brings]] you ringtones from all [[time]] [[Chart]] Heroes, with a [[free]] [[hit]] each [[week]]! Go to Ringtones & [[Pics]] on wap. To [[stop]] [[receiving]] these [[tips]] [[reply]] [[STOP]].\n",
            "\n",
            "[[Citron]] [[donne]] you ringtones from all [[zeit]] [[Fig]] Heroes, with a [[gratuitous]] [[struck]] each [[mois]]! Go to Ringtones & [[Woodpeckers]] on wap. To [[lugs]] [[recieved]] these [[opinions]] [[feedback]] [[QUIT]].\n",
            "\n",
            "\n"
          ]
        },
        {
          "output_type": "stream",
          "name": "stderr",
          "text": [
            "\n",
            "[Succeeded / Failed / Skipped / Total] 8 / 53 / 1 / 62:  62%|██████▏   | 62/100 [02:09<01:19,  2.09s/it]\u001b[A"
          ]
        },
        {
          "output_type": "stream",
          "name": "stdout",
          "text": [
            "--------------------------------------------- Result 62 ---------------------------------------------\n",
            "[[1 (99%)]] --> [[[FAILED]]]\n",
            "\n",
            "England v Macedonia - dont miss the goals/team news. Txt ur national team to 87077 eg ENGLAND to 87077 Try:WALES, SCOTLAND 4txt/Ãº1.20 POBOXox36504W45WQ 16+\n",
            "\n",
            "\n"
          ]
        },
        {
          "output_type": "stream",
          "name": "stderr",
          "text": [
            "\n",
            "[Succeeded / Failed / Skipped / Total] 8 / 53 / 1 / 62:  63%|██████▎   | 63/100 [02:11<01:17,  2.09s/it]\u001b[A\n",
            "[Succeeded / Failed / Skipped / Total] 8 / 54 / 1 / 63:  63%|██████▎   | 63/100 [02:11<01:17,  2.09s/it]\u001b[A"
          ]
        },
        {
          "output_type": "stream",
          "name": "stdout",
          "text": [
            "--------------------------------------------- Result 63 ---------------------------------------------\n",
            "[[1 (99%)]] --> [[[FAILED]]]\n",
            "\n",
            "Hard LIVE 121 chat just 60p/min. Choose your girl and connect LIVE. Call 09094646899 now! Cheap Chat UK's biggest live service. VU BCM1896WC1N3XX\n",
            "\n",
            "\n"
          ]
        },
        {
          "output_type": "stream",
          "name": "stderr",
          "text": [
            "\n",
            "[Succeeded / Failed / Skipped / Total] 8 / 55 / 1 / 64:  64%|██████▍   | 64/100 [02:13<01:15,  2.08s/it]\u001b[A"
          ]
        },
        {
          "output_type": "stream",
          "name": "stdout",
          "text": [
            "--------------------------------------------- Result 64 ---------------------------------------------\n",
            "[[1 (99%)]] --> [[[FAILED]]]\n",
            "\n",
            "Urgent! Please call 09061743810 from landline. Your ABTA complimentary 4* Tenerife Holiday or #5000 cash await collection SAE T&Cs Box 326 CW25WX 150 ppm\n",
            "\n",
            "\n"
          ]
        },
        {
          "output_type": "stream",
          "name": "stderr",
          "text": [
            "\n",
            "[Succeeded / Failed / Skipped / Total] 8 / 55 / 1 / 64:  65%|██████▌   | 65/100 [02:14<01:12,  2.07s/it]\u001b[A\n",
            "[Succeeded / Failed / Skipped / Total] 8 / 56 / 1 / 65:  65%|██████▌   | 65/100 [02:14<01:12,  2.07s/it]\u001b[A"
          ]
        },
        {
          "output_type": "stream",
          "name": "stdout",
          "text": [
            "--------------------------------------------- Result 65 ---------------------------------------------\n",
            "[[1 (99%)]] --> [[[FAILED]]]\n",
            "\n",
            "Collect your VALENTINE'S weekend to PARIS inc Flight & Hotel + Â£200 Prize guaranteed! Text: PARIS to No: 69101. www.rtf.sphosting.com\n",
            "\n",
            "\n"
          ]
        },
        {
          "output_type": "stream",
          "name": "stderr",
          "text": [
            "\n",
            "[Succeeded / Failed / Skipped / Total] 8 / 57 / 1 / 66:  66%|██████▌   | 66/100 [02:16<01:10,  2.07s/it]\u001b[A"
          ]
        },
        {
          "output_type": "stream",
          "name": "stdout",
          "text": [
            "--------------------------------------------- Result 66 ---------------------------------------------\n",
            "[[1 (99%)]] --> [[[FAILED]]]\n",
            "\n",
            "PRIVATE! Your 2004 Account Statement for 07742676969 shows 786 unredeemed Bonus Points. To claim call 08719180248 Identifier Code: 45239 Expires\n",
            "\n",
            "\n"
          ]
        },
        {
          "output_type": "stream",
          "name": "stderr",
          "text": [
            "\n",
            "[Succeeded / Failed / Skipped / Total] 8 / 57 / 1 / 66:  67%|██████▋   | 67/100 [02:17<01:07,  2.05s/it]\u001b[A\n",
            "[Succeeded / Failed / Skipped / Total] 9 / 57 / 1 / 67:  67%|██████▋   | 67/100 [02:17<01:07,  2.05s/it]\u001b[A"
          ]
        },
        {
          "output_type": "stream",
          "name": "stdout",
          "text": [
            "--------------------------------------------- Result 67 ---------------------------------------------\n",
            "[[1 (98%)]] --> [[0 (53%)]]\n",
            "\n",
            "[[Welcome]] to [[Select]], an O2 [[service]] with [[added]] [[benefits]]. You can now call our [[specially]] trained advisors [[FREE]] from your [[mobile]] by [[dialling]] 402.\n",
            "\n",
            "[[Appreciates]] to [[Deciding]], an O2 [[serves]] with [[inscribe]] [[prerogatives]]. You can now call our [[fundamentally]] trained advisors [[EXTRICATE]] from your [[motorised]] by [[vocation]] 402.\n",
            "\n",
            "\n"
          ]
        },
        {
          "output_type": "stream",
          "name": "stderr",
          "text": [
            "\n",
            "[Succeeded / Failed / Skipped / Total] 9 / 58 / 1 / 68:  68%|██████▊   | 68/100 [02:18<01:05,  2.03s/it]\u001b[A"
          ]
        },
        {
          "output_type": "stream",
          "name": "stdout",
          "text": [
            "--------------------------------------------- Result 68 ---------------------------------------------\n",
            "[[1 (99%)]] --> [[[FAILED]]]\n",
            "\n",
            "You have won ?1,000 cash or a ?2,000 prize! To claim, call09050000327\n",
            "\n",
            "\n"
          ]
        },
        {
          "output_type": "stream",
          "name": "stderr",
          "text": [
            "\n",
            "[Succeeded / Failed / Skipped / Total] 9 / 58 / 1 / 68:  69%|██████▉   | 69/100 [02:20<01:03,  2.03s/it]\u001b[A\n",
            "[Succeeded / Failed / Skipped / Total] 9 / 59 / 1 / 69:  69%|██████▉   | 69/100 [02:20<01:03,  2.03s/it]\u001b[A"
          ]
        },
        {
          "output_type": "stream",
          "name": "stdout",
          "text": [
            "--------------------------------------------- Result 69 ---------------------------------------------\n",
            "[[1 (99%)]] --> [[[FAILED]]]\n",
            "\n",
            "Congratulations - Thanks to a good friend U have WON the Â£2,000 Xmas prize. 2 claim is easy, just call 08712103738 NOW! Only 10p per minute. BT-national-rate\n",
            "\n",
            "\n"
          ]
        },
        {
          "output_type": "stream",
          "name": "stderr",
          "text": [
            "\n",
            "[Succeeded / Failed / Skipped / Total] 9 / 60 / 1 / 70:  70%|███████   | 70/100 [02:21<01:00,  2.03s/it]\u001b[A"
          ]
        },
        {
          "output_type": "stream",
          "name": "stdout",
          "text": [
            "--------------------------------------------- Result 70 ---------------------------------------------\n",
            "[[1 (99%)]] --> [[[FAILED]]]\n",
            "\n",
            "09066362231 URGENT! Your mobile No 07xxxxxxxxx won a Â£2,000 bonus caller prize on 02/06/03! this is the 2nd attempt to reach YOU! call 09066362231 ASAP!\n",
            "\n",
            "\n"
          ]
        },
        {
          "output_type": "stream",
          "name": "stderr",
          "text": [
            "\n",
            "[Succeeded / Failed / Skipped / Total] 9 / 60 / 1 / 70:  71%|███████   | 71/100 [02:24<00:58,  2.03s/it]\u001b[A\n",
            "[Succeeded / Failed / Skipped / Total] 9 / 61 / 1 / 71:  71%|███████   | 71/100 [02:24<00:58,  2.03s/it]\u001b[A"
          ]
        },
        {
          "output_type": "stream",
          "name": "stdout",
          "text": [
            "--------------------------------------------- Result 71 ---------------------------------------------\n",
            "[[1 (99%)]] --> [[[FAILED]]]\n",
            "\n",
            "FreeMsg: Hey - I'm Buffy. 25 and love to satisfy men. Home alone feeling randy. Reply 2 C my PIX! QlynnBV Help08700621170150p a msg Send stop to stop txts\n",
            "\n",
            "\n"
          ]
        },
        {
          "output_type": "stream",
          "name": "stderr",
          "text": [
            "\n",
            "[Succeeded / Failed / Skipped / Total] 9 / 62 / 1 / 72:  72%|███████▏  | 72/100 [02:25<00:56,  2.02s/it]\u001b[A"
          ]
        },
        {
          "output_type": "stream",
          "name": "stdout",
          "text": [
            "--------------------------------------------- Result 72 ---------------------------------------------\n",
            "[[1 (99%)]] --> [[[FAILED]]]\n",
            "\n",
            "83039 62735=Â£450 UK Break AccommodationVouchers terms & conditions apply. 2 claim you mustprovide your claim number which is 15541\n",
            "\n",
            "\n"
          ]
        },
        {
          "output_type": "stream",
          "name": "stderr",
          "text": [
            "\n",
            "[Succeeded / Failed / Skipped / Total] 9 / 62 / 1 / 72:  73%|███████▎  | 73/100 [02:27<00:54,  2.02s/it]\u001b[A\n",
            "[Succeeded / Failed / Skipped / Total] 9 / 63 / 1 / 73:  73%|███████▎  | 73/100 [02:27<00:54,  2.02s/it]\u001b[A"
          ]
        },
        {
          "output_type": "stream",
          "name": "stdout",
          "text": [
            "--------------------------------------------- Result 73 ---------------------------------------------\n",
            "[[1 (99%)]] --> [[[FAILED]]]\n",
            "\n",
            "SPJanuary Male Sale! Hot Gay chat now cheaper, call 08709222922. National rate from 1.5p/min cheap to 7.8p/min peak! To stop texts call 08712460324 (10p/min)\n",
            "\n",
            "\n"
          ]
        },
        {
          "output_type": "stream",
          "name": "stderr",
          "text": [
            "\n",
            "[Succeeded / Failed / Skipped / Total] 9 / 64 / 1 / 74:  74%|███████▍  | 74/100 [02:29<00:52,  2.02s/it]\u001b[A"
          ]
        },
        {
          "output_type": "stream",
          "name": "stdout",
          "text": [
            "--------------------------------------------- Result 74 ---------------------------------------------\n",
            "[[1 (99%)]] --> [[[FAILED]]]\n",
            "\n",
            "XMAS Prize draws! We are trying to contact U. Todays draw shows that you have won a Â£2000 prize GUARANTEED. Call 09058094565 from land line. Valid 12hrs only\n",
            "\n",
            "\n"
          ]
        },
        {
          "output_type": "stream",
          "name": "stderr",
          "text": [
            "\n",
            "[Succeeded / Failed / Skipped / Total] 9 / 64 / 1 / 74:  75%|███████▌  | 75/100 [02:31<00:50,  2.02s/it]\u001b[A\n",
            "[Succeeded / Failed / Skipped / Total] 9 / 65 / 1 / 75:  75%|███████▌  | 75/100 [02:31<00:50,  2.02s/it]\u001b[A"
          ]
        },
        {
          "output_type": "stream",
          "name": "stdout",
          "text": [
            "--------------------------------------------- Result 75 ---------------------------------------------\n",
            "[[1 (99%)]] --> [[[FAILED]]]\n",
            "\n",
            "Want a new Video Phone? 750 anytime any network mins? Half price line rental free text for 3 months? Reply or call 08000930705 for free delivery\n",
            "\n",
            "\n"
          ]
        },
        {
          "output_type": "stream",
          "name": "stderr",
          "text": [
            "\n",
            "[Succeeded / Failed / Skipped / Total] 9 / 66 / 1 / 76:  76%|███████▌  | 76/100 [02:33<00:48,  2.02s/it]\u001b[A"
          ]
        },
        {
          "output_type": "stream",
          "name": "stdout",
          "text": [
            "--------------------------------------------- Result 76 ---------------------------------------------\n",
            "[[1 (99%)]] --> [[[FAILED]]]\n",
            "\n",
            "Urgent! call 09066350750 from your landline. Your complimentary 4* Ibiza Holiday or 10,000 cash await collection SAE T&Cs PO BOX 434 SK3 8WP 150 ppm 18+\n",
            "\n",
            "\n"
          ]
        },
        {
          "output_type": "stream",
          "name": "stderr",
          "text": [
            "\n",
            "[Succeeded / Failed / Skipped / Total] 9 / 66 / 1 / 76:  77%|███████▋  | 77/100 [02:35<00:46,  2.02s/it]\u001b[A\n",
            "[Succeeded / Failed / Skipped / Total] 9 / 67 / 1 / 77:  77%|███████▋  | 77/100 [02:35<00:46,  2.02s/it]\u001b[A"
          ]
        },
        {
          "output_type": "stream",
          "name": "stdout",
          "text": [
            "--------------------------------------------- Result 77 ---------------------------------------------\n",
            "[[1 (99%)]] --> [[[FAILED]]]\n",
            "\n",
            "Get ur 1st RINGTONE FREE NOW! Reply to this msg with TONE. Gr8 TOP 20 tones to your phone every week just Â£1.50 per wk 2 opt out send STOP 08452810071 16\n",
            "\n",
            "\n"
          ]
        },
        {
          "output_type": "stream",
          "name": "stderr",
          "text": [
            "\n",
            "[Succeeded / Failed / Skipped / Total] 9 / 68 / 1 / 78:  78%|███████▊  | 78/100 [02:36<00:44,  2.01s/it]\u001b[A"
          ]
        },
        {
          "output_type": "stream",
          "name": "stdout",
          "text": [
            "--------------------------------------------- Result 78 ---------------------------------------------\n",
            "[[1 (99%)]] --> [[[FAILED]]]\n",
            "\n",
            "Free 1st week entry 2 TEXTPOD 4 a chance 2 win 40GB iPod or Â£250 cash every wk. Txt POD to 84128 Ts&Cs www.textpod.net custcare 08712405020.\n",
            "\n",
            "\n"
          ]
        },
        {
          "output_type": "stream",
          "name": "stderr",
          "text": [
            "\n",
            "[Succeeded / Failed / Skipped / Total] 9 / 68 / 1 / 78:  79%|███████▉  | 79/100 [02:36<00:41,  1.99s/it]\u001b[A\n",
            "[Succeeded / Failed / Skipped / Total] 10 / 68 / 1 / 79:  79%|███████▉  | 79/100 [02:36<00:41,  1.99s/it]\u001b[A"
          ]
        },
        {
          "output_type": "stream",
          "name": "stdout",
          "text": [
            "--------------------------------------------- Result 79 ---------------------------------------------\n",
            "[[1 (96%)]] --> [[0 (64%)]]\n",
            "\n",
            "[[Adult]] 18 [[Content]] Your [[video]] will be with you shortly\n",
            "\n",
            "[[Adulthood]] 18 [[Connotation]] Your [[filmmaking]] will be with you shortly\n",
            "\n",
            "\n"
          ]
        },
        {
          "output_type": "stream",
          "name": "stderr",
          "text": [
            "\n",
            "[Succeeded / Failed / Skipped / Total] 10 / 69 / 1 / 80:  80%|████████  | 80/100 [02:38<00:39,  1.98s/it]\u001b[A"
          ]
        },
        {
          "output_type": "stream",
          "name": "stdout",
          "text": [
            "--------------------------------------------- Result 80 ---------------------------------------------\n",
            "[[1 (99%)]] --> [[[FAILED]]]\n",
            "\n",
            "U have a secret admirer who is looking 2 make contact with U-find out who they R*reveal who thinks UR so special-call on 09058094599\n",
            "\n",
            "\n"
          ]
        },
        {
          "output_type": "stream",
          "name": "stderr",
          "text": [
            "\n",
            "[Succeeded / Failed / Skipped / Total] 10 / 69 / 1 / 80:  81%|████████  | 81/100 [02:39<00:37,  1.97s/it]\u001b[A\n",
            "[Succeeded / Failed / Skipped / Total] 10 / 70 / 1 / 81:  81%|████████  | 81/100 [02:39<00:37,  1.97s/it]\u001b[A"
          ]
        },
        {
          "output_type": "stream",
          "name": "stdout",
          "text": [
            "--------------------------------------------- Result 81 ---------------------------------------------\n",
            "[[1 (99%)]] --> [[[FAILED]]]\n",
            "\n",
            "U have won a nokia 6230 plus a free digital camera. This is what u get when u win our FREE auction. To take part send NOKIA to 83383 now. POBOX114/14TCR/W1 16\n",
            "\n",
            "\n"
          ]
        },
        {
          "output_type": "stream",
          "name": "stderr",
          "text": [
            "\n",
            "[Succeeded / Failed / Skipped / Total] 10 / 71 / 1 / 82:  82%|████████▏ | 82/100 [02:40<00:35,  1.96s/it]\u001b[A"
          ]
        },
        {
          "output_type": "stream",
          "name": "stdout",
          "text": [
            "--------------------------------------------- Result 82 ---------------------------------------------\n",
            "[[1 (99%)]] --> [[[FAILED]]]\n",
            "\n",
            "Want explicit SEX in 30 secs? Ring 02073162414 now! Costs 20p/min Gsex POBOX 2667 WC1N 3XX\n",
            "\n",
            "\n"
          ]
        },
        {
          "output_type": "stream",
          "name": "stderr",
          "text": [
            "\n",
            "[Succeeded / Failed / Skipped / Total] 10 / 71 / 1 / 82:  83%|████████▎ | 83/100 [02:42<00:33,  1.96s/it]\u001b[A\n",
            "[Succeeded / Failed / Skipped / Total] 10 / 72 / 1 / 83:  83%|████████▎ | 83/100 [02:42<00:33,  1.96s/it]\u001b[A"
          ]
        },
        {
          "output_type": "stream",
          "name": "stdout",
          "text": [
            "--------------------------------------------- Result 83 ---------------------------------------------\n",
            "[[1 (99%)]] --> [[[FAILED]]]\n",
            "\n",
            "Hey I am really horny want to chat or see me naked text hot to 69698 text charged at 150pm to unsubscribe text stop 69698\n",
            "\n",
            "\n"
          ]
        },
        {
          "output_type": "stream",
          "name": "stderr",
          "text": [
            "\n",
            "[Succeeded / Failed / Skipped / Total] 11 / 72 / 1 / 84:  84%|████████▍ | 84/100 [02:44<00:31,  1.95s/it]\u001b[A"
          ]
        },
        {
          "output_type": "stream",
          "name": "stdout",
          "text": [
            "--------------------------------------------- Result 84 ---------------------------------------------\n",
            "[[1 (99%)]] --> [[0 (52%)]]\n",
            "\n",
            "1000's [[flirting]] [[NOW]]! Txt GIRL or [[BLOKE]] & [[ur]] [[NAME]] & AGE, [[eg]] GIRL [[ZOE]] 18 to 8007 to [[join]] and [[get]] [[chatting]]!\n",
            "\n",
            "1000's [[flirted]] [[HENCEFORTH]]! Txt GIRL or [[HOMBRE]] & [[thier]] [[APPOINTED]] & AGE, [[ey]] GIRL [[HORVATH]] 18 to 8007 to [[concur]] and [[attains]] [[schmooze]]!\n",
            "\n",
            "\n"
          ]
        },
        {
          "output_type": "stream",
          "name": "stderr",
          "text": [
            "\n",
            "[Succeeded / Failed / Skipped / Total] 11 / 72 / 1 / 84:  85%|████████▌ | 85/100 [02:44<00:29,  1.94s/it]\u001b[A\n",
            "[Succeeded / Failed / Skipped / Total] 11 / 73 / 1 / 85:  85%|████████▌ | 85/100 [02:44<00:29,  1.94s/it]\u001b[A"
          ]
        },
        {
          "output_type": "stream",
          "name": "stdout",
          "text": [
            "--------------------------------------------- Result 85 ---------------------------------------------\n",
            "[[1 (98%)]] --> [[[FAILED]]]\n",
            "\n",
            "network operator. The service is free. For T & C's visit 80488.biz\n",
            "\n",
            "\n"
          ]
        },
        {
          "output_type": "stream",
          "name": "stderr",
          "text": [
            "\n",
            "[Succeeded / Failed / Skipped / Total] 11 / 74 / 1 / 86:  86%|████████▌ | 86/100 [02:45<00:27,  1.93s/it]\u001b[A"
          ]
        },
        {
          "output_type": "stream",
          "name": "stdout",
          "text": [
            "--------------------------------------------- Result 86 ---------------------------------------------\n",
            "[[1 (99%)]] --> [[[FAILED]]]\n",
            "\n",
            "pdate_Now - Double mins and 1000 txts on Orange tariffs. Latest Motorola, SonyEricsson & Nokia & Bluetooth FREE! Call MobileUpd8 on 08000839402 or call2optout/!YHL\n",
            "\n",
            "\n"
          ]
        },
        {
          "output_type": "stream",
          "name": "stderr",
          "text": [
            "\n",
            "[Succeeded / Failed / Skipped / Total] 11 / 74 / 1 / 86:  87%|████████▋ | 87/100 [02:47<00:25,  1.93s/it]\u001b[A\n",
            "[Succeeded / Failed / Skipped / Total] 11 / 75 / 1 / 87:  87%|████████▋ | 87/100 [02:47<00:25,  1.93s/it]\u001b[A"
          ]
        },
        {
          "output_type": "stream",
          "name": "stdout",
          "text": [
            "--------------------------------------------- Result 87 ---------------------------------------------\n",
            "[[1 (99%)]] --> [[[FAILED]]]\n",
            "\n",
            "Someone has contacted our dating service and entered your phone becausethey fancy you! To find out who it is call from a landline 09058098002. PoBox1, W14RG 150p\n",
            "\n",
            "\n"
          ]
        },
        {
          "output_type": "stream",
          "name": "stderr",
          "text": [
            "\n",
            "[Succeeded / Failed / Skipped / Total] 11 / 76 / 1 / 88:  88%|████████▊ | 88/100 [02:49<00:23,  1.92s/it]\u001b[A"
          ]
        },
        {
          "output_type": "stream",
          "name": "stdout",
          "text": [
            "--------------------------------------------- Result 88 ---------------------------------------------\n",
            "[[1 (98%)]] --> [[[FAILED]]]\n",
            "\n",
            "SMS. ac Blind Date 4U!: Rodds1 is 21/m from Aberdeen, United Kingdom. Check Him out http://img. sms. ac/W/icmb3cktz8r7!-4 no Blind Dates send HIDE\n",
            "\n",
            "\n"
          ]
        },
        {
          "output_type": "stream",
          "name": "stderr",
          "text": [
            "\n",
            "[Succeeded / Failed / Skipped / Total] 11 / 76 / 1 / 88:  89%|████████▉ | 89/100 [02:50<00:21,  1.91s/it]\u001b[A\n",
            "[Succeeded / Failed / Skipped / Total] 11 / 77 / 1 / 89:  89%|████████▉ | 89/100 [02:50<00:21,  1.91s/it]\u001b[A"
          ]
        },
        {
          "output_type": "stream",
          "name": "stdout",
          "text": [
            "--------------------------------------------- Result 89 ---------------------------------------------\n",
            "[[1 (99%)]] --> [[[FAILED]]]\n",
            "\n",
            "YES! The only place in town to meet exciting adult singles is now in the UK. Txt CHAT to 86688 now! 150p/Msg.\n",
            "\n",
            "\n"
          ]
        },
        {
          "output_type": "stream",
          "name": "stderr",
          "text": [
            "\n",
            "[Succeeded / Failed / Skipped / Total] 11 / 78 / 1 / 90:  90%|█████████ | 90/100 [02:52<00:19,  1.91s/it]\u001b[A"
          ]
        },
        {
          "output_type": "stream",
          "name": "stdout",
          "text": [
            "--------------------------------------------- Result 90 ---------------------------------------------\n",
            "[[1 (99%)]] --> [[[FAILED]]]\n",
            "\n",
            "As a valued customer, I am pleased to advise you that following recent review of your Mob No. you are awarded with a Â£1500 Bonus Prize, call 09066364589\n",
            "\n",
            "\n"
          ]
        },
        {
          "output_type": "stream",
          "name": "stderr",
          "text": [
            "\n",
            "[Succeeded / Failed / Skipped / Total] 11 / 78 / 1 / 90:  91%|█████████ | 91/100 [02:54<00:17,  1.91s/it]\u001b[A\n",
            "[Succeeded / Failed / Skipped / Total] 11 / 79 / 1 / 91:  91%|█████████ | 91/100 [02:54<00:17,  1.91s/it]\u001b[A"
          ]
        },
        {
          "output_type": "stream",
          "name": "stdout",
          "text": [
            "--------------------------------------------- Result 91 ---------------------------------------------\n",
            "[[1 (99%)]] --> [[[FAILED]]]\n",
            "\n",
            "Summers finally here! Fancy a chat or flirt with sexy singles in yr area? To get MATCHED up just reply SUMMER now. Free 2 Join. OptOut txt STOP Help08714742804\n",
            "\n",
            "\n"
          ]
        },
        {
          "output_type": "stream",
          "name": "stderr",
          "text": [
            "\n",
            "[Succeeded / Failed / Skipped / Total] 11 / 80 / 1 / 92:  92%|█████████▏| 92/100 [02:55<00:15,  1.90s/it]\u001b[A"
          ]
        },
        {
          "output_type": "stream",
          "name": "stdout",
          "text": [
            "--------------------------------------------- Result 92 ---------------------------------------------\n",
            "[[1 (99%)]] --> [[[FAILED]]]\n",
            "\n",
            "URGENT! Your mobile No 07xxxxxxxxx won a Â£2,000 bonus caller prize on 02/06/03! this is the 2nd attempt to reach YOU! call 09066362231 ASAP! BOX97N7QP, 150PPM\n",
            "\n",
            "\n"
          ]
        },
        {
          "output_type": "stream",
          "name": "stderr",
          "text": [
            "\n",
            "[Succeeded / Failed / Skipped / Total] 11 / 80 / 1 / 92:  93%|█████████▎| 93/100 [02:56<00:13,  1.90s/it]\u001b[A\n",
            "[Succeeded / Failed / Skipped / Total] 11 / 81 / 1 / 93:  93%|█████████▎| 93/100 [02:56<00:13,  1.90s/it]\u001b[A"
          ]
        },
        {
          "output_type": "stream",
          "name": "stdout",
          "text": [
            "--------------------------------------------- Result 93 ---------------------------------------------\n",
            "[[1 (99%)]] --> [[[FAILED]]]\n",
            "\n",
            "Natalie (20/F) is inviting you to be her friend. Reply YES-165 or NO-165 See her: www.SMS.ac/u/natalie2k9 STOP? Send STOP FRND to 62468\n",
            "\n",
            "\n"
          ]
        },
        {
          "output_type": "stream",
          "name": "stderr",
          "text": [
            "\n",
            "[Succeeded / Failed / Skipped / Total] 11 / 82 / 1 / 94:  94%|█████████▍| 94/100 [02:59<00:11,  1.91s/it]\u001b[A"
          ]
        },
        {
          "output_type": "stream",
          "name": "stdout",
          "text": [
            "--------------------------------------------- Result 94 ---------------------------------------------\n",
            "[[1 (99%)]] --> [[[FAILED]]]\n",
            "\n",
            "Get 3 Lions England tone, reply lionm 4 mono or lionp 4 poly. 4 more go 2 www.ringtones.co.uk, the original n best. Tones 3GBP network operator rates apply.\n",
            "\n",
            "\n"
          ]
        },
        {
          "output_type": "stream",
          "name": "stderr",
          "text": [
            "\n",
            "[Succeeded / Failed / Skipped / Total] 11 / 82 / 1 / 94:  95%|█████████▌| 95/100 [03:00<00:09,  1.90s/it]\u001b[A\n",
            "[Succeeded / Failed / Skipped / Total] 11 / 83 / 1 / 95:  95%|█████████▌| 95/100 [03:00<00:09,  1.90s/it]\u001b[A"
          ]
        },
        {
          "output_type": "stream",
          "name": "stdout",
          "text": [
            "--------------------------------------------- Result 95 ---------------------------------------------\n",
            "[[1 (99%)]] --> [[[FAILED]]]\n",
            "\n",
            "For ur chance to win a Â£250 wkly shopping spree TXT: SHOP to 80878. T's&C's www.txt-2-shop.com custcare 08715705022, 1x150p/wk\n",
            "\n",
            "\n"
          ]
        },
        {
          "output_type": "stream",
          "name": "stderr",
          "text": [
            "\n",
            "[Succeeded / Failed / Skipped / Total] 11 / 84 / 1 / 96:  96%|█████████▌| 96/100 [03:01<00:07,  1.89s/it]\u001b[A"
          ]
        },
        {
          "output_type": "stream",
          "name": "stdout",
          "text": [
            "--------------------------------------------- Result 96 ---------------------------------------------\n",
            "[[1 (99%)]] --> [[[FAILED]]]\n",
            "\n",
            "FREE entry into our Â£250 weekly competition just text the word WIN to 80086 NOW. 18 T&C www.txttowin.co.uk\n",
            "\n",
            "\n"
          ]
        },
        {
          "output_type": "stream",
          "name": "stderr",
          "text": [
            "\n",
            "[Succeeded / Failed / Skipped / Total] 11 / 84 / 1 / 96:  97%|█████████▋| 97/100 [03:02<00:05,  1.88s/it]\u001b[A\n",
            "[Succeeded / Failed / Skipped / Total] 11 / 85 / 1 / 97:  97%|█████████▋| 97/100 [03:02<00:05,  1.88s/it]\u001b[A"
          ]
        },
        {
          "output_type": "stream",
          "name": "stdout",
          "text": [
            "--------------------------------------------- Result 97 ---------------------------------------------\n",
            "[[1 (98%)]] --> [[[FAILED]]]\n",
            "\n",
            "1st wk FREE! Gr8 tones str8 2 u each wk. Txt NOKIA ON to 8007 for Classic Nokia tones or HIT ON to 8007 for Polys. Nokia/150p Poly/200p 16+\n",
            "\n",
            "\n"
          ]
        },
        {
          "output_type": "stream",
          "name": "stderr",
          "text": [
            "\n",
            "[Succeeded / Failed / Skipped / Total] 11 / 86 / 1 / 98:  98%|█████████▊| 98/100 [03:04<00:03,  1.88s/it]\u001b[A"
          ]
        },
        {
          "output_type": "stream",
          "name": "stdout",
          "text": [
            "--------------------------------------------- Result 98 ---------------------------------------------\n",
            "[[1 (99%)]] --> [[[FAILED]]]\n",
            "\n",
            "If you don't, your prize will go to another customer. T&C at www.t-c.biz 18+ 150p/min Polo Ltd Suite 373 London W1J 6HL Please call back if busy\n",
            "\n",
            "\n"
          ]
        },
        {
          "output_type": "stream",
          "name": "stderr",
          "text": [
            "\n",
            "[Succeeded / Failed / Skipped / Total] 11 / 86 / 1 / 98:  99%|█████████▉| 99/100 [03:05<00:01,  1.87s/it]\u001b[A\n",
            "[Succeeded / Failed / Skipped / Total] 11 / 87 / 1 / 99:  99%|█████████▉| 99/100 [03:05<00:01,  1.87s/it]\u001b[A"
          ]
        },
        {
          "output_type": "stream",
          "name": "stdout",
          "text": [
            "--------------------------------------------- Result 99 ---------------------------------------------\n",
            "[[1 (99%)]] --> [[[FAILED]]]\n",
            "\n",
            "Free 1st week entry 2 TEXTPOD 4 a chance 2 win 40GB iPod or Â£250 cash every wk. Txt VPOD to 81303 Ts&Cs www.textpod.net custcare 08712405020.\n",
            "\n",
            "\n"
          ]
        },
        {
          "output_type": "stream",
          "name": "stderr",
          "text": [
            "\n",
            "[Succeeded / Failed / Skipped / Total] 11 / 88 / 1 / 100: 100%|██████████| 100/100 [03:06<00:00,  1.87s/it]"
          ]
        },
        {
          "output_type": "stream",
          "name": "stdout",
          "text": [
            "--------------------------------------------- Result 100 ---------------------------------------------\n",
            "[[1 (99%)]] --> [[[FAILED]]]\n",
            "\n",
            "Call Germany for only 1 pence per minute! Call from a fixed line via access number 0844 861 85 85. No prepayment. Direct access!\n",
            "\n",
            "\n",
            "\n",
            "+-------------------------------+--------+\n",
            "| Attack Results                |        |\n",
            "+-------------------------------+--------+\n",
            "| Number of successful attacks: | 11     |\n",
            "| Number of failed attacks:     | 88     |\n",
            "| Number of skipped attacks:    | 1      |\n",
            "| Original accuracy:            | 99.0%  |\n",
            "| Accuracy under attack:        | 88.0%  |\n",
            "| Attack success rate:          | 11.11% |\n",
            "| Average perturbed word %:     | 34.21% |\n",
            "| Average num. words per input: | 25.62  |\n",
            "| Avg num queries:              | 295.77 |\n",
            "+-------------------------------+--------+\n",
            "Attacks complete.\n"
          ]
        },
        {
          "output_type": "stream",
          "name": "stderr",
          "text": [
            "\n"
          ]
        }
      ]
    },
    {
      "cell_type": "code",
      "metadata": {
        "colab": {
          "base_uri": "https://localhost:8080/"
        },
        "id": "d05d30d8",
        "outputId": "accc7721-16a6-4fc1-bffe-08a11576675d"
      },
      "source": [
        "import nltk\n",
        "nltk.download('averaged_perceptron_tagger_eng')"
      ],
      "execution_count": 20,
      "outputs": [
        {
          "output_type": "stream",
          "name": "stderr",
          "text": [
            "[nltk_data] Downloading package averaged_perceptron_tagger_eng to\n",
            "[nltk_data]     /root/nltk_data...\n",
            "[nltk_data]   Unzipping taggers/averaged_perceptron_tagger_eng.zip.\n"
          ]
        },
        {
          "output_type": "execute_result",
          "data": {
            "text/plain": [
              "True"
            ]
          },
          "metadata": {},
          "execution_count": 20
        }
      ]
    },
    {
      "cell_type": "code",
      "source": [
        "# Robust parsing of attack_results (works across TextAttack versions)\n",
        "adv_examples = []\n",
        "success_count = 0\n",
        "\n",
        "for result in attack_results:\n",
        "    # original text (string)\n",
        "    try:\n",
        "        original = result.original_text()  # TextAttack API\n",
        "    except Exception:\n",
        "        # fallback: try attributes\n",
        "        original = getattr(result, \"text_input\", None) or getattr(result, \"original_text\", None) or \"\"\n",
        "    # perturbed text (string or None)\n",
        "    try:\n",
        "        perturbed = result.perturbed_text()\n",
        "    except Exception:\n",
        "        # some result objects expose perturbed_text as attribute or via perturbed_result\n",
        "        perturbed = None\n",
        "        if hasattr(result, \"perturbed_result\") and result.perturbed_result is not None:\n",
        "            try:\n",
        "                perturbed = result.perturbed_result.output_text if hasattr(result.perturbed_result, \"output_text\") else None\n",
        "            except Exception:\n",
        "                perturbed = None\n",
        "\n",
        "    # final fallback: if perturbed is still None, try to fetch from str(result)\n",
        "    if perturbed is None:\n",
        "        perturbed = None\n",
        "\n",
        "    # Determine success robustly:\n",
        "    # - primary: TextAttack often sets a status or goal_status enum\n",
        "    # - fallback: treat as success if perturbed exists and is different from original\n",
        "    success = False\n",
        "    if hasattr(result, \"goal_status\"):\n",
        "        try:\n",
        "            success = (result.goal_status == textattack.shared.AttackResultStatus.SUCCEEDED)\n",
        "        except Exception:\n",
        "            success = False\n",
        "    elif hasattr(result, \"status\"):\n",
        "        # some versions use `status`\n",
        "        try:\n",
        "            success = (result.status == textattack.shared.AttackResultStatus.SUCCEEDED)\n",
        "        except Exception:\n",
        "            success = False\n",
        "    else:\n",
        "        # fallback: check perturbed_text existence and difference\n",
        "        if perturbed is not None and isinstance(perturbed, str) and perturbed.strip() != \"\" and perturbed != original:\n",
        "            success = True\n",
        "\n",
        "    if success:\n",
        "        success_count += 1\n",
        "\n",
        "    # ground truth label: try to pick from result.original_result (if available) otherwise use 1 (spam)\n",
        "    orig_label = None\n",
        "    try:\n",
        "        orig_label = result.original_result.ground_truth_output\n",
        "    except Exception:\n",
        "        orig_label = 1\n",
        "\n",
        "    adv_examples.append({\n",
        "        \"original\": original,\n",
        "        \"adv_text\": perturbed if perturbed is not None else original,\n",
        "        \"success\": bool(success),\n",
        "        \"orig_label\": int(orig_label) if orig_label is not None else 1\n",
        "    })\n",
        "\n",
        "print(f\"Total attacked: {len(adv_examples)}, successes: {success_count}\")\n",
        "adv_df = pd.DataFrame(adv_examples)\n",
        "adv_df.head(8)\n"
      ],
      "metadata": {
        "colab": {
          "base_uri": "https://localhost:8080/",
          "height": 317
        },
        "id": "U5i5XKspvrua",
        "outputId": "b727169d-b036-472d-adbb-16fc1912c46b"
      },
      "execution_count": 23,
      "outputs": [
        {
          "output_type": "stream",
          "name": "stdout",
          "text": [
            "Total attacked: 100, successes: 99\n"
          ]
        },
        {
          "output_type": "execute_result",
          "data": {
            "text/plain": [
              "                                            original  \\\n",
              "0  FreeMsg: Claim ur 250 SMS messages-Text OK to ...   \n",
              "1  Urgent! Please call 09061213237 from landline....   \n",
              "2  For ur chance to win Â£250 cash every wk TXT: ...   \n",
              "3  Hi this is Amy, we will be sending you a free ...   \n",
              "4  FREE2DAY sexy St George's Day pic of Jordan!Tx...   \n",
              "5  FREE RINGTONE text FIRST to 87131 for a poly o...   \n",
              "6  Do you want a New Nokia 3510i colour phone Del...   \n",
              "7  Todays Voda numbers ending 5226 are selected t...   \n",
              "\n",
              "                                            adv_text  success  orig_label  \n",
              "0  FreeMsg: Argument ur 250 SMS messages-Text UM ...     True           1  \n",
              "1  Expedited! Demanded invited 09061213237 from f...     True           1  \n",
              "2  Among gud occasion to winnings Â£250 funding e...     True           1  \n",
              "3  Hi this is Amy, we will be sending you a free ...    False           1  \n",
              "4  FREE2DAY caliente St George's Jours pic of Ham...     True           1  \n",
              "5  FREE RINGTONE versions STARTED to 87131 for a ...     True           1  \n",
              "6  Ai you volition a Newest Nokia 3510i flush hea...     True           1  \n",
              "7  Todays Voda numbering terminating 5226 are dec...     True           1  "
            ],
            "text/html": [
              "\n",
              "  <div id=\"df-e1a8e8ad-d90c-427e-af1a-97274e92a854\" class=\"colab-df-container\">\n",
              "    <div>\n",
              "<style scoped>\n",
              "    .dataframe tbody tr th:only-of-type {\n",
              "        vertical-align: middle;\n",
              "    }\n",
              "\n",
              "    .dataframe tbody tr th {\n",
              "        vertical-align: top;\n",
              "    }\n",
              "\n",
              "    .dataframe thead th {\n",
              "        text-align: right;\n",
              "    }\n",
              "</style>\n",
              "<table border=\"1\" class=\"dataframe\">\n",
              "  <thead>\n",
              "    <tr style=\"text-align: right;\">\n",
              "      <th></th>\n",
              "      <th>original</th>\n",
              "      <th>adv_text</th>\n",
              "      <th>success</th>\n",
              "      <th>orig_label</th>\n",
              "    </tr>\n",
              "  </thead>\n",
              "  <tbody>\n",
              "    <tr>\n",
              "      <th>0</th>\n",
              "      <td>FreeMsg: Claim ur 250 SMS messages-Text OK to ...</td>\n",
              "      <td>FreeMsg: Argument ur 250 SMS messages-Text UM ...</td>\n",
              "      <td>True</td>\n",
              "      <td>1</td>\n",
              "    </tr>\n",
              "    <tr>\n",
              "      <th>1</th>\n",
              "      <td>Urgent! Please call 09061213237 from landline....</td>\n",
              "      <td>Expedited! Demanded invited 09061213237 from f...</td>\n",
              "      <td>True</td>\n",
              "      <td>1</td>\n",
              "    </tr>\n",
              "    <tr>\n",
              "      <th>2</th>\n",
              "      <td>For ur chance to win Â£250 cash every wk TXT: ...</td>\n",
              "      <td>Among gud occasion to winnings Â£250 funding e...</td>\n",
              "      <td>True</td>\n",
              "      <td>1</td>\n",
              "    </tr>\n",
              "    <tr>\n",
              "      <th>3</th>\n",
              "      <td>Hi this is Amy, we will be sending you a free ...</td>\n",
              "      <td>Hi this is Amy, we will be sending you a free ...</td>\n",
              "      <td>False</td>\n",
              "      <td>1</td>\n",
              "    </tr>\n",
              "    <tr>\n",
              "      <th>4</th>\n",
              "      <td>FREE2DAY sexy St George's Day pic of Jordan!Tx...</td>\n",
              "      <td>FREE2DAY caliente St George's Jours pic of Ham...</td>\n",
              "      <td>True</td>\n",
              "      <td>1</td>\n",
              "    </tr>\n",
              "    <tr>\n",
              "      <th>5</th>\n",
              "      <td>FREE RINGTONE text FIRST to 87131 for a poly o...</td>\n",
              "      <td>FREE RINGTONE versions STARTED to 87131 for a ...</td>\n",
              "      <td>True</td>\n",
              "      <td>1</td>\n",
              "    </tr>\n",
              "    <tr>\n",
              "      <th>6</th>\n",
              "      <td>Do you want a New Nokia 3510i colour phone Del...</td>\n",
              "      <td>Ai you volition a Newest Nokia 3510i flush hea...</td>\n",
              "      <td>True</td>\n",
              "      <td>1</td>\n",
              "    </tr>\n",
              "    <tr>\n",
              "      <th>7</th>\n",
              "      <td>Todays Voda numbers ending 5226 are selected t...</td>\n",
              "      <td>Todays Voda numbering terminating 5226 are dec...</td>\n",
              "      <td>True</td>\n",
              "      <td>1</td>\n",
              "    </tr>\n",
              "  </tbody>\n",
              "</table>\n",
              "</div>\n",
              "    <div class=\"colab-df-buttons\">\n",
              "\n",
              "  <div class=\"colab-df-container\">\n",
              "    <button class=\"colab-df-convert\" onclick=\"convertToInteractive('df-e1a8e8ad-d90c-427e-af1a-97274e92a854')\"\n",
              "            title=\"Convert this dataframe to an interactive table.\"\n",
              "            style=\"display:none;\">\n",
              "\n",
              "  <svg xmlns=\"http://www.w3.org/2000/svg\" height=\"24px\" viewBox=\"0 -960 960 960\">\n",
              "    <path d=\"M120-120v-720h720v720H120Zm60-500h600v-160H180v160Zm220 220h160v-160H400v160Zm0 220h160v-160H400v160ZM180-400h160v-160H180v160Zm440 0h160v-160H620v160ZM180-180h160v-160H180v160Zm440 0h160v-160H620v160Z\"/>\n",
              "  </svg>\n",
              "    </button>\n",
              "\n",
              "  <style>\n",
              "    .colab-df-container {\n",
              "      display:flex;\n",
              "      gap: 12px;\n",
              "    }\n",
              "\n",
              "    .colab-df-convert {\n",
              "      background-color: #E8F0FE;\n",
              "      border: none;\n",
              "      border-radius: 50%;\n",
              "      cursor: pointer;\n",
              "      display: none;\n",
              "      fill: #1967D2;\n",
              "      height: 32px;\n",
              "      padding: 0 0 0 0;\n",
              "      width: 32px;\n",
              "    }\n",
              "\n",
              "    .colab-df-convert:hover {\n",
              "      background-color: #E2EBFA;\n",
              "      box-shadow: 0px 1px 2px rgba(60, 64, 67, 0.3), 0px 1px 3px 1px rgba(60, 64, 67, 0.15);\n",
              "      fill: #174EA6;\n",
              "    }\n",
              "\n",
              "    .colab-df-buttons div {\n",
              "      margin-bottom: 4px;\n",
              "    }\n",
              "\n",
              "    [theme=dark] .colab-df-convert {\n",
              "      background-color: #3B4455;\n",
              "      fill: #D2E3FC;\n",
              "    }\n",
              "\n",
              "    [theme=dark] .colab-df-convert:hover {\n",
              "      background-color: #434B5C;\n",
              "      box-shadow: 0px 1px 3px 1px rgba(0, 0, 0, 0.15);\n",
              "      filter: drop-shadow(0px 1px 2px rgba(0, 0, 0, 0.3));\n",
              "      fill: #FFFFFF;\n",
              "    }\n",
              "  </style>\n",
              "\n",
              "    <script>\n",
              "      const buttonEl =\n",
              "        document.querySelector('#df-e1a8e8ad-d90c-427e-af1a-97274e92a854 button.colab-df-convert');\n",
              "      buttonEl.style.display =\n",
              "        google.colab.kernel.accessAllowed ? 'block' : 'none';\n",
              "\n",
              "      async function convertToInteractive(key) {\n",
              "        const element = document.querySelector('#df-e1a8e8ad-d90c-427e-af1a-97274e92a854');\n",
              "        const dataTable =\n",
              "          await google.colab.kernel.invokeFunction('convertToInteractive',\n",
              "                                                    [key], {});\n",
              "        if (!dataTable) return;\n",
              "\n",
              "        const docLinkHtml = 'Like what you see? Visit the ' +\n",
              "          '<a target=\"_blank\" href=https://colab.research.google.com/notebooks/data_table.ipynb>data table notebook</a>'\n",
              "          + ' to learn more about interactive tables.';\n",
              "        element.innerHTML = '';\n",
              "        dataTable['output_type'] = 'display_data';\n",
              "        await google.colab.output.renderOutput(dataTable, element);\n",
              "        const docLink = document.createElement('div');\n",
              "        docLink.innerHTML = docLinkHtml;\n",
              "        element.appendChild(docLink);\n",
              "      }\n",
              "    </script>\n",
              "  </div>\n",
              "\n",
              "\n",
              "    <div id=\"df-58797b07-43c2-477d-acfa-ab0b59726522\">\n",
              "      <button class=\"colab-df-quickchart\" onclick=\"quickchart('df-58797b07-43c2-477d-acfa-ab0b59726522')\"\n",
              "                title=\"Suggest charts\"\n",
              "                style=\"display:none;\">\n",
              "\n",
              "<svg xmlns=\"http://www.w3.org/2000/svg\" height=\"24px\"viewBox=\"0 0 24 24\"\n",
              "     width=\"24px\">\n",
              "    <g>\n",
              "        <path d=\"M19 3H5c-1.1 0-2 .9-2 2v14c0 1.1.9 2 2 2h14c1.1 0 2-.9 2-2V5c0-1.1-.9-2-2-2zM9 17H7v-7h2v7zm4 0h-2V7h2v10zm4 0h-2v-4h2v4z\"/>\n",
              "    </g>\n",
              "</svg>\n",
              "      </button>\n",
              "\n",
              "<style>\n",
              "  .colab-df-quickchart {\n",
              "      --bg-color: #E8F0FE;\n",
              "      --fill-color: #1967D2;\n",
              "      --hover-bg-color: #E2EBFA;\n",
              "      --hover-fill-color: #174EA6;\n",
              "      --disabled-fill-color: #AAA;\n",
              "      --disabled-bg-color: #DDD;\n",
              "  }\n",
              "\n",
              "  [theme=dark] .colab-df-quickchart {\n",
              "      --bg-color: #3B4455;\n",
              "      --fill-color: #D2E3FC;\n",
              "      --hover-bg-color: #434B5C;\n",
              "      --hover-fill-color: #FFFFFF;\n",
              "      --disabled-bg-color: #3B4455;\n",
              "      --disabled-fill-color: #666;\n",
              "  }\n",
              "\n",
              "  .colab-df-quickchart {\n",
              "    background-color: var(--bg-color);\n",
              "    border: none;\n",
              "    border-radius: 50%;\n",
              "    cursor: pointer;\n",
              "    display: none;\n",
              "    fill: var(--fill-color);\n",
              "    height: 32px;\n",
              "    padding: 0;\n",
              "    width: 32px;\n",
              "  }\n",
              "\n",
              "  .colab-df-quickchart:hover {\n",
              "    background-color: var(--hover-bg-color);\n",
              "    box-shadow: 0 1px 2px rgba(60, 64, 67, 0.3), 0 1px 3px 1px rgba(60, 64, 67, 0.15);\n",
              "    fill: var(--button-hover-fill-color);\n",
              "  }\n",
              "\n",
              "  .colab-df-quickchart-complete:disabled,\n",
              "  .colab-df-quickchart-complete:disabled:hover {\n",
              "    background-color: var(--disabled-bg-color);\n",
              "    fill: var(--disabled-fill-color);\n",
              "    box-shadow: none;\n",
              "  }\n",
              "\n",
              "  .colab-df-spinner {\n",
              "    border: 2px solid var(--fill-color);\n",
              "    border-color: transparent;\n",
              "    border-bottom-color: var(--fill-color);\n",
              "    animation:\n",
              "      spin 1s steps(1) infinite;\n",
              "  }\n",
              "\n",
              "  @keyframes spin {\n",
              "    0% {\n",
              "      border-color: transparent;\n",
              "      border-bottom-color: var(--fill-color);\n",
              "      border-left-color: var(--fill-color);\n",
              "    }\n",
              "    20% {\n",
              "      border-color: transparent;\n",
              "      border-left-color: var(--fill-color);\n",
              "      border-top-color: var(--fill-color);\n",
              "    }\n",
              "    30% {\n",
              "      border-color: transparent;\n",
              "      border-left-color: var(--fill-color);\n",
              "      border-top-color: var(--fill-color);\n",
              "      border-right-color: var(--fill-color);\n",
              "    }\n",
              "    40% {\n",
              "      border-color: transparent;\n",
              "      border-right-color: var(--fill-color);\n",
              "      border-top-color: var(--fill-color);\n",
              "    }\n",
              "    60% {\n",
              "      border-color: transparent;\n",
              "      border-right-color: var(--fill-color);\n",
              "    }\n",
              "    80% {\n",
              "      border-color: transparent;\n",
              "      border-right-color: var(--fill-color);\n",
              "      border-bottom-color: var(--fill-color);\n",
              "    }\n",
              "    90% {\n",
              "      border-color: transparent;\n",
              "      border-bottom-color: var(--fill-color);\n",
              "    }\n",
              "  }\n",
              "</style>\n",
              "\n",
              "      <script>\n",
              "        async function quickchart(key) {\n",
              "          const quickchartButtonEl =\n",
              "            document.querySelector('#' + key + ' button');\n",
              "          quickchartButtonEl.disabled = true;  // To prevent multiple clicks.\n",
              "          quickchartButtonEl.classList.add('colab-df-spinner');\n",
              "          try {\n",
              "            const charts = await google.colab.kernel.invokeFunction(\n",
              "                'suggestCharts', [key], {});\n",
              "          } catch (error) {\n",
              "            console.error('Error during call to suggestCharts:', error);\n",
              "          }\n",
              "          quickchartButtonEl.classList.remove('colab-df-spinner');\n",
              "          quickchartButtonEl.classList.add('colab-df-quickchart-complete');\n",
              "        }\n",
              "        (() => {\n",
              "          let quickchartButtonEl =\n",
              "            document.querySelector('#df-58797b07-43c2-477d-acfa-ab0b59726522 button');\n",
              "          quickchartButtonEl.style.display =\n",
              "            google.colab.kernel.accessAllowed ? 'block' : 'none';\n",
              "        })();\n",
              "      </script>\n",
              "    </div>\n",
              "\n",
              "    </div>\n",
              "  </div>\n"
            ],
            "application/vnd.google.colaboratory.intrinsic+json": {
              "type": "dataframe",
              "variable_name": "adv_df",
              "summary": "{\n  \"name\": \"adv_df\",\n  \"rows\": 100,\n  \"fields\": [\n    {\n      \"column\": \"original\",\n      \"properties\": {\n        \"dtype\": \"string\",\n        \"num_unique_values\": 100,\n        \"samples\": [\n          \"1000's flirting NOW! Txt GIRL or BLOKE & ur NAME & AGE, eg GIRL ZOE 18 to 8007 to join and get chatting!\",\n          \"We tried to contact you re your reply to our offer of a Video Handset? 750 anytime networks mins? UNLIMITED TEXT? Camcorder? Reply or call 08000930705 NOW\",\n          \"FreeMsg: Hey - I'm Buffy. 25 and love to satisfy men. Home alone feeling randy. Reply 2 C my PIX! QlynnBV Help08700621170150p a msg Send stop to stop txts\"\n        ],\n        \"semantic_type\": \"\",\n        \"description\": \"\"\n      }\n    },\n    {\n      \"column\": \"adv_text\",\n      \"properties\": {\n        \"dtype\": \"string\",\n        \"num_unique_values\": 100,\n        \"samples\": [\n          \"1000's flirted HENCEFORTH! Txt GIRL or HOMBRE & thier APPOINTED & AGE, ey GIRL HORVATH 18 to 8007 to concur and attains schmooze!\",\n          \"We struggled to interacted you er your retaliated to our render of a Clip Tel? 750 everytime networks minute? BOUNDLESS PHRASE? Panasonic? Replied or wondering 08000930705 HOY\",\n          \"FreeMsg: Oh - I'm Buffy. 25 and loved to contented humans. Sojourn alone thought brandon. Riposte 2 iii my PIX! QlynnBV Help08700621170150p a voicemail Expedition pauses to desist txts\"\n        ],\n        \"semantic_type\": \"\",\n        \"description\": \"\"\n      }\n    },\n    {\n      \"column\": \"success\",\n      \"properties\": {\n        \"dtype\": \"boolean\",\n        \"num_unique_values\": 2,\n        \"samples\": [\n          false,\n          true\n        ],\n        \"semantic_type\": \"\",\n        \"description\": \"\"\n      }\n    },\n    {\n      \"column\": \"orig_label\",\n      \"properties\": {\n        \"dtype\": \"number\",\n        \"std\": 0,\n        \"min\": 1,\n        \"max\": 1,\n        \"num_unique_values\": 1,\n        \"samples\": [\n          1\n        ],\n        \"semantic_type\": \"\",\n        \"description\": \"\"\n      }\n    }\n  ]\n}"
            }
          },
          "metadata": {},
          "execution_count": 23
        }
      ]
    },
    {
      "cell_type": "code",
      "source": [
        "# --- Cell 10: Build adversarial test set and evaluate baseline model on it ---\n",
        "# We'll append all perturbed texts (both successful and unsuccessful) to the attacked test set,\n",
        "# or you can choose to include only successful adversarials (success==True). Here we include perturbed texts.\n",
        "perturbed_texts = adv_df['adv_text'].tolist()\n",
        "pert_labels = [1]*len(perturbed_texts)   # spam label\n",
        "\n",
        "# Create a pandas adv test DF: we can append to original test_df or create fresh small adv test.\n",
        "adv_test_small = pd.DataFrame({\"message\": perturbed_texts, \"label\": pert_labels})\n",
        "# Tokenize and make HF dataset\n",
        "hf_adv_test = Dataset.from_pandas(adv_test_small[['message','label']].rename(columns={'label':'label'}))\n",
        "hf_adv_test = hf_adv_test.map(lambda x: tokenizer(x[\"message\"], truncation=True, padding=\"max_length\", max_length=MAX_SEQ_LENGTH), batched=True)\n",
        "if \"message\" in hf_adv_test.column_names:\n",
        "    hf_adv_test = hf_adv_test.remove_columns([\"message\"])\n",
        "if \"__index_level_0__\" in hf_adv_test.column_names:\n",
        "    hf_adv_test = hf_adv_test.remove_columns([\"__index_level_0__\"])\n",
        "hf_adv_test.set_format(type=\"torch\", columns=[\"input_ids\",\"attention_mask\",\"label\"])\n",
        "\n",
        "# Evaluate baseline model on adversarial examples\n",
        "adv_eval = trainer.evaluate(eval_dataset=hf_adv_test)\n",
        "adv_acc = adv_eval.get(\"eval_accuracy\", None)\n",
        "print(f\"Baseline accuracy on TextAttack adversarials: {adv_acc:.4f}\")\n",
        "\n",
        "# For detail, get classification report by running predictions\n",
        "preds_output_adv = trainer.predict(hf_adv_test)\n",
        "preds_adv = np.argmax(preds_output_adv.predictions, axis=-1)\n",
        "labels_adv = preds_output_adv.label_ids\n",
        "print(\"\\nClassification report on TextAttack adv set:\\n\", classification_report(labels_adv, preds_adv, target_names=[\"ham\",\"spam\"]))\n"
      ],
      "metadata": {
        "colab": {
          "base_uri": "https://localhost:8080/",
          "height": 381,
          "referenced_widgets": [
            "d96d564c4c7f48a5994c8c7d1a6be216",
            "8fc5f58476e54a51943db06e86283abd",
            "fba30d6cf3c848a89a19f474b140433a",
            "3b906c9939624d35a977e9cf5f2736b2",
            "33b4cc966de24cb99464245c5ea74bc2",
            "0801ad26e6104ccc9ed739f01a6ad503",
            "b502510515684679b4be0b29cf5e34dc",
            "a7dc680c9ede427ca0dccdf79dbc5302",
            "c5364a88d32a442dabeb0d55c78e0fdc",
            "79a9f399415945bf96d7fc18e98261f1",
            "9f5ca58137994a8db4921da7559a4ad9"
          ]
        },
        "id": "3xYLNLk9wLFe",
        "outputId": "0b7392b1-8446-41fe-fe4d-7cf39ce322c5"
      },
      "execution_count": 24,
      "outputs": [
        {
          "output_type": "display_data",
          "data": {
            "text/plain": [
              "Map:   0%|          | 0/100 [00:00<?, ? examples/s]"
            ],
            "application/vnd.jupyter.widget-view+json": {
              "version_major": 2,
              "version_minor": 0,
              "model_id": "d96d564c4c7f48a5994c8c7d1a6be216"
            }
          },
          "metadata": {}
        },
        {
          "output_type": "display_data",
          "data": {
            "text/plain": [
              "<IPython.core.display.HTML object>"
            ],
            "text/html": []
          },
          "metadata": {}
        },
        {
          "output_type": "stream",
          "name": "stdout",
          "text": [
            "Baseline accuracy on TextAttack adversarials: 0.8800\n",
            "\n",
            "Classification report on TextAttack adv set:\n",
            "               precision    recall  f1-score   support\n",
            "\n",
            "         ham       0.00      0.00      0.00         0\n",
            "        spam       1.00      0.88      0.94       100\n",
            "\n",
            "    accuracy                           0.88       100\n",
            "   macro avg       0.50      0.44      0.47       100\n",
            "weighted avg       1.00      0.88      0.94       100\n",
            "\n"
          ]
        },
        {
          "output_type": "stream",
          "name": "stderr",
          "text": [
            "/usr/local/lib/python3.12/dist-packages/sklearn/metrics/_classification.py:1565: UndefinedMetricWarning: Recall is ill-defined and being set to 0.0 in labels with no true samples. Use `zero_division` parameter to control this behavior.\n",
            "  _warn_prf(average, modifier, f\"{metric.capitalize()} is\", len(result))\n",
            "/usr/local/lib/python3.12/dist-packages/sklearn/metrics/_classification.py:1565: UndefinedMetricWarning: Recall is ill-defined and being set to 0.0 in labels with no true samples. Use `zero_division` parameter to control this behavior.\n",
            "  _warn_prf(average, modifier, f\"{metric.capitalize()} is\", len(result))\n",
            "/usr/local/lib/python3.12/dist-packages/sklearn/metrics/_classification.py:1565: UndefinedMetricWarning: Recall is ill-defined and being set to 0.0 in labels with no true samples. Use `zero_division` parameter to control this behavior.\n",
            "  _warn_prf(average, modifier, f\"{metric.capitalize()} is\", len(result))\n"
          ]
        }
      ]
    },
    {
      "cell_type": "code",
      "source": [
        "# --- Cell 11: Save successful adversarials and optionally add to train set for adversarial training ---\n",
        "successful_adv = adv_df[adv_df['success'] == True].reset_index(drop=True)\n",
        "print(\"Successful adversarials count:\", len(successful_adv))\n",
        "\n",
        "# Decide how many to add to training set\n",
        "n_to_add = int(len(successful_adv) * ADD_ADV_TO_TRAIN_RATIO)\n",
        "adv_for_train = successful_adv['adv_text'].tolist()[:n_to_add]\n",
        "print(\"Adding to train:\", n_to_add)\n",
        "\n",
        "# Build adv_train_df and append to train_df (we will map label 1)\n",
        "if n_to_add > 0:\n",
        "    adv_train_df = pd.DataFrame({\"message\": adv_for_train, \"label_id\": [1]*len(adv_for_train)})\n",
        "    train_aug_df = pd.concat([train_df[['message','label_id']].rename(columns={'label_id':'label'}), adv_train_df.rename(columns={'label_id':'label'})], ignore_index=True).sample(frac=1, random_state=RANDOM_SEED).reset_index(drop=True)\n",
        "else:\n",
        "    train_aug_df = train_df[['message','label_id']].rename(columns={'label_id':'label'})\n",
        "\n",
        "# Create HF dataset for train_aug\n",
        "hf_train_aug = Dataset.from_pandas(train_aug_df)\n",
        "hf_train_aug = hf_train_aug.map(lambda x: tokenizer(x[\"message\"], truncation=True, padding=\"max_length\", max_length=MAX_SEQ_LENGTH), batched=True)\n",
        "if \"message\" in hf_train_aug.column_names:\n",
        "    hf_train_aug = hf_train_aug.remove_columns([\"message\"])\n",
        "if \"__index_level_0__\" in hf_train_aug.column_names:\n",
        "    hf_train_aug = hf_train_aug.remove_columns([\"__index_level_0__\"])\n",
        "hf_train_aug.set_format(type=\"torch\", columns=[\"input_ids\",\"attention_mask\",\"label\"])\n",
        "\n",
        "print(\"train_aug size:\", len(hf_train_aug))\n"
      ],
      "metadata": {
        "colab": {
          "base_uri": "https://localhost:8080/",
          "height": 101,
          "referenced_widgets": [
            "bb53dad7617547b48e376f545d89ddf5",
            "e74c658872324069a43c32e753fee3f0",
            "74cffbd18b394a618a5d76eeb7d2b24e",
            "d0c2ce0855684fbc99b9dab23abc6715",
            "5af7b3fd7fa14ce29c5287d2cee57418",
            "bc3e38c1b19f43dd83b62e759916ce5c",
            "751633ce1a8f4472afa4105b9efd10b5",
            "9ae5a91e3468483d9c32d795007640d8",
            "7a44d04954e84d89a4bd8d729ec039fb",
            "7bc41b4f1b1248d98214458b595d9d99",
            "cd9570dedae84a25849accf0b4dc45b9"
          ]
        },
        "id": "QHuN-ga6wUVH",
        "outputId": "032db7ba-5ea3-4382-d3cb-530eaf90efad"
      },
      "execution_count": 25,
      "outputs": [
        {
          "output_type": "stream",
          "name": "stdout",
          "text": [
            "Successful adversarials count: 99\n",
            "Adding to train: 49\n"
          ]
        },
        {
          "output_type": "display_data",
          "data": {
            "text/plain": [
              "Map:   0%|          | 0/849 [00:00<?, ? examples/s]"
            ],
            "application/vnd.jupyter.widget-view+json": {
              "version_major": 2,
              "version_minor": 0,
              "model_id": "bb53dad7617547b48e376f545d89ddf5"
            }
          },
          "metadata": {}
        },
        {
          "output_type": "stream",
          "name": "stdout",
          "text": [
            "train_aug size: 849\n"
          ]
        }
      ]
    },
    {
      "cell_type": "code",
      "source": [
        "# --- Cell 12: Retrain model with adversarial examples (adversarial training) ---\n",
        "# Load fresh model (so we start from pretrained again) or continue training same model.\n",
        "model_adv = AutoModelForSequenceClassification.from_pretrained(MODEL_NAME, num_labels=2).to(device)\n",
        "\n",
        "training_args_adv = TrainingArguments(\n",
        "    output_dir=\"adv_trained_run\",\n",
        "    num_train_epochs=EPOCHS,\n",
        "    per_device_train_batch_size=BATCH_SIZE,\n",
        "    per_device_eval_batch_size=BATCH_SIZE,\n",
        "    learning_rate=LR,\n",
        "\n",
        "    save_strategy=\"no\",\n",
        "    logging_strategy=\"epoch\",\n",
        "    seed=RANDOM_SEED,\n",
        "    report_to=[\"none\"],\n",
        "    fp16=torch.cuda.is_available(),\n",
        ")\n",
        "\n",
        "trainer_adv = Trainer(\n",
        "    model=model_adv,\n",
        "    args=training_args_adv,\n",
        "    train_dataset=hf_train_aug,\n",
        "    eval_dataset=hf_test,  # evaluate on clean test\n",
        "    compute_metrics=compute_metrics,\n",
        ")\n",
        "\n",
        "start_adv = time.time()\n",
        "trainer_adv.train()\n",
        "adv_train_time = time.time() - start_adv\n",
        "\n",
        "clean_eval_after = trainer_adv.evaluate(eval_dataset=hf_test)\n",
        "clean_after_acc = clean_eval_after.get(\"eval_accuracy\", None)\n",
        "adv_eval_after = trainer_adv.evaluate(eval_dataset=hf_adv_test)\n",
        "adv_after_acc = adv_eval_after.get(\"eval_accuracy\", None)\n",
        "\n",
        "print(f\"Clean test accuracy after adversarial training: {clean_after_acc:.4f}\")\n",
        "print(f\"Attacked test accuracy after adversarial training: {adv_after_acc:.4f}\")\n"
      ],
      "metadata": {
        "colab": {
          "base_uri": "https://localhost:8080/",
          "height": 233
        },
        "id": "TLjVZ4t9wXh-",
        "outputId": "c0bd39e5-3ebe-4543-c1da-0b78ed742df4"
      },
      "execution_count": 27,
      "outputs": [
        {
          "output_type": "stream",
          "name": "stderr",
          "text": [
            "Some weights of DistilBertForSequenceClassification were not initialized from the model checkpoint at distilbert-base-uncased and are newly initialized: ['classifier.bias', 'classifier.weight', 'pre_classifier.bias', 'pre_classifier.weight']\n",
            "You should probably TRAIN this model on a down-stream task to be able to use it for predictions and inference.\n",
            "  0%|          | 0/100 [08:39<?, ?it/s]\n"
          ]
        },
        {
          "output_type": "display_data",
          "data": {
            "text/plain": [
              "<IPython.core.display.HTML object>"
            ],
            "text/html": [
              "\n",
              "    <div>\n",
              "      \n",
              "      <progress value='54' max='54' style='width:300px; height:20px; vertical-align: middle;'></progress>\n",
              "      [54/54 00:03, Epoch 1/1]\n",
              "    </div>\n",
              "    <table border=\"1\" class=\"dataframe\">\n",
              "  <thead>\n",
              " <tr style=\"text-align: left;\">\n",
              "      <th>Step</th>\n",
              "      <th>Training Loss</th>\n",
              "    </tr>\n",
              "  </thead>\n",
              "  <tbody>\n",
              "    <tr>\n",
              "      <td>54</td>\n",
              "      <td>0.290400</td>\n",
              "    </tr>\n",
              "  </tbody>\n",
              "</table><p>"
            ]
          },
          "metadata": {}
        },
        {
          "output_type": "display_data",
          "data": {
            "text/plain": [
              "<IPython.core.display.HTML object>"
            ],
            "text/html": [
              "\n",
              "    <div>\n",
              "      \n",
              "      <progress value='20' max='13' style='width:300px; height:20px; vertical-align: middle;'></progress>\n",
              "      [13/13 00:00]\n",
              "    </div>\n",
              "    "
            ]
          },
          "metadata": {}
        },
        {
          "output_type": "stream",
          "name": "stdout",
          "text": [
            "Clean test accuracy after adversarial training: 0.9850\n",
            "Attacked test accuracy after adversarial training: 0.9400\n"
          ]
        }
      ]
    },
    {
      "cell_type": "code",
      "source": [
        "# --- Cell 13: Final reporting and saving artifacts ---\n",
        "print(\"Summary:\")\n",
        "print(\"Baseline (clean) acc:\", baseline_acc)\n",
        "print(\"Baseline on TextAttack adv set:\", adv_acc)\n",
        "print(\"After adv training - clean:\", clean_after_acc, \"attacked:\", adv_after_acc)\n",
        "\n",
        "# Save adversarial samples and summary\n",
        "os.makedirs(\"textattack_artifacts\", exist_ok=True)\n",
        "adv_df.to_csv(\"textattack_artifacts/attacks_raw.csv\", index=False)\n",
        "successful_adv.to_csv(\"textattack_artifacts/attacks_successful.csv\", index=False)\n",
        "with open(\"textattack_artifacts/summary.json\",\"w\") as f:\n",
        "    json.dump({\n",
        "        \"baseline_clean_acc\": float(baseline_acc),\n",
        "        \"baseline_adv_acc\": float(adv_acc),\n",
        "        \"after_adv_training_clean_acc\": float(clean_after_acc),\n",
        "        \"after_adv_training_adv_acc\": float(adv_after_acc),\n",
        "        \"n_attacked\": len(adv_df),\n",
        "        \"n_successful\": len(successful_adv),\n",
        "        \"n_added_to_train\": n_to_add\n",
        "    }, f, indent=2)\n",
        "\n",
        "print(\"Artifacts saved to ./textattack_artifacts\")\n"
      ],
      "metadata": {
        "colab": {
          "base_uri": "https://localhost:8080/"
        },
        "id": "AM39vXzpwlN4",
        "outputId": "d8d919a4-5258-4796-a6e0-b735ae3b8fe9"
      },
      "execution_count": 28,
      "outputs": [
        {
          "output_type": "stream",
          "name": "stdout",
          "text": [
            "Summary:\n",
            "Baseline (clean) acc: 0.985\n",
            "Baseline on TextAttack adv set: 0.88\n",
            "After adv training - clean: 0.985 attacked: 0.94\n",
            "Artifacts saved to ./textattack_artifacts\n"
          ]
        }
      ]
    }
  ]
}